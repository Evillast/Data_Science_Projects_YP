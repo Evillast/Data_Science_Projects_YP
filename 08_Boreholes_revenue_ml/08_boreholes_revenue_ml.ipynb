{
 "cells": [
  {
   "cell_type": "markdown",
   "metadata": {},
   "source": [
    "# Выбор региона для бурения нефтяных скважин"
   ]
  },
  {
   "cell_type": "markdown",
   "metadata": {
    "toc": true
   },
   "source": [
    "<h1>Содержание<span class=\"tocSkip\"></span></h1>\n",
    "<div class=\"toc\"><ul class=\"toc-item\"><li><span><a href=\"#Введение\" data-toc-modified-id=\"Введение-1\"><span class=\"toc-item-num\">1&nbsp;&nbsp;</span>Введение</a></span><ul class=\"toc-item\"><li><span><a href=\"#Цели-и-задачи\" data-toc-modified-id=\"Цели-и-задачи-1.1\"><span class=\"toc-item-num\">1.1&nbsp;&nbsp;</span>Цели и задачи</a></span></li><li><span><a href=\"#Структура-данных\" data-toc-modified-id=\"Структура-данных-1.2\"><span class=\"toc-item-num\">1.2&nbsp;&nbsp;</span>Структура данных</a></span></li></ul></li><li><span><a href=\"#Обзор-и-подготовка-данных\" data-toc-modified-id=\"Обзор-и-подготовка-данных-2\"><span class=\"toc-item-num\">2&nbsp;&nbsp;</span>Обзор и подготовка данных</a></span></li><li><span><a href=\"#Обучение-и-проверка-модели\" data-toc-modified-id=\"Обучение-и-проверка-модели-3\"><span class=\"toc-item-num\">3&nbsp;&nbsp;</span>Обучение и проверка модели</a></span></li><li><span><a href=\"#Подготовка-к-расчёту-прибыли\" data-toc-modified-id=\"Подготовка-к-расчёту-прибыли-4\"><span class=\"toc-item-num\">4&nbsp;&nbsp;</span>Подготовка к расчёту прибыли</a></span></li><li><span><a href=\"#Расчёт-прибыли-и-рисков\" data-toc-modified-id=\"Расчёт-прибыли-и-рисков-5\"><span class=\"toc-item-num\">5&nbsp;&nbsp;</span>Расчёт прибыли и рисков</a></span></li><li><span><a href=\"#Итоги-исследования\" data-toc-modified-id=\"Итоги-исследования-6\"><span class=\"toc-item-num\">6&nbsp;&nbsp;</span>Итоги исследования</a></span></li></ul></div>"
   ]
  },
  {
   "cell_type": "markdown",
   "metadata": {},
   "source": [
    "## Введение"
   ]
  },
  {
   "cell_type": "markdown",
   "metadata": {},
   "source": [
    "Добывающей компании «ГлавРосГосНефть» нужно решить, где бурить новые скважины.\n",
    "\n",
    "Нам предоставлены пробы нефти в трёх регионах: в каждом 100 000 месторождений, где измерили качество нефти и объём её запасов."
   ]
  },
  {
   "cell_type": "markdown",
   "metadata": {},
   "source": [
    "### Цели и задачи"
   ]
  },
  {
   "cell_type": "markdown",
   "metadata": {},
   "source": [
    "**Цель исследования:**\n",
    "\n",
    "Выбрать регион для разработки скважин.\n",
    "\n",
    "**Задачи:**\n",
    "\n",
    "1. Провести обзор и подготовку данных;\n",
    "2. Построить модель машинного обучения, которая поможет определить регион, где добыча принесёт наибольшую прибыль;\n",
    "3. Проанализировать возможную прибыль и риски техникой *Bootstrap.*\n",
    "\n",
    "**Условия задачи:**\n",
    "\n",
    "- Для обучения модели подходит только линейная регрессия;\n",
    "- При разведке региона исследуют 500 скважин, из которых с помощью машинного обучения выбирают 200 лучших для разработки;\n",
    "- Бюджет на разработку скважин в регионе — 10 млрд рублей;\n",
    "- При нынешних ценах один баррель сырья приносит 450 рублей дохода. Доход с каждой единицы продукта составляет 450 тыс. рублей, поскольку объём указан в тысячах баррелей;\n",
    "- После оценки рисков нужно оставить лишь те регионы, в которых вероятность убытков меньше 2.5%. Среди них выбирают регион с наибольшей средней прибылью."
   ]
  },
  {
   "cell_type": "markdown",
   "metadata": {},
   "source": [
    "### Структура данных"
   ]
  },
  {
   "cell_type": "markdown",
   "metadata": {},
   "source": [
    "Данные геологоразведки трёх регионов находятся в трёх файлах.\n",
    "\n",
    "Данные синтетические: детали контрактов и характеристики месторождений не разглашаются.\n",
    "\n",
    "- **`id`** — уникальный идентификатор скважины;\n",
    "- **`f0`**, **`f1`**, **`f2`** — три признака точек;\n",
    "- **`product`** — объём запасов в скважине (тыс. баррелей)."
   ]
  },
  {
   "cell_type": "markdown",
   "metadata": {},
   "source": [
    "## Обзор и подготовка данных"
   ]
  },
  {
   "cell_type": "code",
   "execution_count": 1,
   "metadata": {},
   "outputs": [],
   "source": [
    "import pandas as pd\n",
    "import matplotlib.pyplot as plt\n",
    "import seaborn as sns\n",
    "import numpy as np\n",
    "\n",
    "from sklearn.model_selection import train_test_split\n",
    "from sklearn.linear_model import LinearRegression\n",
    "from sklearn.metrics import mean_squared_error, mean_absolute_error, r2_score"
   ]
  },
  {
   "cell_type": "code",
   "execution_count": 2,
   "metadata": {},
   "outputs": [],
   "source": [
    "BOREHOLES = 500 # Скважин исследуют в регионе\n",
    "BEST_BOREHOLES = 200 # Скважин выбирают для разработки с помощью ML\n",
    "BUDGET = 10000 # Бюджет в млн. руб.\n",
    "BARREL_PRICE = 0.45 # Доход с 1 тыс. баррелей в млн. руб.\n",
    "RISK_BORDER = 0.025 # Граница допустимой вероятности убытков в долях"
   ]
  },
  {
   "cell_type": "code",
   "execution_count": 3,
   "metadata": {},
   "outputs": [],
   "source": [
    "reg_1 = pd.read_csv('https://code.s3.yandex.net//datasets/geo_data_0.csv')\n",
    "reg_2 = pd.read_csv('https://code.s3.yandex.net//datasets/geo_data_1.csv')\n",
    "reg_3 = pd.read_csv('https://code.s3.yandex.net//datasets/geo_data_2.csv')"
   ]
  },
  {
   "cell_type": "markdown",
   "metadata": {},
   "source": [
    "Выведем на экран основную информацию о данных:"
   ]
  },
  {
   "cell_type": "code",
   "execution_count": 4,
   "metadata": {},
   "outputs": [],
   "source": [
    "# Создаем список и словарь регионов, чтобы итерировать по ним\n",
    "reg_list = [reg_1, reg_2, reg_3]\n",
    "reg_dict = {0: 'Регион 1', 1: 'Регион 2', 2: 'Регион 3'}"
   ]
  },
  {
   "cell_type": "code",
   "execution_count": 5,
   "metadata": {},
   "outputs": [
    {
     "name": "stdout",
     "output_type": "stream",
     "text": [
      "\n",
      "Регион 1\n",
      "\n",
      "<class 'pandas.core.frame.DataFrame'>\n",
      "RangeIndex: 100000 entries, 0 to 99999\n",
      "Data columns (total 5 columns):\n",
      " #   Column   Non-Null Count   Dtype  \n",
      "---  ------   --------------   -----  \n",
      " 0   id       100000 non-null  object \n",
      " 1   f0       100000 non-null  float64\n",
      " 2   f1       100000 non-null  float64\n",
      " 3   f2       100000 non-null  float64\n",
      " 4   product  100000 non-null  float64\n",
      "dtypes: float64(4), object(1)\n",
      "memory usage: 3.8+ MB\n",
      "\n",
      "\n",
      "Регион 2\n",
      "\n",
      "<class 'pandas.core.frame.DataFrame'>\n",
      "RangeIndex: 100000 entries, 0 to 99999\n",
      "Data columns (total 5 columns):\n",
      " #   Column   Non-Null Count   Dtype  \n",
      "---  ------   --------------   -----  \n",
      " 0   id       100000 non-null  object \n",
      " 1   f0       100000 non-null  float64\n",
      " 2   f1       100000 non-null  float64\n",
      " 3   f2       100000 non-null  float64\n",
      " 4   product  100000 non-null  float64\n",
      "dtypes: float64(4), object(1)\n",
      "memory usage: 3.8+ MB\n",
      "\n",
      "\n",
      "Регион 3\n",
      "\n",
      "<class 'pandas.core.frame.DataFrame'>\n",
      "RangeIndex: 100000 entries, 0 to 99999\n",
      "Data columns (total 5 columns):\n",
      " #   Column   Non-Null Count   Dtype  \n",
      "---  ------   --------------   -----  \n",
      " 0   id       100000 non-null  object \n",
      " 1   f0       100000 non-null  float64\n",
      " 2   f1       100000 non-null  float64\n",
      " 3   f2       100000 non-null  float64\n",
      " 4   product  100000 non-null  float64\n",
      "dtypes: float64(4), object(1)\n",
      "memory usage: 3.8+ MB\n",
      "\n"
     ]
    }
   ],
   "source": [
    "for i in range(len(reg_list)):\n",
    "    print()\n",
    "    print(reg_dict.get(i))\n",
    "    print()\n",
    "    reg_list[i].info()\n",
    "    print()"
   ]
  },
  {
   "cell_type": "markdown",
   "metadata": {},
   "source": [
    "Видим, что каждый из трех датафреймов состоит из 100 тысяч строк.\n",
    "\n",
    "Пропусков в данных нет. Все столбцы, кроме **'id'**, принадлежат к числовому типу."
   ]
  },
  {
   "cell_type": "markdown",
   "metadata": {},
   "source": [
    "Выведем на экран первые строки таблиц:"
   ]
  },
  {
   "cell_type": "code",
   "execution_count": 6,
   "metadata": {},
   "outputs": [
    {
     "name": "stdout",
     "output_type": "stream",
     "text": [
      "\n",
      "Регион 1\n"
     ]
    },
    {
     "data": {
      "text/html": [
       "<div>\n",
       "<style scoped>\n",
       "    .dataframe tbody tr th:only-of-type {\n",
       "        vertical-align: middle;\n",
       "    }\n",
       "\n",
       "    .dataframe tbody tr th {\n",
       "        vertical-align: top;\n",
       "    }\n",
       "\n",
       "    .dataframe thead th {\n",
       "        text-align: right;\n",
       "    }\n",
       "</style>\n",
       "<table border=\"1\" class=\"dataframe\">\n",
       "  <thead>\n",
       "    <tr style=\"text-align: right;\">\n",
       "      <th></th>\n",
       "      <th>id</th>\n",
       "      <th>f0</th>\n",
       "      <th>f1</th>\n",
       "      <th>f2</th>\n",
       "      <th>product</th>\n",
       "    </tr>\n",
       "  </thead>\n",
       "  <tbody>\n",
       "    <tr>\n",
       "      <th>0</th>\n",
       "      <td>txEyH</td>\n",
       "      <td>0.705745</td>\n",
       "      <td>-0.497823</td>\n",
       "      <td>1.221170</td>\n",
       "      <td>105.280062</td>\n",
       "    </tr>\n",
       "    <tr>\n",
       "      <th>1</th>\n",
       "      <td>2acmU</td>\n",
       "      <td>1.334711</td>\n",
       "      <td>-0.340164</td>\n",
       "      <td>4.365080</td>\n",
       "      <td>73.037750</td>\n",
       "    </tr>\n",
       "    <tr>\n",
       "      <th>2</th>\n",
       "      <td>409Wp</td>\n",
       "      <td>1.022732</td>\n",
       "      <td>0.151990</td>\n",
       "      <td>1.419926</td>\n",
       "      <td>85.265647</td>\n",
       "    </tr>\n",
       "    <tr>\n",
       "      <th>3</th>\n",
       "      <td>iJLyR</td>\n",
       "      <td>-0.032172</td>\n",
       "      <td>0.139033</td>\n",
       "      <td>2.978566</td>\n",
       "      <td>168.620776</td>\n",
       "    </tr>\n",
       "    <tr>\n",
       "      <th>4</th>\n",
       "      <td>Xdl7t</td>\n",
       "      <td>1.988431</td>\n",
       "      <td>0.155413</td>\n",
       "      <td>4.751769</td>\n",
       "      <td>154.036647</td>\n",
       "    </tr>\n",
       "  </tbody>\n",
       "</table>\n",
       "</div>"
      ],
      "text/plain": [
       "      id        f0        f1        f2     product\n",
       "0  txEyH  0.705745 -0.497823  1.221170  105.280062\n",
       "1  2acmU  1.334711 -0.340164  4.365080   73.037750\n",
       "2  409Wp  1.022732  0.151990  1.419926   85.265647\n",
       "3  iJLyR -0.032172  0.139033  2.978566  168.620776\n",
       "4  Xdl7t  1.988431  0.155413  4.751769  154.036647"
      ]
     },
     "metadata": {},
     "output_type": "display_data"
    },
    {
     "name": "stdout",
     "output_type": "stream",
     "text": [
      "\n",
      "\n",
      "Регион 2\n"
     ]
    },
    {
     "data": {
      "text/html": [
       "<div>\n",
       "<style scoped>\n",
       "    .dataframe tbody tr th:only-of-type {\n",
       "        vertical-align: middle;\n",
       "    }\n",
       "\n",
       "    .dataframe tbody tr th {\n",
       "        vertical-align: top;\n",
       "    }\n",
       "\n",
       "    .dataframe thead th {\n",
       "        text-align: right;\n",
       "    }\n",
       "</style>\n",
       "<table border=\"1\" class=\"dataframe\">\n",
       "  <thead>\n",
       "    <tr style=\"text-align: right;\">\n",
       "      <th></th>\n",
       "      <th>id</th>\n",
       "      <th>f0</th>\n",
       "      <th>f1</th>\n",
       "      <th>f2</th>\n",
       "      <th>product</th>\n",
       "    </tr>\n",
       "  </thead>\n",
       "  <tbody>\n",
       "    <tr>\n",
       "      <th>0</th>\n",
       "      <td>kBEdx</td>\n",
       "      <td>-15.001348</td>\n",
       "      <td>-8.276000</td>\n",
       "      <td>-0.005876</td>\n",
       "      <td>3.179103</td>\n",
       "    </tr>\n",
       "    <tr>\n",
       "      <th>1</th>\n",
       "      <td>62mP7</td>\n",
       "      <td>14.272088</td>\n",
       "      <td>-3.475083</td>\n",
       "      <td>0.999183</td>\n",
       "      <td>26.953261</td>\n",
       "    </tr>\n",
       "    <tr>\n",
       "      <th>2</th>\n",
       "      <td>vyE1P</td>\n",
       "      <td>6.263187</td>\n",
       "      <td>-5.948386</td>\n",
       "      <td>5.001160</td>\n",
       "      <td>134.766305</td>\n",
       "    </tr>\n",
       "    <tr>\n",
       "      <th>3</th>\n",
       "      <td>KcrkZ</td>\n",
       "      <td>-13.081196</td>\n",
       "      <td>-11.506057</td>\n",
       "      <td>4.999415</td>\n",
       "      <td>137.945408</td>\n",
       "    </tr>\n",
       "    <tr>\n",
       "      <th>4</th>\n",
       "      <td>AHL4O</td>\n",
       "      <td>12.702195</td>\n",
       "      <td>-8.147433</td>\n",
       "      <td>5.004363</td>\n",
       "      <td>134.766305</td>\n",
       "    </tr>\n",
       "  </tbody>\n",
       "</table>\n",
       "</div>"
      ],
      "text/plain": [
       "      id         f0         f1        f2     product\n",
       "0  kBEdx -15.001348  -8.276000 -0.005876    3.179103\n",
       "1  62mP7  14.272088  -3.475083  0.999183   26.953261\n",
       "2  vyE1P   6.263187  -5.948386  5.001160  134.766305\n",
       "3  KcrkZ -13.081196 -11.506057  4.999415  137.945408\n",
       "4  AHL4O  12.702195  -8.147433  5.004363  134.766305"
      ]
     },
     "metadata": {},
     "output_type": "display_data"
    },
    {
     "name": "stdout",
     "output_type": "stream",
     "text": [
      "\n",
      "\n",
      "Регион 3\n"
     ]
    },
    {
     "data": {
      "text/html": [
       "<div>\n",
       "<style scoped>\n",
       "    .dataframe tbody tr th:only-of-type {\n",
       "        vertical-align: middle;\n",
       "    }\n",
       "\n",
       "    .dataframe tbody tr th {\n",
       "        vertical-align: top;\n",
       "    }\n",
       "\n",
       "    .dataframe thead th {\n",
       "        text-align: right;\n",
       "    }\n",
       "</style>\n",
       "<table border=\"1\" class=\"dataframe\">\n",
       "  <thead>\n",
       "    <tr style=\"text-align: right;\">\n",
       "      <th></th>\n",
       "      <th>id</th>\n",
       "      <th>f0</th>\n",
       "      <th>f1</th>\n",
       "      <th>f2</th>\n",
       "      <th>product</th>\n",
       "    </tr>\n",
       "  </thead>\n",
       "  <tbody>\n",
       "    <tr>\n",
       "      <th>0</th>\n",
       "      <td>fwXo0</td>\n",
       "      <td>-1.146987</td>\n",
       "      <td>0.963328</td>\n",
       "      <td>-0.828965</td>\n",
       "      <td>27.758673</td>\n",
       "    </tr>\n",
       "    <tr>\n",
       "      <th>1</th>\n",
       "      <td>WJtFt</td>\n",
       "      <td>0.262778</td>\n",
       "      <td>0.269839</td>\n",
       "      <td>-2.530187</td>\n",
       "      <td>56.069697</td>\n",
       "    </tr>\n",
       "    <tr>\n",
       "      <th>2</th>\n",
       "      <td>ovLUW</td>\n",
       "      <td>0.194587</td>\n",
       "      <td>0.289035</td>\n",
       "      <td>-5.586433</td>\n",
       "      <td>62.871910</td>\n",
       "    </tr>\n",
       "    <tr>\n",
       "      <th>3</th>\n",
       "      <td>q6cA6</td>\n",
       "      <td>2.236060</td>\n",
       "      <td>-0.553760</td>\n",
       "      <td>0.930038</td>\n",
       "      <td>114.572842</td>\n",
       "    </tr>\n",
       "    <tr>\n",
       "      <th>4</th>\n",
       "      <td>WPMUX</td>\n",
       "      <td>-0.515993</td>\n",
       "      <td>1.716266</td>\n",
       "      <td>5.899011</td>\n",
       "      <td>149.600746</td>\n",
       "    </tr>\n",
       "  </tbody>\n",
       "</table>\n",
       "</div>"
      ],
      "text/plain": [
       "      id        f0        f1        f2     product\n",
       "0  fwXo0 -1.146987  0.963328 -0.828965   27.758673\n",
       "1  WJtFt  0.262778  0.269839 -2.530187   56.069697\n",
       "2  ovLUW  0.194587  0.289035 -5.586433   62.871910\n",
       "3  q6cA6  2.236060 -0.553760  0.930038  114.572842\n",
       "4  WPMUX -0.515993  1.716266  5.899011  149.600746"
      ]
     },
     "metadata": {},
     "output_type": "display_data"
    },
    {
     "name": "stdout",
     "output_type": "stream",
     "text": [
      "\n"
     ]
    }
   ],
   "source": [
    "for i in range(len(reg_list)):\n",
    "    print()\n",
    "    print(reg_dict.get(i))\n",
    "    display(reg_list[i].head())\n",
    "    print()"
   ]
  },
  {
   "cell_type": "markdown",
   "metadata": {},
   "source": [
    "Теперь выведем для каждого датафрейма основные статистические параметры:"
   ]
  },
  {
   "cell_type": "code",
   "execution_count": 7,
   "metadata": {},
   "outputs": [
    {
     "name": "stdout",
     "output_type": "stream",
     "text": [
      "\n",
      "Регион 1. Описание данных\n"
     ]
    },
    {
     "data": {
      "text/html": [
       "<div>\n",
       "<style scoped>\n",
       "    .dataframe tbody tr th:only-of-type {\n",
       "        vertical-align: middle;\n",
       "    }\n",
       "\n",
       "    .dataframe tbody tr th {\n",
       "        vertical-align: top;\n",
       "    }\n",
       "\n",
       "    .dataframe thead th {\n",
       "        text-align: right;\n",
       "    }\n",
       "</style>\n",
       "<table border=\"1\" class=\"dataframe\">\n",
       "  <thead>\n",
       "    <tr style=\"text-align: right;\">\n",
       "      <th></th>\n",
       "      <th>f0</th>\n",
       "      <th>f1</th>\n",
       "      <th>f2</th>\n",
       "      <th>product</th>\n",
       "    </tr>\n",
       "  </thead>\n",
       "  <tbody>\n",
       "    <tr>\n",
       "      <th>count</th>\n",
       "      <td>100000.000000</td>\n",
       "      <td>100000.000000</td>\n",
       "      <td>100000.000000</td>\n",
       "      <td>100000.000000</td>\n",
       "    </tr>\n",
       "    <tr>\n",
       "      <th>mean</th>\n",
       "      <td>0.500419</td>\n",
       "      <td>0.250143</td>\n",
       "      <td>2.502647</td>\n",
       "      <td>92.500000</td>\n",
       "    </tr>\n",
       "    <tr>\n",
       "      <th>std</th>\n",
       "      <td>0.871832</td>\n",
       "      <td>0.504433</td>\n",
       "      <td>3.248248</td>\n",
       "      <td>44.288691</td>\n",
       "    </tr>\n",
       "    <tr>\n",
       "      <th>min</th>\n",
       "      <td>-1.408605</td>\n",
       "      <td>-0.848218</td>\n",
       "      <td>-12.088328</td>\n",
       "      <td>0.000000</td>\n",
       "    </tr>\n",
       "    <tr>\n",
       "      <th>25%</th>\n",
       "      <td>-0.072580</td>\n",
       "      <td>-0.200881</td>\n",
       "      <td>0.287748</td>\n",
       "      <td>56.497507</td>\n",
       "    </tr>\n",
       "    <tr>\n",
       "      <th>50%</th>\n",
       "      <td>0.502360</td>\n",
       "      <td>0.250252</td>\n",
       "      <td>2.515969</td>\n",
       "      <td>91.849972</td>\n",
       "    </tr>\n",
       "    <tr>\n",
       "      <th>75%</th>\n",
       "      <td>1.073581</td>\n",
       "      <td>0.700646</td>\n",
       "      <td>4.715088</td>\n",
       "      <td>128.564089</td>\n",
       "    </tr>\n",
       "    <tr>\n",
       "      <th>max</th>\n",
       "      <td>2.362331</td>\n",
       "      <td>1.343769</td>\n",
       "      <td>16.003790</td>\n",
       "      <td>185.364347</td>\n",
       "    </tr>\n",
       "  </tbody>\n",
       "</table>\n",
       "</div>"
      ],
      "text/plain": [
       "                  f0             f1             f2        product\n",
       "count  100000.000000  100000.000000  100000.000000  100000.000000\n",
       "mean        0.500419       0.250143       2.502647      92.500000\n",
       "std         0.871832       0.504433       3.248248      44.288691\n",
       "min        -1.408605      -0.848218     -12.088328       0.000000\n",
       "25%        -0.072580      -0.200881       0.287748      56.497507\n",
       "50%         0.502360       0.250252       2.515969      91.849972\n",
       "75%         1.073581       0.700646       4.715088     128.564089\n",
       "max         2.362331       1.343769      16.003790     185.364347"
      ]
     },
     "metadata": {},
     "output_type": "display_data"
    },
    {
     "name": "stdout",
     "output_type": "stream",
     "text": [
      "\n",
      "\n",
      "Регион 2. Описание данных\n"
     ]
    },
    {
     "data": {
      "text/html": [
       "<div>\n",
       "<style scoped>\n",
       "    .dataframe tbody tr th:only-of-type {\n",
       "        vertical-align: middle;\n",
       "    }\n",
       "\n",
       "    .dataframe tbody tr th {\n",
       "        vertical-align: top;\n",
       "    }\n",
       "\n",
       "    .dataframe thead th {\n",
       "        text-align: right;\n",
       "    }\n",
       "</style>\n",
       "<table border=\"1\" class=\"dataframe\">\n",
       "  <thead>\n",
       "    <tr style=\"text-align: right;\">\n",
       "      <th></th>\n",
       "      <th>f0</th>\n",
       "      <th>f1</th>\n",
       "      <th>f2</th>\n",
       "      <th>product</th>\n",
       "    </tr>\n",
       "  </thead>\n",
       "  <tbody>\n",
       "    <tr>\n",
       "      <th>count</th>\n",
       "      <td>100000.000000</td>\n",
       "      <td>100000.000000</td>\n",
       "      <td>100000.000000</td>\n",
       "      <td>100000.000000</td>\n",
       "    </tr>\n",
       "    <tr>\n",
       "      <th>mean</th>\n",
       "      <td>1.141296</td>\n",
       "      <td>-4.796579</td>\n",
       "      <td>2.494541</td>\n",
       "      <td>68.825000</td>\n",
       "    </tr>\n",
       "    <tr>\n",
       "      <th>std</th>\n",
       "      <td>8.965932</td>\n",
       "      <td>5.119872</td>\n",
       "      <td>1.703572</td>\n",
       "      <td>45.944423</td>\n",
       "    </tr>\n",
       "    <tr>\n",
       "      <th>min</th>\n",
       "      <td>-31.609576</td>\n",
       "      <td>-26.358598</td>\n",
       "      <td>-0.018144</td>\n",
       "      <td>0.000000</td>\n",
       "    </tr>\n",
       "    <tr>\n",
       "      <th>25%</th>\n",
       "      <td>-6.298551</td>\n",
       "      <td>-8.267985</td>\n",
       "      <td>1.000021</td>\n",
       "      <td>26.953261</td>\n",
       "    </tr>\n",
       "    <tr>\n",
       "      <th>50%</th>\n",
       "      <td>1.153055</td>\n",
       "      <td>-4.813172</td>\n",
       "      <td>2.011479</td>\n",
       "      <td>57.085625</td>\n",
       "    </tr>\n",
       "    <tr>\n",
       "      <th>75%</th>\n",
       "      <td>8.621015</td>\n",
       "      <td>-1.332816</td>\n",
       "      <td>3.999904</td>\n",
       "      <td>107.813044</td>\n",
       "    </tr>\n",
       "    <tr>\n",
       "      <th>max</th>\n",
       "      <td>29.421755</td>\n",
       "      <td>18.734063</td>\n",
       "      <td>5.019721</td>\n",
       "      <td>137.945408</td>\n",
       "    </tr>\n",
       "  </tbody>\n",
       "</table>\n",
       "</div>"
      ],
      "text/plain": [
       "                  f0             f1             f2        product\n",
       "count  100000.000000  100000.000000  100000.000000  100000.000000\n",
       "mean        1.141296      -4.796579       2.494541      68.825000\n",
       "std         8.965932       5.119872       1.703572      45.944423\n",
       "min       -31.609576     -26.358598      -0.018144       0.000000\n",
       "25%        -6.298551      -8.267985       1.000021      26.953261\n",
       "50%         1.153055      -4.813172       2.011479      57.085625\n",
       "75%         8.621015      -1.332816       3.999904     107.813044\n",
       "max        29.421755      18.734063       5.019721     137.945408"
      ]
     },
     "metadata": {},
     "output_type": "display_data"
    },
    {
     "name": "stdout",
     "output_type": "stream",
     "text": [
      "\n",
      "\n",
      "Регион 3. Описание данных\n"
     ]
    },
    {
     "data": {
      "text/html": [
       "<div>\n",
       "<style scoped>\n",
       "    .dataframe tbody tr th:only-of-type {\n",
       "        vertical-align: middle;\n",
       "    }\n",
       "\n",
       "    .dataframe tbody tr th {\n",
       "        vertical-align: top;\n",
       "    }\n",
       "\n",
       "    .dataframe thead th {\n",
       "        text-align: right;\n",
       "    }\n",
       "</style>\n",
       "<table border=\"1\" class=\"dataframe\">\n",
       "  <thead>\n",
       "    <tr style=\"text-align: right;\">\n",
       "      <th></th>\n",
       "      <th>f0</th>\n",
       "      <th>f1</th>\n",
       "      <th>f2</th>\n",
       "      <th>product</th>\n",
       "    </tr>\n",
       "  </thead>\n",
       "  <tbody>\n",
       "    <tr>\n",
       "      <th>count</th>\n",
       "      <td>100000.000000</td>\n",
       "      <td>100000.000000</td>\n",
       "      <td>100000.000000</td>\n",
       "      <td>100000.000000</td>\n",
       "    </tr>\n",
       "    <tr>\n",
       "      <th>mean</th>\n",
       "      <td>0.002023</td>\n",
       "      <td>-0.002081</td>\n",
       "      <td>2.495128</td>\n",
       "      <td>95.000000</td>\n",
       "    </tr>\n",
       "    <tr>\n",
       "      <th>std</th>\n",
       "      <td>1.732045</td>\n",
       "      <td>1.730417</td>\n",
       "      <td>3.473445</td>\n",
       "      <td>44.749921</td>\n",
       "    </tr>\n",
       "    <tr>\n",
       "      <th>min</th>\n",
       "      <td>-8.760004</td>\n",
       "      <td>-7.084020</td>\n",
       "      <td>-11.970335</td>\n",
       "      <td>0.000000</td>\n",
       "    </tr>\n",
       "    <tr>\n",
       "      <th>25%</th>\n",
       "      <td>-1.162288</td>\n",
       "      <td>-1.174820</td>\n",
       "      <td>0.130359</td>\n",
       "      <td>59.450441</td>\n",
       "    </tr>\n",
       "    <tr>\n",
       "      <th>50%</th>\n",
       "      <td>0.009424</td>\n",
       "      <td>-0.009482</td>\n",
       "      <td>2.484236</td>\n",
       "      <td>94.925613</td>\n",
       "    </tr>\n",
       "    <tr>\n",
       "      <th>75%</th>\n",
       "      <td>1.158535</td>\n",
       "      <td>1.163678</td>\n",
       "      <td>4.858794</td>\n",
       "      <td>130.595027</td>\n",
       "    </tr>\n",
       "    <tr>\n",
       "      <th>max</th>\n",
       "      <td>7.238262</td>\n",
       "      <td>7.844801</td>\n",
       "      <td>16.739402</td>\n",
       "      <td>190.029838</td>\n",
       "    </tr>\n",
       "  </tbody>\n",
       "</table>\n",
       "</div>"
      ],
      "text/plain": [
       "                  f0             f1             f2        product\n",
       "count  100000.000000  100000.000000  100000.000000  100000.000000\n",
       "mean        0.002023      -0.002081       2.495128      95.000000\n",
       "std         1.732045       1.730417       3.473445      44.749921\n",
       "min        -8.760004      -7.084020     -11.970335       0.000000\n",
       "25%        -1.162288      -1.174820       0.130359      59.450441\n",
       "50%         0.009424      -0.009482       2.484236      94.925613\n",
       "75%         1.158535       1.163678       4.858794     130.595027\n",
       "max         7.238262       7.844801      16.739402     190.029838"
      ]
     },
     "metadata": {},
     "output_type": "display_data"
    },
    {
     "name": "stdout",
     "output_type": "stream",
     "text": [
      "\n"
     ]
    }
   ],
   "source": [
    "for i in range(len(reg_list)):\n",
    "    print()\n",
    "    print(f'{reg_dict.get(i)}. Описание данных')\n",
    "    display(reg_list[i].describe())\n",
    "    print()"
   ]
  },
  {
   "cell_type": "markdown",
   "metadata": {},
   "source": [
    "Видим, что признаки не нуждаются в масштабировании. Теперь посмотрим на общие гистограммы:"
   ]
  },
  {
   "cell_type": "code",
   "execution_count": 8,
   "metadata": {
    "scrolled": false
   },
   "outputs": [
    {
     "name": "stdout",
     "output_type": "stream",
     "text": [
      "\n",
      "Регион 1. Общая гистограмма\n"
     ]
    },
    {
     "data": {
      "image/png": "[encoded data removed]",
      "text/plain": [
       "<Figure size 800x700 with 4 Axes>"
      ]
     },
     "metadata": {},
     "output_type": "display_data"
    },
    {
     "name": "stdout",
     "output_type": "stream",
     "text": [
      "\n",
      "Регион 2. Общая гистограмма\n"
     ]
    },
    {
     "data": {
      "image/png": "[encoded data removed]",
      "text/plain": [
       "<Figure size 800x700 with 4 Axes>"
      ]
     },
     "metadata": {},
     "output_type": "display_data"
    },
    {
     "name": "stdout",
     "output_type": "stream",
     "text": [
      "\n",
      "Регион 3. Общая гистограмма\n"
     ]
    },
    {
     "data": {
      "image/png": "[encoded data removed]",
      "text/plain": [
       "<Figure size 800x700 with 4 Axes>"
      ]
     },
     "metadata": {},
     "output_type": "display_data"
    }
   ],
   "source": [
    "for i in range(len(reg_list)):\n",
    "    print()\n",
    "    print(f'{reg_dict.get(i)}. Общая гистограмма')\n",
    "    reg_list[i].hist(figsize=(8,7), bins=50, grid=False, color='aquamarine', ec='black')\n",
    "    plt.show()"
   ]
  },
  {
   "cell_type": "markdown",
   "metadata": {},
   "source": [
    "Распределение значений целевого признака **'product'** и признака **'f2'** в **регионе 2** не выглядит нормальным. Кроме того, в столбце **'product'** присутствует больше количество нулей. Посмотрим внимательнее на его состав:"
   ]
  },
  {
   "cell_type": "code",
   "execution_count": 9,
   "metadata": {},
   "outputs": [
    {
     "data": {
      "text/html": [
       "<div>\n",
       "<style scoped>\n",
       "    .dataframe tbody tr th:only-of-type {\n",
       "        vertical-align: middle;\n",
       "    }\n",
       "\n",
       "    .dataframe tbody tr th {\n",
       "        vertical-align: top;\n",
       "    }\n",
       "\n",
       "    .dataframe thead th {\n",
       "        text-align: right;\n",
       "    }\n",
       "</style>\n",
       "<table border=\"1\" class=\"dataframe\">\n",
       "  <thead>\n",
       "    <tr style=\"text-align: right;\">\n",
       "      <th></th>\n",
       "      <th>product</th>\n",
       "    </tr>\n",
       "  </thead>\n",
       "  <tbody>\n",
       "    <tr>\n",
       "      <th>53.906522</th>\n",
       "      <td>8472</td>\n",
       "    </tr>\n",
       "    <tr>\n",
       "      <th>26.953261</th>\n",
       "      <td>8468</td>\n",
       "    </tr>\n",
       "    <tr>\n",
       "      <th>84.038886</th>\n",
       "      <td>8431</td>\n",
       "    </tr>\n",
       "    <tr>\n",
       "      <th>57.085625</th>\n",
       "      <td>8390</td>\n",
       "    </tr>\n",
       "    <tr>\n",
       "      <th>3.179103</th>\n",
       "      <td>8337</td>\n",
       "    </tr>\n",
       "    <tr>\n",
       "      <th>80.859783</th>\n",
       "      <td>8320</td>\n",
       "    </tr>\n",
       "    <tr>\n",
       "      <th>30.132364</th>\n",
       "      <td>8306</td>\n",
       "    </tr>\n",
       "    <tr>\n",
       "      <th>134.766305</th>\n",
       "      <td>8304</td>\n",
       "    </tr>\n",
       "    <tr>\n",
       "      <th>110.992147</th>\n",
       "      <td>8303</td>\n",
       "    </tr>\n",
       "    <tr>\n",
       "      <th>0.000000</th>\n",
       "      <td>8235</td>\n",
       "    </tr>\n",
       "    <tr>\n",
       "      <th>137.945408</th>\n",
       "      <td>8233</td>\n",
       "    </tr>\n",
       "    <tr>\n",
       "      <th>107.813044</th>\n",
       "      <td>8201</td>\n",
       "    </tr>\n",
       "  </tbody>\n",
       "</table>\n",
       "</div>"
      ],
      "text/plain": [
       "            product\n",
       "53.906522      8472\n",
       "26.953261      8468\n",
       "84.038886      8431\n",
       "57.085625      8390\n",
       "3.179103       8337\n",
       "80.859783      8320\n",
       "30.132364      8306\n",
       "134.766305     8304\n",
       "110.992147     8303\n",
       "0.000000       8235\n",
       "137.945408     8233\n",
       "107.813044     8201"
      ]
     },
     "execution_count": 9,
     "metadata": {},
     "output_type": "execute_result"
    }
   ],
   "source": [
    "reg_2['product'].value_counts().to_frame()"
   ]
  },
  {
   "cell_type": "markdown",
   "metadata": {},
   "source": [
    "Выглядит так, будто 8235 скважин в **регионе 2** не принесли нефти вообще."
   ]
  },
  {
   "cell_type": "markdown",
   "metadata": {},
   "source": [
    "Теперь проверим данные на наличие дубликатов:"
   ]
  },
  {
   "cell_type": "code",
   "execution_count": 10,
   "metadata": {},
   "outputs": [
    {
     "name": "stdout",
     "output_type": "stream",
     "text": [
      "Количество дубликатов по id в датафрейме \"Регион 1\": 10\n",
      "Количество дубликатов по id в датафрейме \"Регион 2\": 4\n",
      "Количество дубликатов по id в датафрейме \"Регион 3\": 4\n"
     ]
    }
   ],
   "source": [
    "for i in range(len(reg_list)):\n",
    "    print(f'Количество дубликатов по id в датафрейме \"{reg_dict.get(i)}\":', reg_list[i]['id'].duplicated().sum())"
   ]
  },
  {
   "cell_type": "markdown",
   "metadata": {},
   "source": [
    "Посмотрим на строки с дублирующимися значениями **'id'**:"
   ]
  },
  {
   "cell_type": "code",
   "execution_count": 11,
   "metadata": {},
   "outputs": [
    {
     "name": "stdout",
     "output_type": "stream",
     "text": [
      "\n",
      "Регион 1\n"
     ]
    },
    {
     "data": {
      "text/html": [
       "<div>\n",
       "<style scoped>\n",
       "    .dataframe tbody tr th:only-of-type {\n",
       "        vertical-align: middle;\n",
       "    }\n",
       "\n",
       "    .dataframe tbody tr th {\n",
       "        vertical-align: top;\n",
       "    }\n",
       "\n",
       "    .dataframe thead th {\n",
       "        text-align: right;\n",
       "    }\n",
       "</style>\n",
       "<table border=\"1\" class=\"dataframe\">\n",
       "  <thead>\n",
       "    <tr style=\"text-align: right;\">\n",
       "      <th></th>\n",
       "      <th>id</th>\n",
       "      <th>f0</th>\n",
       "      <th>f1</th>\n",
       "      <th>f2</th>\n",
       "      <th>product</th>\n",
       "    </tr>\n",
       "  </thead>\n",
       "  <tbody>\n",
       "    <tr>\n",
       "      <th>66136</th>\n",
       "      <td>74z30</td>\n",
       "      <td>1.084962</td>\n",
       "      <td>-0.312358</td>\n",
       "      <td>6.990771</td>\n",
       "      <td>127.643327</td>\n",
       "    </tr>\n",
       "    <tr>\n",
       "      <th>64022</th>\n",
       "      <td>74z30</td>\n",
       "      <td>0.741456</td>\n",
       "      <td>0.459229</td>\n",
       "      <td>5.153109</td>\n",
       "      <td>140.771492</td>\n",
       "    </tr>\n",
       "    <tr>\n",
       "      <th>51970</th>\n",
       "      <td>A5aEY</td>\n",
       "      <td>-0.180335</td>\n",
       "      <td>0.935548</td>\n",
       "      <td>-2.094773</td>\n",
       "      <td>33.020205</td>\n",
       "    </tr>\n",
       "    <tr>\n",
       "      <th>3389</th>\n",
       "      <td>A5aEY</td>\n",
       "      <td>-0.039949</td>\n",
       "      <td>0.156872</td>\n",
       "      <td>0.209861</td>\n",
       "      <td>89.249364</td>\n",
       "    </tr>\n",
       "    <tr>\n",
       "      <th>69163</th>\n",
       "      <td>AGS9W</td>\n",
       "      <td>-0.933795</td>\n",
       "      <td>0.116194</td>\n",
       "      <td>-3.655896</td>\n",
       "      <td>19.230453</td>\n",
       "    </tr>\n",
       "    <tr>\n",
       "      <th>42529</th>\n",
       "      <td>AGS9W</td>\n",
       "      <td>1.454747</td>\n",
       "      <td>-0.479651</td>\n",
       "      <td>0.683380</td>\n",
       "      <td>126.370504</td>\n",
       "    </tr>\n",
       "    <tr>\n",
       "      <th>931</th>\n",
       "      <td>HZww2</td>\n",
       "      <td>0.755284</td>\n",
       "      <td>0.368511</td>\n",
       "      <td>1.863211</td>\n",
       "      <td>30.681774</td>\n",
       "    </tr>\n",
       "    <tr>\n",
       "      <th>7530</th>\n",
       "      <td>HZww2</td>\n",
       "      <td>1.061194</td>\n",
       "      <td>-0.373969</td>\n",
       "      <td>10.430210</td>\n",
       "      <td>158.828695</td>\n",
       "    </tr>\n",
       "    <tr>\n",
       "      <th>63593</th>\n",
       "      <td>QcMuo</td>\n",
       "      <td>0.635635</td>\n",
       "      <td>-0.473422</td>\n",
       "      <td>0.862670</td>\n",
       "      <td>64.578675</td>\n",
       "    </tr>\n",
       "    <tr>\n",
       "      <th>1949</th>\n",
       "      <td>QcMuo</td>\n",
       "      <td>0.506563</td>\n",
       "      <td>-0.323775</td>\n",
       "      <td>-2.215583</td>\n",
       "      <td>75.496502</td>\n",
       "    </tr>\n",
       "    <tr>\n",
       "      <th>75715</th>\n",
       "      <td>Tdehs</td>\n",
       "      <td>0.112079</td>\n",
       "      <td>0.430296</td>\n",
       "      <td>3.218993</td>\n",
       "      <td>60.964018</td>\n",
       "    </tr>\n",
       "    <tr>\n",
       "      <th>21426</th>\n",
       "      <td>Tdehs</td>\n",
       "      <td>0.829407</td>\n",
       "      <td>0.298807</td>\n",
       "      <td>-0.049563</td>\n",
       "      <td>96.035308</td>\n",
       "    </tr>\n",
       "    <tr>\n",
       "      <th>92341</th>\n",
       "      <td>TtcGQ</td>\n",
       "      <td>0.110711</td>\n",
       "      <td>1.022689</td>\n",
       "      <td>0.911381</td>\n",
       "      <td>101.318008</td>\n",
       "    </tr>\n",
       "    <tr>\n",
       "      <th>60140</th>\n",
       "      <td>TtcGQ</td>\n",
       "      <td>0.569276</td>\n",
       "      <td>-0.104876</td>\n",
       "      <td>6.440215</td>\n",
       "      <td>85.350186</td>\n",
       "    </tr>\n",
       "    <tr>\n",
       "      <th>89582</th>\n",
       "      <td>bsk9y</td>\n",
       "      <td>0.398908</td>\n",
       "      <td>-0.400253</td>\n",
       "      <td>10.122376</td>\n",
       "      <td>163.433078</td>\n",
       "    </tr>\n",
       "    <tr>\n",
       "      <th>97785</th>\n",
       "      <td>bsk9y</td>\n",
       "      <td>0.378429</td>\n",
       "      <td>0.005837</td>\n",
       "      <td>0.160827</td>\n",
       "      <td>160.637302</td>\n",
       "    </tr>\n",
       "    <tr>\n",
       "      <th>41724</th>\n",
       "      <td>bxg6G</td>\n",
       "      <td>-0.823752</td>\n",
       "      <td>0.546319</td>\n",
       "      <td>3.630479</td>\n",
       "      <td>93.007798</td>\n",
       "    </tr>\n",
       "    <tr>\n",
       "      <th>1364</th>\n",
       "      <td>bxg6G</td>\n",
       "      <td>0.411645</td>\n",
       "      <td>0.856830</td>\n",
       "      <td>-3.653440</td>\n",
       "      <td>73.604260</td>\n",
       "    </tr>\n",
       "    <tr>\n",
       "      <th>16633</th>\n",
       "      <td>fiKDv</td>\n",
       "      <td>0.157341</td>\n",
       "      <td>1.028359</td>\n",
       "      <td>5.585586</td>\n",
       "      <td>95.817889</td>\n",
       "    </tr>\n",
       "    <tr>\n",
       "      <th>90815</th>\n",
       "      <td>fiKDv</td>\n",
       "      <td>0.049883</td>\n",
       "      <td>0.841313</td>\n",
       "      <td>6.394613</td>\n",
       "      <td>137.346586</td>\n",
       "    </tr>\n",
       "  </tbody>\n",
       "</table>\n",
       "</div>"
      ],
      "text/plain": [
       "          id        f0        f1         f2     product\n",
       "66136  74z30  1.084962 -0.312358   6.990771  127.643327\n",
       "64022  74z30  0.741456  0.459229   5.153109  140.771492\n",
       "51970  A5aEY -0.180335  0.935548  -2.094773   33.020205\n",
       "3389   A5aEY -0.039949  0.156872   0.209861   89.249364\n",
       "69163  AGS9W -0.933795  0.116194  -3.655896   19.230453\n",
       "42529  AGS9W  1.454747 -0.479651   0.683380  126.370504\n",
       "931    HZww2  0.755284  0.368511   1.863211   30.681774\n",
       "7530   HZww2  1.061194 -0.373969  10.430210  158.828695\n",
       "63593  QcMuo  0.635635 -0.473422   0.862670   64.578675\n",
       "1949   QcMuo  0.506563 -0.323775  -2.215583   75.496502\n",
       "75715  Tdehs  0.112079  0.430296   3.218993   60.964018\n",
       "21426  Tdehs  0.829407  0.298807  -0.049563   96.035308\n",
       "92341  TtcGQ  0.110711  1.022689   0.911381  101.318008\n",
       "60140  TtcGQ  0.569276 -0.104876   6.440215   85.350186\n",
       "89582  bsk9y  0.398908 -0.400253  10.122376  163.433078\n",
       "97785  bsk9y  0.378429  0.005837   0.160827  160.637302\n",
       "41724  bxg6G -0.823752  0.546319   3.630479   93.007798\n",
       "1364   bxg6G  0.411645  0.856830  -3.653440   73.604260\n",
       "16633  fiKDv  0.157341  1.028359   5.585586   95.817889\n",
       "90815  fiKDv  0.049883  0.841313   6.394613  137.346586"
      ]
     },
     "metadata": {},
     "output_type": "display_data"
    },
    {
     "name": "stdout",
     "output_type": "stream",
     "text": [
      "\n",
      "Регион 2\n"
     ]
    },
    {
     "data": {
      "text/html": [
       "<div>\n",
       "<style scoped>\n",
       "    .dataframe tbody tr th:only-of-type {\n",
       "        vertical-align: middle;\n",
       "    }\n",
       "\n",
       "    .dataframe tbody tr th {\n",
       "        vertical-align: top;\n",
       "    }\n",
       "\n",
       "    .dataframe thead th {\n",
       "        text-align: right;\n",
       "    }\n",
       "</style>\n",
       "<table border=\"1\" class=\"dataframe\">\n",
       "  <thead>\n",
       "    <tr style=\"text-align: right;\">\n",
       "      <th></th>\n",
       "      <th>id</th>\n",
       "      <th>f0</th>\n",
       "      <th>f1</th>\n",
       "      <th>f2</th>\n",
       "      <th>product</th>\n",
       "    </tr>\n",
       "  </thead>\n",
       "  <tbody>\n",
       "    <tr>\n",
       "      <th>5849</th>\n",
       "      <td>5ltQ6</td>\n",
       "      <td>-3.435401</td>\n",
       "      <td>-12.296043</td>\n",
       "      <td>1.999796</td>\n",
       "      <td>57.085625</td>\n",
       "    </tr>\n",
       "    <tr>\n",
       "      <th>84461</th>\n",
       "      <td>5ltQ6</td>\n",
       "      <td>18.213839</td>\n",
       "      <td>2.191999</td>\n",
       "      <td>3.993869</td>\n",
       "      <td>107.813044</td>\n",
       "    </tr>\n",
       "    <tr>\n",
       "      <th>1305</th>\n",
       "      <td>LHZR0</td>\n",
       "      <td>11.170835</td>\n",
       "      <td>-1.945066</td>\n",
       "      <td>3.002872</td>\n",
       "      <td>80.859783</td>\n",
       "    </tr>\n",
       "    <tr>\n",
       "      <th>41906</th>\n",
       "      <td>LHZR0</td>\n",
       "      <td>-8.989672</td>\n",
       "      <td>-4.286607</td>\n",
       "      <td>2.009139</td>\n",
       "      <td>57.085625</td>\n",
       "    </tr>\n",
       "    <tr>\n",
       "      <th>2721</th>\n",
       "      <td>bfPNe</td>\n",
       "      <td>-9.494442</td>\n",
       "      <td>-5.463692</td>\n",
       "      <td>4.006042</td>\n",
       "      <td>110.992147</td>\n",
       "    </tr>\n",
       "    <tr>\n",
       "      <th>82178</th>\n",
       "      <td>bfPNe</td>\n",
       "      <td>-6.202799</td>\n",
       "      <td>-4.820045</td>\n",
       "      <td>2.995107</td>\n",
       "      <td>84.038886</td>\n",
       "    </tr>\n",
       "    <tr>\n",
       "      <th>47591</th>\n",
       "      <td>wt4Uk</td>\n",
       "      <td>-9.091098</td>\n",
       "      <td>-8.109279</td>\n",
       "      <td>-0.002314</td>\n",
       "      <td>3.179103</td>\n",
       "    </tr>\n",
       "    <tr>\n",
       "      <th>82873</th>\n",
       "      <td>wt4Uk</td>\n",
       "      <td>10.259972</td>\n",
       "      <td>-9.376355</td>\n",
       "      <td>4.994297</td>\n",
       "      <td>134.766305</td>\n",
       "    </tr>\n",
       "  </tbody>\n",
       "</table>\n",
       "</div>"
      ],
      "text/plain": [
       "          id         f0         f1        f2     product\n",
       "5849   5ltQ6  -3.435401 -12.296043  1.999796   57.085625\n",
       "84461  5ltQ6  18.213839   2.191999  3.993869  107.813044\n",
       "1305   LHZR0  11.170835  -1.945066  3.002872   80.859783\n",
       "41906  LHZR0  -8.989672  -4.286607  2.009139   57.085625\n",
       "2721   bfPNe  -9.494442  -5.463692  4.006042  110.992147\n",
       "82178  bfPNe  -6.202799  -4.820045  2.995107   84.038886\n",
       "47591  wt4Uk  -9.091098  -8.109279 -0.002314    3.179103\n",
       "82873  wt4Uk  10.259972  -9.376355  4.994297  134.766305"
      ]
     },
     "metadata": {},
     "output_type": "display_data"
    },
    {
     "name": "stdout",
     "output_type": "stream",
     "text": [
      "\n",
      "Регион 3\n"
     ]
    },
    {
     "data": {
      "text/html": [
       "<div>\n",
       "<style scoped>\n",
       "    .dataframe tbody tr th:only-of-type {\n",
       "        vertical-align: middle;\n",
       "    }\n",
       "\n",
       "    .dataframe tbody tr th {\n",
       "        vertical-align: top;\n",
       "    }\n",
       "\n",
       "    .dataframe thead th {\n",
       "        text-align: right;\n",
       "    }\n",
       "</style>\n",
       "<table border=\"1\" class=\"dataframe\">\n",
       "  <thead>\n",
       "    <tr style=\"text-align: right;\">\n",
       "      <th></th>\n",
       "      <th>id</th>\n",
       "      <th>f0</th>\n",
       "      <th>f1</th>\n",
       "      <th>f2</th>\n",
       "      <th>product</th>\n",
       "    </tr>\n",
       "  </thead>\n",
       "  <tbody>\n",
       "    <tr>\n",
       "      <th>45404</th>\n",
       "      <td>KUPhW</td>\n",
       "      <td>0.231846</td>\n",
       "      <td>-1.698941</td>\n",
       "      <td>4.990775</td>\n",
       "      <td>11.716299</td>\n",
       "    </tr>\n",
       "    <tr>\n",
       "      <th>55967</th>\n",
       "      <td>KUPhW</td>\n",
       "      <td>1.211150</td>\n",
       "      <td>3.176408</td>\n",
       "      <td>5.543540</td>\n",
       "      <td>132.831802</td>\n",
       "    </tr>\n",
       "    <tr>\n",
       "      <th>11449</th>\n",
       "      <td>VF7Jo</td>\n",
       "      <td>2.122656</td>\n",
       "      <td>-0.858275</td>\n",
       "      <td>5.746001</td>\n",
       "      <td>181.716817</td>\n",
       "    </tr>\n",
       "    <tr>\n",
       "      <th>49564</th>\n",
       "      <td>VF7Jo</td>\n",
       "      <td>-0.883115</td>\n",
       "      <td>0.560537</td>\n",
       "      <td>0.723601</td>\n",
       "      <td>136.233420</td>\n",
       "    </tr>\n",
       "    <tr>\n",
       "      <th>44378</th>\n",
       "      <td>Vcm5J</td>\n",
       "      <td>-1.229484</td>\n",
       "      <td>-2.439204</td>\n",
       "      <td>1.222909</td>\n",
       "      <td>137.968290</td>\n",
       "    </tr>\n",
       "    <tr>\n",
       "      <th>95090</th>\n",
       "      <td>Vcm5J</td>\n",
       "      <td>2.587702</td>\n",
       "      <td>1.986875</td>\n",
       "      <td>2.482245</td>\n",
       "      <td>92.327572</td>\n",
       "    </tr>\n",
       "    <tr>\n",
       "      <th>28039</th>\n",
       "      <td>xCHr8</td>\n",
       "      <td>1.633027</td>\n",
       "      <td>0.368135</td>\n",
       "      <td>-2.378367</td>\n",
       "      <td>6.120525</td>\n",
       "    </tr>\n",
       "    <tr>\n",
       "      <th>43233</th>\n",
       "      <td>xCHr8</td>\n",
       "      <td>-0.847066</td>\n",
       "      <td>2.101796</td>\n",
       "      <td>5.597130</td>\n",
       "      <td>184.388641</td>\n",
       "    </tr>\n",
       "  </tbody>\n",
       "</table>\n",
       "</div>"
      ],
      "text/plain": [
       "          id        f0        f1        f2     product\n",
       "45404  KUPhW  0.231846 -1.698941  4.990775   11.716299\n",
       "55967  KUPhW  1.211150  3.176408  5.543540  132.831802\n",
       "11449  VF7Jo  2.122656 -0.858275  5.746001  181.716817\n",
       "49564  VF7Jo -0.883115  0.560537  0.723601  136.233420\n",
       "44378  Vcm5J -1.229484 -2.439204  1.222909  137.968290\n",
       "95090  Vcm5J  2.587702  1.986875  2.482245   92.327572\n",
       "28039  xCHr8  1.633027  0.368135 -2.378367    6.120525\n",
       "43233  xCHr8 -0.847066  2.101796  5.597130  184.388641"
      ]
     },
     "metadata": {},
     "output_type": "display_data"
    }
   ],
   "source": [
    "for i in range(len(reg_list)):\n",
    "    print()\n",
    "    print(reg_dict.get(i))\n",
    "    duplicated_id = reg_list[i].query('id.duplicated(keep=False)').sort_values(by='id')\n",
    "    display(duplicated_id)"
   ]
  },
  {
   "cell_type": "markdown",
   "metadata": {},
   "source": [
    "Видим, что строки-дубликаты по параметру **'id'** различны в остальных своих параметрах. Возможно, на одних и тех же скважинах использовали разную технологию, либо это ошибка при формировании датасетов.\n",
    "\n",
    "Оставим эти дубликаты как есть и удалим из таблиц столбцы **'id'**, так как они содержат индивидуальные идентификаторы, бесполезные для обучения модели:"
   ]
  },
  {
   "cell_type": "code",
   "execution_count": 12,
   "metadata": {},
   "outputs": [],
   "source": [
    "reg_1 = reg_1.drop('id', axis=1)\n",
    "reg_2 = reg_2.drop('id', axis=1)\n",
    "reg_3 = reg_3.drop('id', axis=1)"
   ]
  },
  {
   "cell_type": "code",
   "execution_count": 13,
   "metadata": {},
   "outputs": [],
   "source": [
    "reg_list = [reg_1, reg_2, reg_3]"
   ]
  },
  {
   "cell_type": "markdown",
   "metadata": {},
   "source": [
    "Теперь рассмотрим корреляции признаков."
   ]
  },
  {
   "cell_type": "code",
   "execution_count": 14,
   "metadata": {},
   "outputs": [
    {
     "data": {
      "image/png": "[encoded data removed]",
      "text/plain": [
       "<Figure size 700x600 with 2 Axes>"
      ]
     },
     "metadata": {},
     "output_type": "display_data"
    },
    {
     "data": {
      "image/png": "[encoded data removed]",
      "text/plain": [
       "<Figure size 700x600 with 2 Axes>"
      ]
     },
     "metadata": {},
     "output_type": "display_data"
    },
    {
     "data": {
      "image/png": "[encoded data removed]",
      "text/plain": [
       "<Figure size 700x600 with 2 Axes>"
      ]
     },
     "metadata": {},
     "output_type": "display_data"
    }
   ],
   "source": [
    "for i in range(len(reg_list)):\n",
    "    plt.figure(figsize=(7,6))\n",
    "    sns.heatmap(reg_list[i].corr(), annot=True, cmap='crest', annot_kws={'size':12})\n",
    "    plt.title(f'{reg_dict.get(i)}. Матрица корреляций Пирсона', fontsize=18, pad=20)\n",
    "    plt.show()"
   ]
  },
  {
   "cell_type": "markdown",
   "metadata": {},
   "source": [
    "Мультиколлинеарности признаков не обнаружено. В **первом регионе** признак **'f0'** кореллирует с признаком **'f1'**, но корреляция ниже средней.\n",
    "\n",
    "Для **первого** и **третьего регионов** корреляция признаков **'f2'** и **'product'** чуть ниже средней, а вот для **второго** — очень высокая: мы наблюдаем полную положительную линейную связь. Далее увидим, как это повлияет на результаты предсказаний модели."
   ]
  },
  {
   "cell_type": "markdown",
   "metadata": {},
   "source": [
    "**Выводы**:\n",
    "\n",
    "Мы изучили данные и установили, что:\n",
    "\n",
    "- каждый из трех датафрэймов состоит из 100 тысяч строк;\n",
    "- все столбцы, кроме **'id'**, принадлежат к числовому типу;\n",
    "- пропусков в данных нет;\n",
    "- присутствуют дубликаты по **'id'**, которые различны в остальных своих параметрах; мы не стали с ними ничего делать;\n",
    "- в **регионе 2** в столбце целевого признака **'product'** присутствует большое количество нулей; выглядит так, будто 8235 скважин в **регионе 2** не принесли нефти вообще.\n",
    "- распределение признака **'f2'** и целевого признака **'product'** во втором регионе не нормальное;\n",
    "- мультиколлинеарности признаков не обнаружено ни в одном из регионов; в **первом регионе** признак **'f0'** кореллирует с признаком **'f1'**, но корреляция ниже средней;\n",
    "- во всех регионах признак **'f2'** коррелирует с **'product'**, для **первого** и **третьего** регионов корреляция чуть ниже средней, а вот для второго — очень высокая: мы наблюдаем полную положительную линейную связь.\n",
    "\n",
    "Также мы подготовили данные для дальнейшей работы: удалили из таблиц столбцы **'id'**, так они содержат индивидуальные идентификаторы, бесполезные для обучения модели."
   ]
  },
  {
   "cell_type": "markdown",
   "metadata": {},
   "source": [
    "## Обучение и проверка модели"
   ]
  },
  {
   "cell_type": "markdown",
   "metadata": {},
   "source": [
    "Создадим функцию, которая:\n",
    "\n",
    "- разобьёт данные на обучающую и валидационную выборки в соотношении 75:25;\n",
    "- стандартизирует признаки;\n",
    "- обучит модель, которая сделает предсказания на валидационной выборке;\n",
    "- посчитает и выведет на экран средний запас предсказанного сырья;\n",
    "- подсчитает и выведет на экран метрики модели: *RMSE (квадратный корень из средней квадратичной ошибки), MAE (среднее абсолютное отклонение) и R2 (коэффициент детерминации)*;\n",
    "- вернет предсказания и правильные ответы на валидационной выборке, чтобы мы могли их сохранить."
   ]
  },
  {
   "cell_type": "code",
   "execution_count": 15,
   "metadata": {},
   "outputs": [],
   "source": [
    "pd.options.mode.chained_assignment = None"
   ]
  },
  {
   "cell_type": "code",
   "execution_count": 16,
   "metadata": {},
   "outputs": [],
   "source": [
    "def reg_predictor(reg, region):\n",
    "    \n",
    "    print(region)\n",
    "    print('--')\n",
    "    \n",
    "    # Разбиваем данные на выборки\n",
    "    features = reg.drop('product', axis=1)\n",
    "    target = reg['product']\n",
    "    features_train, features_valid, target_train, target_valid = train_test_split(\n",
    "        features, target, test_size=0.25, random_state=12345)\n",
    "    print(f'Размеры обучающей выборки: признаки: {features_train.shape}, целевой признак: {target_train.shape}')\n",
    "    print(f'Размеры валидационной выборки: признаки: {features_valid.shape}, целевой признак: {target_valid.shape}')\n",
    "    print('--')\n",
    "    \n",
    "    # Обучаем модель и делаем предсказания\n",
    "    model = LinearRegression()\n",
    "    model.fit(features_train, target_train)\n",
    "    predictions = model.predict(features_valid)\n",
    "    \n",
    "    # Считаем средний запас предсказанного сырья \n",
    "    mean_product = predictions.mean()\n",
    "    print('Cредний запас предсказанного сырья: {:.2f} тыс. баррелей'.format(mean_product))\n",
    "    print('--')\n",
    "    \n",
    "    # Считаем метрики модели\n",
    "    rmse = mean_squared_error(target_valid, predictions) ** 0.5\n",
    "    print('RMSE модели: {:.2f} тыс. баррелей'.format(rmse))\n",
    "    mae = mean_absolute_error(target_valid, predictions)\n",
    "    print('MAE модели: {:.2f} тыс. баррелей'.format(mae))\n",
    "    r2 = r2_score(target_valid, predictions)\n",
    "    print('R2 модели: {:.4f}'.format(r2))\n",
    "    \n",
    "    return target_valid, pd.Series(predictions)"
   ]
  },
  {
   "cell_type": "markdown",
   "metadata": {},
   "source": [
    "Вызовем функцию для каждого региона:"
   ]
  },
  {
   "cell_type": "code",
   "execution_count": 17,
   "metadata": {},
   "outputs": [
    {
     "name": "stdout",
     "output_type": "stream",
     "text": [
      "Регион 1\n",
      "--\n",
      "Размеры обучающей выборки: признаки: (75000, 3), целевой признак: (75000,)\n",
      "Размеры валидационной выборки: признаки: (25000, 3), целевой признак: (25000,)\n",
      "--\n",
      "Cредний запас предсказанного сырья: 92.59 тыс. баррелей\n",
      "--\n",
      "RMSE модели: 37.58 тыс. баррелей\n",
      "MAE модели: 30.92 тыс. баррелей\n",
      "R2 модели: 0.2799\n"
     ]
    }
   ],
   "source": [
    "target_valid_1, predictions_1 = reg_predictor(reg_1, reg_dict.get(0))"
   ]
  },
  {
   "cell_type": "code",
   "execution_count": 18,
   "metadata": {},
   "outputs": [
    {
     "name": "stdout",
     "output_type": "stream",
     "text": [
      "Регион 2\n",
      "--\n",
      "Размеры обучающей выборки: признаки: (75000, 3), целевой признак: (75000,)\n",
      "Размеры валидационной выборки: признаки: (25000, 3), целевой признак: (25000,)\n",
      "--\n",
      "Cредний запас предсказанного сырья: 68.73 тыс. баррелей\n",
      "--\n",
      "RMSE модели: 0.89 тыс. баррелей\n",
      "MAE модели: 0.72 тыс. баррелей\n",
      "R2 модели: 0.9996\n"
     ]
    }
   ],
   "source": [
    "target_valid_2, predictions_2 = reg_predictor(reg_2, reg_dict.get(1))"
   ]
  },
  {
   "cell_type": "code",
   "execution_count": 19,
   "metadata": {},
   "outputs": [
    {
     "name": "stdout",
     "output_type": "stream",
     "text": [
      "Регион 3\n",
      "--\n",
      "Размеры обучающей выборки: признаки: (75000, 3), целевой признак: (75000,)\n",
      "Размеры валидационной выборки: признаки: (25000, 3), целевой признак: (25000,)\n",
      "--\n",
      "Cредний запас предсказанного сырья: 94.97 тыс. баррелей\n",
      "--\n",
      "RMSE модели: 40.03 тыс. баррелей\n",
      "MAE модели: 32.79 тыс. баррелей\n",
      "R2 модели: 0.2052\n"
     ]
    }
   ],
   "source": [
    "target_valid_3, predictions_3 = reg_predictor(reg_3, reg_dict.get(2))"
   ]
  },
  {
   "cell_type": "markdown",
   "metadata": {},
   "source": [
    "**Выводы**:\n",
    "\n",
    "Мы обучили и проверили модель для каждого региона.\n",
    "\n",
    "Наибольший средний запас предсказанного сырья **в регионе 3: около 95 тыс. баррелей.**\n",
    "\n",
    "Лучшее (наименьшее) значение метрик *RMSE* (0.89) и *MAE* (0.72), а также лучшее (наибольшее) значение метрики *R2* (0.9996) модель показала в **регионе 2** (скорее всего, это связано с очень высокой корреляцией признака *'f2'* и целевого признака, которую мы отметили ранее). Однако, несмотря на высокую точность предсказания модели, в этом регионе наименьший средний запас предсказанного сырья — 68.7 тыс. баррелей."
   ]
  },
  {
   "cell_type": "markdown",
   "metadata": {},
   "source": [
    "## Подготовка к расчёту прибыли"
   ]
  },
  {
   "cell_type": "markdown",
   "metadata": {},
   "source": [
    "Рассчитаем достаточный запас сырья для безубыточной разработки новой скважины:"
   ]
  },
  {
   "cell_type": "code",
   "execution_count": 20,
   "metadata": {},
   "outputs": [
    {
     "name": "stdout",
     "output_type": "stream",
     "text": [
      "Достаточный запас сырья для безубыточной разработки новой скважины: 111.11 тыс. баррелей\n"
     ]
    }
   ],
   "source": [
    "product_sufficient = round(BUDGET / (BEST_BOREHOLES * BARREL_PRICE), 2)\n",
    "print(f'Достаточный запас сырья для безубыточной разработки новой скважины: {product_sufficient} тыс. баррелей')"
   ]
  },
  {
   "cell_type": "markdown",
   "metadata": {},
   "source": [
    "Сравним достаточный запас сырья со средним запасом сырья в каждом регионе:"
   ]
  },
  {
   "cell_type": "code",
   "execution_count": 21,
   "metadata": {},
   "outputs": [
    {
     "name": "stdout",
     "output_type": "stream",
     "text": [
      "Средний запас сырья в регионе 1 недостаточный: 92.5 тыс. баррелей\n",
      "Средний запас сырья в регионе 2 недостаточный: 68.83 тыс. баррелей\n",
      "Средний запас сырья в регионе 3 недостаточный: 95.0 тыс. баррелей\n"
     ]
    }
   ],
   "source": [
    "reg_product_list = []\n",
    "\n",
    "i = 1\n",
    "for reg in reg_list:\n",
    "    reg_product = round(reg['product'].mean(), 2)\n",
    "    reg_product_list.append(reg_product)\n",
    "    if reg_product < product_sufficient:\n",
    "        print(f'Средний запас сырья в регионе {i} недостаточный: {reg_product} тыс. баррелей')\n",
    "    else: \n",
    "        print(f'Средний запас сырья в регионе {i} достаточный: {reg_product} тыс. баррелей')\n",
    "    i += 1"
   ]
  },
  {
   "cell_type": "markdown",
   "metadata": {},
   "source": [
    "То же самое видим на графике:"
   ]
  },
  {
   "cell_type": "code",
   "execution_count": 22,
   "metadata": {},
   "outputs": [
    {
     "data": {
      "image/png": "[encoded data removed]",
      "text/plain": [
       "<Figure size 1000x800 with 1 Axes>"
      ]
     },
     "metadata": {},
     "output_type": "display_data"
    }
   ],
   "source": [
    "reg_product_table = pd.Series(reg_product_list, index=['Регион 1', 'Регион 2', 'Регион 3'])\n",
    "colors=['lightgreen', 'plum', 'lightskyblue']\n",
    "\n",
    "plt.figure(figsize=(10,8)) \n",
    "reg_product_table.plot(kind='bar', width=0.5, ec='black', color=colors)\n",
    "plt.ylim(0,130)\n",
    "plt.axhline(y=product_sufficient, linewidth=3, color='crimson', linestyle='--')\n",
    "plt.text(0.5, 113, str(product_sufficient)+' тыс. баррелей', fontsize=12)\n",
    "plt.title('Сравнение среднего запаса сырья в регионах', fontsize=18, pad=20)\n",
    "for i in range(len(reg_product_table)):\n",
    "    plt.annotate(str(reg_product_table[i]), xy=(i,reg_product_table[i]+1), ha='center', va='bottom', fontsize=12)\n",
    "plt.xticks(fontsize=16, rotation=0)\n",
    "plt.yticks(ticks=range(0,130,5), fontsize=10)\n",
    "plt.ylabel('средний запас сырья, тысяч баррелей', fontsize=16)\n",
    "plt.legend(['достаточный запас\\nсырья для безубыточной\\nразработки скважины'],\n",
    "           fontsize=12, loc=2, bbox_to_anchor=(1.01,1.01))\n",
    "plt.show()"
   ]
  },
  {
   "cell_type": "markdown",
   "metadata": {},
   "source": [
    "**Выводы**:\n",
    "\n",
    "Мы рассчитали достаточный запас сырья для безубыточной разработки новой скважины. Он равен **111.11 тыс. баррелей**.\n",
    "\n",
    "Затем мы сравнили достаточный запас сырья со средним запасом сырья в каждом регионе. Средний запас сырья во всех регионах оказался ниже минимально необходимого для безубыточной разработки, но этот факт сам по себе мало о чем говорит, поскольку из 100 тысяч месторождений в разработку пойдут 200 лучших из случайно выбранных 500.\n",
    "\n",
    "Наибольший средний запас сырья **в регионе 3: 95 тыс. баррелей**."
   ]
  },
  {
   "cell_type": "markdown",
   "metadata": {},
   "source": [
    "## Расчёт прибыли и рисков "
   ]
  },
  {
   "cell_type": "markdown",
   "metadata": {},
   "source": [
    "Напишем функцию для расчета потенциальной прибыли:"
   ]
  },
  {
   "cell_type": "code",
   "execution_count": 23,
   "metadata": {},
   "outputs": [],
   "source": [
    "def revenue(target, predictions):\n",
    "    \n",
    "    predictions_sorted = predictions.sort_values(ascending=False)\n",
    "    selected = target[predictions_sorted.index][:BEST_BOREHOLES]\n",
    "    revenue = BARREL_PRICE * selected.sum() - BUDGET\n",
    "    \n",
    "    return revenue"
   ]
  },
  {
   "cell_type": "markdown",
   "metadata": {},
   "source": [
    "Теперь создадим функцию, которая:\n",
    "\n",
    "- реализует технику Bootstrap с 1000 выборок и найдет распределение прибыли;\n",
    "- рассчитает среднюю прибыль;\n",
    "- найдет 95%-й доверительный интервал для прибыли;\n",
    "- рассчитает вероятность убытков;\n",
    "- вернет среднюю прибыль, вероятность убытков в процентах."
   ]
  },
  {
   "cell_type": "code",
   "execution_count": 24,
   "metadata": {},
   "outputs": [],
   "source": [
    "def reg_calculator(target, predictions, region):\n",
    "    \n",
    "    print(region)\n",
    "    print('--')\n",
    "    \n",
    "    values = []\n",
    "    state = np.random.RandomState(12345)\n",
    "    \n",
    "    # Применяем Bootstrap с 1000 выборок\n",
    "    # Сбрасываем индексы у target, чтобы они совпали с индексами predictions\n",
    "    for i in range(1000):\n",
    "        target_subsample = target.reset_index(drop=True).sample(BOREHOLES, replace=True, random_state=state)\n",
    "        predictions_subsample = predictions[target_subsample.index]\n",
    "        values.append(revenue(target_subsample, predictions_subsample))\n",
    "\n",
    "    # Находим среднюю прибыль\n",
    "    values = pd.Series(values)\n",
    "    mean = round(values.mean(), 2)\n",
    "    print(f'Средняя прибыль: {mean} млн. рублей')\n",
    "    \n",
    "    # Находим 95%-й доверительный интервал\n",
    "    lower = values.quantile(0.025)\n",
    "    upper = values.quantile(0.975)\n",
    "    print('95% доверительный интервал: от {:.2f} до {:.2f} млн. рублей'.format(lower, upper))\n",
    "\n",
    "    # Находим вероятность убытков и сравниваем с максимально допустимой\n",
    "    risk = (values < 0).mean()\n",
    "    if risk < RISK_BORDER:\n",
    "        print('Вероятность убытков в пределах допустимого: {:.1%}'.format(risk))\n",
    "    else:\n",
    "        print('Вероятность убытков слишком велика: {:.1%}'.format(risk))\n",
    "    \n",
    "    return mean, risk * 100"
   ]
  },
  {
   "cell_type": "markdown",
   "metadata": {},
   "source": [
    "Вызовем эту функцию для каждого региона:"
   ]
  },
  {
   "cell_type": "code",
   "execution_count": 25,
   "metadata": {},
   "outputs": [
    {
     "name": "stdout",
     "output_type": "stream",
     "text": [
      "Регион 1\n",
      "--\n",
      "Средняя прибыль: 425.94 млн. рублей\n",
      "95% доверительный интервал: от -102.09 до 947.98 млн. рублей\n",
      "Вероятность убытков слишком велика: 6.0%\n"
     ]
    }
   ],
   "source": [
    "mean_1, risk_1 = reg_calculator(target_valid_1, predictions_1, reg_dict.get(0))"
   ]
  },
  {
   "cell_type": "code",
   "execution_count": 26,
   "metadata": {},
   "outputs": [
    {
     "name": "stdout",
     "output_type": "stream",
     "text": [
      "Регион 2\n",
      "--\n",
      "Средняя прибыль: 515.22 млн. рублей\n",
      "95% доверительный интервал: от 68.87 до 931.55 млн. рублей\n",
      "Вероятность убытков в пределах допустимого: 1.0%\n"
     ]
    }
   ],
   "source": [
    "mean_2, risk_2 = reg_calculator(target_valid_2, predictions_2, reg_dict.get(1))"
   ]
  },
  {
   "cell_type": "code",
   "execution_count": 27,
   "metadata": {},
   "outputs": [
    {
     "name": "stdout",
     "output_type": "stream",
     "text": [
      "Регион 3\n",
      "--\n",
      "Средняя прибыль: 435.01 млн. рублей\n",
      "95% доверительный интервал: от -128.88 до 969.71 млн. рублей\n",
      "Вероятность убытков слишком велика: 6.4%\n"
     ]
    }
   ],
   "source": [
    "mean_3, risk_3 = reg_calculator(target_valid_3, predictions_3, reg_dict.get(2))"
   ]
  },
  {
   "cell_type": "markdown",
   "metadata": {},
   "source": [
    "Для большей наглядности изобразим на графиках:"
   ]
  },
  {
   "cell_type": "code",
   "execution_count": 28,
   "metadata": {},
   "outputs": [
    {
     "data": {
      "image/png": "[encoded data removed]",
      "text/plain": [
       "<Figure size 800x700 with 1 Axes>"
      ]
     },
     "metadata": {},
     "output_type": "display_data"
    }
   ],
   "source": [
    "mean_table = pd.Series([mean_1, mean_2, mean_3], index=['Регион 1', 'Регион 2', 'Регион 3'])\n",
    "\n",
    "plt.figure(figsize=(8,7)) \n",
    "mean_table.plot(kind='bar', width=0.5, ec='black', color=colors)\n",
    "plt.ylim(0,600)\n",
    "plt.title('Сравнение средней прибыли в регионах', fontsize=18, pad=20)\n",
    "for i in range(len(mean_table)):\n",
    "    plt.annotate(str(mean_table[i]), xy=(i,mean_table[i]+4), ha='center', va='bottom', fontsize=12)\n",
    "plt.xticks(fontsize=16, rotation=0)\n",
    "plt.yticks(ticks=range(0,600,25), fontsize=10)\n",
    "plt.ylabel('средняя прибыль, млн. рублей', fontsize=16)\n",
    "plt.show()"
   ]
  },
  {
   "cell_type": "code",
   "execution_count": 29,
   "metadata": {},
   "outputs": [
    {
     "data": {
      "image/png": "[encoded data removed]",
      "text/plain": [
       "<Figure size 1000x800 with 1 Axes>"
      ]
     },
     "metadata": {},
     "output_type": "display_data"
    }
   ],
   "source": [
    "risk_table = pd.Series([risk_1, risk_2, risk_3], index=['Регион 1', 'Регион 2', 'Регион 3'])\n",
    "\n",
    "plt.figure(figsize=(10,8)) \n",
    "risk_table.plot(kind='bar', width=0.5, ec='black', color=colors)\n",
    "plt.ylim(0,7.5)\n",
    "plt.axhline(y=RISK_BORDER*100, linewidth=3, color='crimson', linestyle='--')\n",
    "plt.text(0.9, 2.6, str(RISK_BORDER*100)+'%', fontsize=12)\n",
    "plt.title('Сравнение вероятности убытков в регионах', fontsize=18, pad=20)\n",
    "for i in range(len(risk_table)):\n",
    "    plt.annotate((str(risk_table[i])+'%'), xy=(i,risk_table[i]+0.05), ha='center', va='bottom', fontsize=12)\n",
    "plt.xticks(fontsize=16, rotation=0)\n",
    "plt.yticks(ticks=np.arange(0.0,7.5,0.5), fontsize=10)\n",
    "plt.ylabel('вероятность убытков, %', fontsize=16)\n",
    "plt.legend(['максимально допустимая\\nвероятность убытков'],\n",
    "           fontsize=12, loc=2, bbox_to_anchor=(1.01,1.01))\n",
    "plt.show()"
   ]
  },
  {
   "cell_type": "markdown",
   "metadata": {},
   "source": [
    "**Выводы**:\n",
    "\n",
    "Мы реализовали технику *Bootstrap* с 1000 выборок и нашли распределение прибыли, рассчитали среднюю прибыль, нашли 95%-й доверительный интервал прибыли и рассчитали вероятность убытков для каждого региона.\n",
    "\n",
    "Самая высокая средняя прибыль у **региона 2: 515.22 млн. рублей**. Кроме того, **только у региона 2 в 95%-й доверительный интервал прибыли не входят отрицательные значения и вероятность убытков находится в пределах допустимого и равна 1%**.\n",
    "\n",
    "**Таким образом для дальнейшей разработки нефтяных скважин рекомендуется выбрать регион 2, так как вероятность убытков мала и средняя прибыль выше, чем у остальных регионов**."
   ]
  },
  {
   "cell_type": "markdown",
   "metadata": {},
   "source": [
    "## Итоги исследования"
   ]
  },
  {
   "cell_type": "markdown",
   "metadata": {},
   "source": [
    "**Целью нашего исследования было с помощью машинного обучения определить регион, в котором разработка нефтяных скважин принесёт компании наибольшую прибыль**.\n",
    "\n",
    "**В первой части** исследования мы провели общий обзор данных и выяснили, что:\n",
    "\n",
    "- каждый из трех датафрэймов состоит из 100 тысяч строк;\n",
    "- все столбцы, кроме **'id'**, принадлежат к числовому типу;\n",
    "- пропусков в данных нет;\n",
    "- присутствуют дубликаты по **'id'**, которые различны в остальных своих параметрах; мы не стали с ними ничего делать;\n",
    "- в **регионе 2** в столбце целевого признака **'product'** присутствует большое количество нулей; выглядит так, будто 8235 скважин в **регионе 2** не принесли нефти вообще.\n",
    "- распределение признака **'f2'** и целевого признака **'product'** во втором регионе не нормальное;\n",
    "- мультиколлинеарности признаков не обнаружено ни в одном из регионов; в **первом регионе** признак **'f0'** кореллирует с признаком **'f1'**, но корреляция ниже средней;\n",
    "- во всех регионах признак **'f2'** коррелирует с **'product'**, для **первого** и **третьего** регионов корреляция чуть ниже средней, а вот для второго — очень высокая: мы наблюдаем полную положительную линейную связь.\n",
    "\n",
    "Также мы подготовили данные для дальнейшей работы: удалили из таблиц столбцы **'id'**, так они содержат индивидуальные идентификаторы, бесполезные для обучения модели.\n",
    "\n",
    "**Во второй части** мы обучили и проверили модель для каждого региона.\n",
    "\n",
    "Наибольший средний запас предсказанного сырья получили в регионе 3: около 95 тыс. баррелей.\n",
    "\n",
    "Лучшее (наименьшее) значение метрик *RMSE* (0.89) и *MAE* (0.72), а также лучшее (наибольшее) значение метрики *R2* (0.9996) модель показала в регионе 2 (скорее всего, это связано с очень высокой корреляцией признака *'f2'* и целевого признака, которую мы отметили ранее). Однако, несмотря на высокую точность предсказания модели, в этом регионе получили наименьший средний запас предсказанного сырья — 68.7 тыс. баррелей.\n",
    "\n",
    "**В третьей части** мы провели подготовка к расчёту прибыли.\n",
    "\n",
    "Рассчитали достаточный запас сырья для безубыточной разработки новой скважины. Он равен **111.11 тыс. баррелей**.\n",
    "\n",
    "Затем мы сравнили достаточный запас сырья со средним запасом сырья в каждом регионе. Средний запас сырья во всех регионах оказался ниже минимально необходимого для безубыточной разработки, но этот факт сам по себе мало о чем говорит, поскольку из 100 тысяч месторождений в разработку пойдут 200 лучших из случайно выбранных 500.\n",
    "\n",
    "Наибольший средний запас сырья также получили в регионе 3: 95 тыс. баррелей.\n",
    "\n",
    "**В заключительной части** исследования мы реализовали технику *Bootstrap* с 1000 выборок и нашли распределение прибыли, рассчитали среднюю прибыль, нашли 95%-й доверительный интервал прибыли и рассчитали вероятность убытков для каждого региона.\n",
    "\n",
    "**Мы пришли к выводу, что для дальнейшей разработки нефтяных скважин рекомендуется выбрать регион 2, так как только у данного региона вероятность убытков находится в пределах допустимого (1%) и средняя прибыль выше, чем у остальных регионов (515.22 млн. рублей)**."
   ]
  }
 ],
 "metadata": {
  "ExecuteTimeLog": [
   {
    "duration": 4,
    "start_time": "2022-11-29T09:32:15.888Z"
   },
   {
    "duration": 348,
    "start_time": "2022-11-29T11:42:33.478Z"
   },
   {
    "duration": 3,
    "start_time": "2022-11-29T11:42:48.416Z"
   },
   {
    "duration": 3,
    "start_time": "2022-11-29T11:46:39.599Z"
   },
   {
    "duration": 1650,
    "start_time": "2022-11-29T11:46:40.388Z"
   },
   {
    "duration": 3,
    "start_time": "2022-11-29T11:54:18.959Z"
   },
   {
    "duration": 34,
    "start_time": "2022-11-29T11:55:00.792Z"
   },
   {
    "duration": 15392,
    "start_time": "2022-11-29T11:57:23.665Z"
   },
   {
    "duration": 7,
    "start_time": "2022-11-29T11:58:32.975Z"
   },
   {
    "duration": 7,
    "start_time": "2022-11-29T11:58:58.275Z"
   },
   {
    "duration": 10610,
    "start_time": "2022-11-29T11:59:10.671Z"
   },
   {
    "duration": 5,
    "start_time": "2022-11-29T12:02:42.530Z"
   },
   {
    "duration": 9971,
    "start_time": "2022-11-29T12:04:07.324Z"
   },
   {
    "duration": 177,
    "start_time": "2022-11-29T12:04:59.347Z"
   },
   {
    "duration": 10203,
    "start_time": "2022-11-29T12:05:25.092Z"
   },
   {
    "duration": 9696,
    "start_time": "2022-11-29T12:05:35.298Z"
   },
   {
    "duration": 10278,
    "start_time": "2022-11-29T12:05:44.995Z"
   },
   {
    "duration": 3,
    "start_time": "2022-11-29T12:24:54.985Z"
   },
   {
    "duration": 40,
    "start_time": "2022-11-29T12:25:25.587Z"
   },
   {
    "duration": 3,
    "start_time": "2022-11-29T12:25:29.351Z"
   },
   {
    "duration": 34,
    "start_time": "2022-11-29T12:25:31.266Z"
   },
   {
    "duration": 2272,
    "start_time": "2022-11-29T12:25:49.933Z"
   },
   {
    "duration": 366,
    "start_time": "2022-11-29T12:25:52.208Z"
   },
   {
    "duration": 3,
    "start_time": "2022-11-29T12:25:52.576Z"
   },
   {
    "duration": 63,
    "start_time": "2022-11-29T12:25:52.581Z"
   },
   {
    "duration": 10436,
    "start_time": "2022-11-29T12:25:52.647Z"
   },
   {
    "duration": 9651,
    "start_time": "2022-11-29T12:26:03.084Z"
   },
   {
    "duration": 10397,
    "start_time": "2022-11-29T12:26:12.737Z"
   },
   {
    "duration": 90,
    "start_time": "2022-11-29T12:29:09.449Z"
   },
   {
    "duration": 15,
    "start_time": "2022-11-29T12:29:24.454Z"
   },
   {
    "duration": 14,
    "start_time": "2022-11-29T12:29:32.660Z"
   },
   {
    "duration": 12,
    "start_time": "2022-11-29T12:29:43.292Z"
   },
   {
    "duration": 2295,
    "start_time": "2022-11-29T12:30:22.770Z"
   },
   {
    "duration": 1106,
    "start_time": "2022-11-29T12:30:33.516Z"
   },
   {
    "duration": 939,
    "start_time": "2022-11-29T12:31:50.407Z"
   },
   {
    "duration": 853,
    "start_time": "2022-11-29T12:33:00.529Z"
   },
   {
    "duration": 129,
    "start_time": "2022-11-29T12:33:20.514Z"
   },
   {
    "duration": 879,
    "start_time": "2022-11-29T12:33:52.913Z"
   },
   {
    "duration": 848,
    "start_time": "2022-11-29T12:34:47.634Z"
   },
   {
    "duration": 885,
    "start_time": "2022-11-29T12:35:00.298Z"
   },
   {
    "duration": 1238,
    "start_time": "2022-11-29T12:35:30.665Z"
   },
   {
    "duration": 859,
    "start_time": "2022-11-29T12:35:45.525Z"
   },
   {
    "duration": 945,
    "start_time": "2022-11-29T12:39:08.786Z"
   },
   {
    "duration": 954,
    "start_time": "2022-11-29T12:39:50.771Z"
   },
   {
    "duration": 1286,
    "start_time": "2022-11-29T12:43:02.936Z"
   },
   {
    "duration": 315,
    "start_time": "2022-11-29T12:43:54.320Z"
   },
   {
    "duration": 304,
    "start_time": "2022-11-29T12:44:33.674Z"
   },
   {
    "duration": 298,
    "start_time": "2022-11-29T12:45:22.139Z"
   },
   {
    "duration": 592,
    "start_time": "2022-11-29T12:45:36.146Z"
   },
   {
    "duration": 299,
    "start_time": "2022-11-29T12:49:59.543Z"
   },
   {
    "duration": 299,
    "start_time": "2022-11-29T12:50:07.429Z"
   },
   {
    "duration": 317,
    "start_time": "2022-11-29T12:50:59.941Z"
   },
   {
    "duration": 291,
    "start_time": "2022-11-29T12:51:32.534Z"
   },
   {
    "duration": 300,
    "start_time": "2022-11-29T12:53:10.679Z"
   },
   {
    "duration": 364,
    "start_time": "2022-11-29T12:54:27.344Z"
   },
   {
    "duration": 303,
    "start_time": "2022-11-29T12:54:49.993Z"
   },
   {
    "duration": 361,
    "start_time": "2022-11-29T12:55:18.579Z"
   },
   {
    "duration": 40,
    "start_time": "2022-11-29T12:55:36.615Z"
   },
   {
    "duration": 290,
    "start_time": "2022-11-29T12:58:22.670Z"
   },
   {
    "duration": 3,
    "start_time": "2022-11-29T12:59:10.212Z"
   },
   {
    "duration": 3,
    "start_time": "2022-11-29T12:59:31.999Z"
   },
   {
    "duration": 42,
    "start_time": "2022-11-29T12:59:33.314Z"
   },
   {
    "duration": 4,
    "start_time": "2022-11-29T12:59:43.783Z"
   },
   {
    "duration": 12,
    "start_time": "2022-11-29T12:59:55.484Z"
   },
   {
    "duration": 12,
    "start_time": "2022-11-29T13:00:08.102Z"
   },
   {
    "duration": 14,
    "start_time": "2022-11-29T13:00:34.066Z"
   },
   {
    "duration": 4,
    "start_time": "2022-11-29T13:00:46.863Z"
   },
   {
    "duration": 302,
    "start_time": "2022-11-29T13:01:18.777Z"
   },
   {
    "duration": 11,
    "start_time": "2022-11-29T13:01:45.339Z"
   },
   {
    "duration": 3,
    "start_time": "2022-11-29T13:03:10.004Z"
   },
   {
    "duration": 34,
    "start_time": "2022-11-29T13:03:10.786Z"
   },
   {
    "duration": 10019,
    "start_time": "2022-11-29T13:03:19.589Z"
   },
   {
    "duration": 9730,
    "start_time": "2022-11-29T13:03:29.622Z"
   },
   {
    "duration": 10108,
    "start_time": "2022-11-29T13:03:39.354Z"
   },
   {
    "duration": 3,
    "start_time": "2022-11-29T13:03:49.464Z"
   },
   {
    "duration": 379,
    "start_time": "2022-11-29T13:04:17.970Z"
   },
   {
    "duration": 77,
    "start_time": "2022-11-29T13:05:31.678Z"
   },
   {
    "duration": 1592,
    "start_time": "2022-11-29T13:05:40.959Z"
   },
   {
    "duration": 1565,
    "start_time": "2022-11-29T13:06:45.588Z"
   },
   {
    "duration": 1485,
    "start_time": "2022-11-29T13:07:06.596Z"
   },
   {
    "duration": 549,
    "start_time": "2022-11-29T13:09:12.759Z"
   },
   {
    "duration": 565,
    "start_time": "2022-11-29T13:09:40.431Z"
   },
   {
    "duration": 596,
    "start_time": "2022-11-29T13:10:31.135Z"
   },
   {
    "duration": 1005,
    "start_time": "2022-11-29T13:11:04.979Z"
   },
   {
    "duration": 987,
    "start_time": "2022-11-29T13:11:24.669Z"
   },
   {
    "duration": 1335,
    "start_time": "2022-11-29T13:11:34.254Z"
   },
   {
    "duration": 784,
    "start_time": "2022-11-29T13:12:28.231Z"
   },
   {
    "duration": 802,
    "start_time": "2022-11-29T13:13:05.589Z"
   },
   {
    "duration": 858,
    "start_time": "2022-11-29T13:13:23.287Z"
   },
   {
    "duration": 864,
    "start_time": "2022-11-29T13:13:54.227Z"
   },
   {
    "duration": 984,
    "start_time": "2022-11-29T13:14:11.081Z"
   },
   {
    "duration": 1096,
    "start_time": "2022-11-29T13:14:19.212Z"
   },
   {
    "duration": 1049,
    "start_time": "2022-11-29T13:14:36.140Z"
   },
   {
    "duration": 982,
    "start_time": "2022-11-29T13:15:14.275Z"
   },
   {
    "duration": 328,
    "start_time": "2022-11-29T13:15:40.823Z"
   },
   {
    "duration": 966,
    "start_time": "2022-11-29T13:15:46.384Z"
   },
   {
    "duration": 989,
    "start_time": "2022-11-29T13:15:57.754Z"
   },
   {
    "duration": 1041,
    "start_time": "2022-11-29T13:16:07.260Z"
   },
   {
    "duration": 1230,
    "start_time": "2022-11-29T13:16:16.765Z"
   },
   {
    "duration": 983,
    "start_time": "2022-11-29T13:19:37.133Z"
   },
   {
    "duration": 1003,
    "start_time": "2022-11-29T13:19:46.495Z"
   },
   {
    "duration": 488,
    "start_time": "2022-11-29T13:21:44.273Z"
   },
   {
    "duration": 970,
    "start_time": "2022-11-29T13:23:52.735Z"
   },
   {
    "duration": 1020,
    "start_time": "2022-11-29T13:24:20.383Z"
   },
   {
    "duration": 998,
    "start_time": "2022-11-29T13:24:37.296Z"
   },
   {
    "duration": 311,
    "start_time": "2022-11-29T13:26:05.771Z"
   },
   {
    "duration": 1280,
    "start_time": "2022-11-29T13:26:23.371Z"
   },
   {
    "duration": 528,
    "start_time": "2022-11-29T13:27:40.225Z"
   },
   {
    "duration": 500,
    "start_time": "2022-11-29T13:28:36.259Z"
   },
   {
    "duration": 19,
    "start_time": "2022-11-29T13:29:09.108Z"
   },
   {
    "duration": 1004,
    "start_time": "2022-11-29T13:29:32.708Z"
   },
   {
    "duration": 1032,
    "start_time": "2022-11-29T13:31:57.319Z"
   },
   {
    "duration": 1008,
    "start_time": "2022-11-29T13:32:08.956Z"
   },
   {
    "duration": 550,
    "start_time": "2022-11-29T13:32:32.623Z"
   },
   {
    "duration": 1049,
    "start_time": "2022-11-29T13:33:39.542Z"
   },
   {
    "duration": 1335,
    "start_time": "2022-11-29T13:33:43.573Z"
   },
   {
    "duration": 970,
    "start_time": "2022-11-29T13:34:04.770Z"
   },
   {
    "duration": 1018,
    "start_time": "2022-11-29T13:34:24.345Z"
   },
   {
    "duration": 28,
    "start_time": "2022-11-29T13:36:30.482Z"
   },
   {
    "duration": 4,
    "start_time": "2022-11-29T13:38:16.976Z"
   },
   {
    "duration": 41,
    "start_time": "2022-11-29T13:39:06.010Z"
   },
   {
    "duration": 39,
    "start_time": "2022-11-29T13:49:09.591Z"
   },
   {
    "duration": 44,
    "start_time": "2022-11-29T13:49:25.726Z"
   },
   {
    "duration": 42,
    "start_time": "2022-11-29T13:56:32.963Z"
   },
   {
    "duration": 52,
    "start_time": "2022-11-29T13:56:50.631Z"
   },
   {
    "duration": 71,
    "start_time": "2022-11-29T13:57:09.239Z"
   },
   {
    "duration": 40,
    "start_time": "2022-11-29T13:58:41.309Z"
   },
   {
    "duration": 208,
    "start_time": "2022-11-29T14:00:03.200Z"
   },
   {
    "duration": 33,
    "start_time": "2022-11-29T14:00:12.164Z"
   },
   {
    "duration": 42,
    "start_time": "2022-11-29T14:00:20.891Z"
   },
   {
    "duration": 109,
    "start_time": "2022-11-29T14:01:01.678Z"
   },
   {
    "duration": 25,
    "start_time": "2022-11-29T14:01:08.573Z"
   },
   {
    "duration": 41,
    "start_time": "2022-11-29T14:01:21.061Z"
   },
   {
    "duration": 4,
    "start_time": "2022-11-29T14:02:06.454Z"
   },
   {
    "duration": 46,
    "start_time": "2022-11-29T14:02:10.610Z"
   },
   {
    "duration": 43,
    "start_time": "2022-11-29T14:02:28.765Z"
   },
   {
    "duration": 87,
    "start_time": "2022-11-29T14:09:59.876Z"
   },
   {
    "duration": 75,
    "start_time": "2022-11-29T14:11:33.499Z"
   },
   {
    "duration": 69,
    "start_time": "2022-11-29T14:11:41.805Z"
   },
   {
    "duration": 108,
    "start_time": "2022-11-29T14:13:37.137Z"
   },
   {
    "duration": 73,
    "start_time": "2022-11-29T14:13:50.221Z"
   },
   {
    "duration": 552,
    "start_time": "2022-11-29T14:25:44.087Z"
   },
   {
    "duration": 504,
    "start_time": "2022-11-29T14:26:22.968Z"
   },
   {
    "duration": 35,
    "start_time": "2022-11-29T14:27:53.346Z"
   },
   {
    "duration": 68,
    "start_time": "2022-11-29T14:28:31.846Z"
   },
   {
    "duration": 71,
    "start_time": "2022-11-29T14:33:20.672Z"
   },
   {
    "duration": 102,
    "start_time": "2022-11-29T14:33:27.842Z"
   },
   {
    "duration": 28,
    "start_time": "2022-11-29T14:33:41.064Z"
   },
   {
    "duration": 104,
    "start_time": "2022-11-29T14:36:08.967Z"
   },
   {
    "duration": 26,
    "start_time": "2022-11-29T14:36:32.832Z"
   },
   {
    "duration": 80,
    "start_time": "2022-11-29T14:37:03.754Z"
   },
   {
    "duration": 47,
    "start_time": "2022-11-29T14:37:16.292Z"
   },
   {
    "duration": 80,
    "start_time": "2022-11-29T14:38:31.557Z"
   },
   {
    "duration": 0,
    "start_time": "2022-11-29T14:38:31.638Z"
   },
   {
    "duration": 44,
    "start_time": "2022-11-29T14:39:02.912Z"
   },
   {
    "duration": 14685,
    "start_time": "2022-11-29T14:40:22.966Z"
   },
   {
    "duration": 43,
    "start_time": "2022-11-29T14:40:50.760Z"
   },
   {
    "duration": 9,
    "start_time": "2022-11-29T14:40:51.687Z"
   },
   {
    "duration": 66,
    "start_time": "2022-11-29T14:41:11.142Z"
   },
   {
    "duration": 136,
    "start_time": "2022-11-29T14:43:03.525Z"
   },
   {
    "duration": 28,
    "start_time": "2022-11-29T14:43:10.729Z"
   },
   {
    "duration": 27,
    "start_time": "2022-11-29T14:43:30.672Z"
   },
   {
    "duration": 48,
    "start_time": "2022-11-29T14:43:57.459Z"
   },
   {
    "duration": 30,
    "start_time": "2022-11-29T14:47:24.025Z"
   },
   {
    "duration": 25,
    "start_time": "2022-11-29T14:47:35.861Z"
   },
   {
    "duration": 1048,
    "start_time": "2022-11-29T14:47:36.088Z"
   },
   {
    "duration": 14,
    "start_time": "2022-11-29T14:48:15.462Z"
   },
   {
    "duration": 4,
    "start_time": "2022-11-29T14:49:15.696Z"
   },
   {
    "duration": 53,
    "start_time": "2022-11-29T14:49:24.087Z"
   },
   {
    "duration": 40,
    "start_time": "2022-11-29T14:50:05.983Z"
   },
   {
    "duration": 51,
    "start_time": "2022-11-29T14:52:06.821Z"
   },
   {
    "duration": 72,
    "start_time": "2022-11-29T14:52:24.986Z"
   },
   {
    "duration": 137,
    "start_time": "2022-11-29T14:57:56.438Z"
   },
   {
    "duration": 115,
    "start_time": "2022-11-29T14:58:10.637Z"
   },
   {
    "duration": 91,
    "start_time": "2022-11-29T15:03:25.096Z"
   },
   {
    "duration": 35,
    "start_time": "2022-11-29T15:04:25.455Z"
   },
   {
    "duration": 90,
    "start_time": "2022-11-29T15:05:25.278Z"
   },
   {
    "duration": 34,
    "start_time": "2022-11-29T15:07:23.015Z"
   },
   {
    "duration": 51,
    "start_time": "2022-11-29T15:07:30.722Z"
   },
   {
    "duration": 103,
    "start_time": "2022-11-29T15:08:58.219Z"
   },
   {
    "duration": 102,
    "start_time": "2022-11-29T15:09:15.680Z"
   },
   {
    "duration": 86,
    "start_time": "2022-11-29T15:09:26.001Z"
   },
   {
    "duration": 31,
    "start_time": "2022-11-29T15:12:07.805Z"
   },
   {
    "duration": 96,
    "start_time": "2022-11-29T15:12:32.488Z"
   },
   {
    "duration": 28,
    "start_time": "2022-11-29T15:13:01.987Z"
   },
   {
    "duration": 31,
    "start_time": "2022-11-29T15:13:44.875Z"
   },
   {
    "duration": 115,
    "start_time": "2022-11-29T15:13:57.522Z"
   },
   {
    "duration": 8,
    "start_time": "2022-11-29T15:14:22.727Z"
   },
   {
    "duration": 9,
    "start_time": "2022-11-29T15:14:27.285Z"
   },
   {
    "duration": 27,
    "start_time": "2022-11-29T15:14:36.476Z"
   },
   {
    "duration": 32,
    "start_time": "2022-11-29T16:23:14.048Z"
   },
   {
    "duration": 830,
    "start_time": "2022-11-29T16:33:41.151Z"
   },
   {
    "duration": 1280,
    "start_time": "2022-11-29T16:33:53.147Z"
   },
   {
    "duration": 2576,
    "start_time": "2022-11-29T17:11:30.858Z"
   },
   {
    "duration": 5,
    "start_time": "2022-11-29T17:17:31.030Z"
   },
   {
    "duration": 30,
    "start_time": "2022-11-29T17:19:34.029Z"
   },
   {
    "duration": 102,
    "start_time": "2022-11-29T17:19:59.989Z"
   },
   {
    "duration": 37,
    "start_time": "2022-11-29T17:21:10.344Z"
   },
   {
    "duration": 12,
    "start_time": "2022-11-29T17:21:41.438Z"
   },
   {
    "duration": 12,
    "start_time": "2022-11-29T17:21:50.116Z"
   },
   {
    "duration": 8,
    "start_time": "2022-11-29T17:24:31.858Z"
   },
   {
    "duration": 8,
    "start_time": "2022-11-29T17:24:37.605Z"
   },
   {
    "duration": 18,
    "start_time": "2022-11-29T17:24:46.398Z"
   },
   {
    "duration": 5,
    "start_time": "2022-11-29T17:25:05.413Z"
   },
   {
    "duration": 241,
    "start_time": "2022-11-29T17:25:06.100Z"
   },
   {
    "duration": 5,
    "start_time": "2022-11-29T17:25:23.293Z"
   },
   {
    "duration": 34,
    "start_time": "2022-11-29T17:25:24.228Z"
   },
   {
    "duration": 22,
    "start_time": "2022-11-29T17:25:53.353Z"
   },
   {
    "duration": 120,
    "start_time": "2022-11-29T17:26:01.402Z"
   },
   {
    "duration": 22,
    "start_time": "2022-11-29T17:31:09.041Z"
   },
   {
    "duration": 86,
    "start_time": "2022-11-29T17:37:59.044Z"
   },
   {
    "duration": 8,
    "start_time": "2022-11-29T17:38:14.007Z"
   },
   {
    "duration": 4,
    "start_time": "2022-11-29T17:38:32.304Z"
   },
   {
    "duration": 27,
    "start_time": "2022-11-29T17:38:33.122Z"
   },
   {
    "duration": 6,
    "start_time": "2022-11-29T17:39:31.637Z"
   },
   {
    "duration": 22,
    "start_time": "2022-11-29T17:39:34.911Z"
   },
   {
    "duration": 5,
    "start_time": "2022-11-29T17:40:02.334Z"
   },
   {
    "duration": 22,
    "start_time": "2022-11-29T17:40:03.320Z"
   },
   {
    "duration": 116,
    "start_time": "2022-11-29T17:41:56.309Z"
   },
   {
    "duration": 7,
    "start_time": "2022-11-29T17:42:03.576Z"
   },
   {
    "duration": 36,
    "start_time": "2022-11-29T17:42:04.131Z"
   },
   {
    "duration": 24,
    "start_time": "2022-11-29T17:42:15.650Z"
   },
   {
    "duration": 13,
    "start_time": "2022-11-29T17:42:39.169Z"
   },
   {
    "duration": 12,
    "start_time": "2022-11-29T17:42:50.154Z"
   },
   {
    "duration": 39,
    "start_time": "2022-11-29T17:43:12.683Z"
   },
   {
    "duration": 28,
    "start_time": "2022-11-29T17:43:23.069Z"
   },
   {
    "duration": 4,
    "start_time": "2022-11-29T17:47:21.641Z"
   },
   {
    "duration": 3,
    "start_time": "2022-11-29T17:47:52.581Z"
   },
   {
    "duration": 5,
    "start_time": "2022-11-29T17:47:53.240Z"
   },
   {
    "duration": 22,
    "start_time": "2022-11-29T17:48:02.494Z"
   },
   {
    "duration": 6,
    "start_time": "2022-11-29T17:48:35.459Z"
   },
   {
    "duration": 27,
    "start_time": "2022-11-29T17:48:36.356Z"
   },
   {
    "duration": 5,
    "start_time": "2022-11-29T17:49:35.172Z"
   },
   {
    "duration": 21,
    "start_time": "2022-11-29T17:49:39.084Z"
   },
   {
    "duration": 14,
    "start_time": "2022-11-29T17:50:00.175Z"
   },
   {
    "duration": 12,
    "start_time": "2022-11-29T17:50:12.474Z"
   },
   {
    "duration": 3,
    "start_time": "2022-11-29T17:51:46.966Z"
   },
   {
    "duration": 72,
    "start_time": "2022-11-29T17:52:03.691Z"
   },
   {
    "duration": 79,
    "start_time": "2022-11-29T17:52:18.514Z"
   },
   {
    "duration": 22,
    "start_time": "2022-11-29T17:52:20.029Z"
   },
   {
    "duration": 3,
    "start_time": "2022-11-29T17:52:26.043Z"
   },
   {
    "duration": 5,
    "start_time": "2022-11-29T17:52:32.237Z"
   },
   {
    "duration": 19,
    "start_time": "2022-11-29T17:52:33.445Z"
   },
   {
    "duration": 5,
    "start_time": "2022-11-29T17:53:39.859Z"
   },
   {
    "duration": 22,
    "start_time": "2022-11-29T17:53:49.629Z"
   },
   {
    "duration": 23,
    "start_time": "2022-11-29T17:53:51.027Z"
   },
   {
    "duration": 23,
    "start_time": "2022-11-29T17:53:52.076Z"
   },
   {
    "duration": 5,
    "start_time": "2022-11-29T17:58:30.516Z"
   },
   {
    "duration": 26,
    "start_time": "2022-11-29T17:58:31.169Z"
   },
   {
    "duration": 22,
    "start_time": "2022-11-29T17:58:32.008Z"
   },
   {
    "duration": 21,
    "start_time": "2022-11-29T17:58:32.827Z"
   },
   {
    "duration": 6,
    "start_time": "2022-11-29T18:04:55.282Z"
   },
   {
    "duration": 92,
    "start_time": "2022-11-29T18:04:55.736Z"
   },
   {
    "duration": 22,
    "start_time": "2022-11-29T18:05:03.885Z"
   },
   {
    "duration": 21,
    "start_time": "2022-11-29T18:05:05.284Z"
   },
   {
    "duration": 16079,
    "start_time": "2022-11-29T19:33:13.038Z"
   },
   {
    "duration": 1634,
    "start_time": "2022-11-29T19:33:29.119Z"
   },
   {
    "duration": 3,
    "start_time": "2022-11-29T19:33:30.754Z"
   },
   {
    "duration": 44,
    "start_time": "2022-11-29T19:33:30.759Z"
   },
   {
    "duration": 10032,
    "start_time": "2022-11-29T19:33:30.805Z"
   },
   {
    "duration": 9221,
    "start_time": "2022-11-29T19:33:40.839Z"
   },
   {
    "duration": 9627,
    "start_time": "2022-11-29T19:33:50.062Z"
   },
   {
    "duration": 126,
    "start_time": "2022-11-29T19:33:59.691Z"
   },
   {
    "duration": 7,
    "start_time": "2022-11-29T19:33:59.819Z"
   },
   {
    "duration": 946,
    "start_time": "2022-11-29T19:33:59.828Z"
   },
   {
    "duration": 5,
    "start_time": "2022-11-29T19:34:00.776Z"
   },
   {
    "duration": 300,
    "start_time": "2022-11-29T19:34:00.783Z"
   },
   {
    "duration": 226,
    "start_time": "2022-11-29T19:34:01.183Z"
   },
   {
    "duration": 173,
    "start_time": "2022-11-29T19:34:01.412Z"
   },
   {
    "duration": 5,
    "start_time": "2022-11-29T19:54:27.903Z"
   },
   {
    "duration": 5,
    "start_time": "2022-11-29T19:54:32.824Z"
   },
   {
    "duration": 179,
    "start_time": "2022-11-29T19:54:34.655Z"
   },
   {
    "duration": 6,
    "start_time": "2022-11-29T19:54:45.308Z"
   },
   {
    "duration": 26,
    "start_time": "2022-11-29T19:54:47.218Z"
   },
   {
    "duration": 22,
    "start_time": "2022-11-29T19:54:50.764Z"
   },
   {
    "duration": 27,
    "start_time": "2022-11-29T19:54:51.910Z"
   },
   {
    "duration": 3,
    "start_time": "2022-11-29T20:18:41.883Z"
   },
   {
    "duration": 3,
    "start_time": "2022-11-29T20:20:07.787Z"
   },
   {
    "duration": 3,
    "start_time": "2022-11-29T20:49:34.594Z"
   },
   {
    "duration": 3,
    "start_time": "2022-11-29T20:58:44.524Z"
   },
   {
    "duration": 4,
    "start_time": "2022-11-29T21:01:33.404Z"
   },
   {
    "duration": 89,
    "start_time": "2022-11-29T21:17:17.599Z"
   },
   {
    "duration": 5,
    "start_time": "2022-11-29T21:17:34.205Z"
   },
   {
    "duration": 103,
    "start_time": "2022-11-29T21:20:26.672Z"
   },
   {
    "duration": 97,
    "start_time": "2022-11-29T21:21:33.857Z"
   },
   {
    "duration": 109,
    "start_time": "2022-11-29T21:22:53.291Z"
   },
   {
    "duration": 6,
    "start_time": "2022-11-29T21:23:42.606Z"
   },
   {
    "duration": 7,
    "start_time": "2022-11-29T21:24:45.777Z"
   },
   {
    "duration": 6,
    "start_time": "2022-11-29T21:25:10.437Z"
   },
   {
    "duration": 3,
    "start_time": "2022-11-29T21:53:24.845Z"
   },
   {
    "duration": 2185,
    "start_time": "2022-11-29T23:15:08.899Z"
   },
   {
    "duration": 134,
    "start_time": "2022-11-29T23:17:47.013Z"
   },
   {
    "duration": 343,
    "start_time": "2022-11-29T23:18:47.835Z"
   },
   {
    "duration": 135,
    "start_time": "2022-11-29T23:19:31.571Z"
   },
   {
    "duration": 255,
    "start_time": "2022-11-29T23:19:54.144Z"
   },
   {
    "duration": 206,
    "start_time": "2022-11-29T23:20:11.533Z"
   },
   {
    "duration": 232,
    "start_time": "2022-11-29T23:21:32.804Z"
   },
   {
    "duration": 16108,
    "start_time": "2022-11-30T08:57:28.450Z"
   },
   {
    "duration": 922,
    "start_time": "2022-11-30T08:57:44.561Z"
   },
   {
    "duration": 3,
    "start_time": "2022-11-30T08:57:45.485Z"
   },
   {
    "duration": 40,
    "start_time": "2022-11-30T08:57:45.490Z"
   },
   {
    "duration": 10423,
    "start_time": "2022-11-30T08:57:45.532Z"
   },
   {
    "duration": 9644,
    "start_time": "2022-11-30T08:57:55.957Z"
   },
   {
    "duration": 10411,
    "start_time": "2022-11-30T08:58:05.602Z"
   },
   {
    "duration": 207,
    "start_time": "2022-11-30T08:58:16.015Z"
   },
   {
    "duration": 8,
    "start_time": "2022-11-30T08:58:16.224Z"
   },
   {
    "duration": 957,
    "start_time": "2022-11-30T08:58:16.233Z"
   },
   {
    "duration": 5,
    "start_time": "2022-11-30T08:58:17.191Z"
   },
   {
    "duration": 98,
    "start_time": "2022-11-30T08:58:17.198Z"
   },
   {
    "duration": 113,
    "start_time": "2022-11-30T08:58:17.298Z"
   },
   {
    "duration": 189,
    "start_time": "2022-11-30T08:58:17.414Z"
   },
   {
    "duration": 99,
    "start_time": "2022-11-30T08:58:17.605Z"
   },
   {
    "duration": 104,
    "start_time": "2022-11-30T08:58:17.705Z"
   },
   {
    "duration": 9,
    "start_time": "2022-11-30T08:58:17.811Z"
   },
   {
    "duration": 262,
    "start_time": "2022-11-30T08:58:17.822Z"
   },
   {
    "duration": 12,
    "start_time": "2022-11-30T08:58:18.085Z"
   },
   {
    "duration": 5,
    "start_time": "2022-11-30T09:00:37.624Z"
   },
   {
    "duration": 24,
    "start_time": "2022-11-30T09:00:38.921Z"
   },
   {
    "duration": 22,
    "start_time": "2022-11-30T09:00:39.809Z"
   },
   {
    "duration": 26,
    "start_time": "2022-11-30T09:00:40.758Z"
   },
   {
    "duration": 3,
    "start_time": "2022-11-30T09:00:49.132Z"
   },
   {
    "duration": 3,
    "start_time": "2022-11-30T09:00:51.799Z"
   },
   {
    "duration": 6,
    "start_time": "2022-11-30T09:00:54.056Z"
   },
   {
    "duration": 5,
    "start_time": "2022-11-30T09:06:36.003Z"
   },
   {
    "duration": 203,
    "start_time": "2022-11-30T09:09:20.099Z"
   },
   {
    "duration": 6,
    "start_time": "2022-11-30T09:09:42.047Z"
   },
   {
    "duration": 6,
    "start_time": "2022-11-30T09:10:01.080Z"
   },
   {
    "duration": 4,
    "start_time": "2022-11-30T09:10:30.623Z"
   },
   {
    "duration": 6,
    "start_time": "2022-11-30T09:10:34.837Z"
   },
   {
    "duration": 5,
    "start_time": "2022-11-30T09:10:35.634Z"
   },
   {
    "duration": 4,
    "start_time": "2022-11-30T09:12:29.989Z"
   },
   {
    "duration": 7,
    "start_time": "2022-11-30T09:12:30.717Z"
   },
   {
    "duration": 4,
    "start_time": "2022-11-30T09:12:31.538Z"
   },
   {
    "duration": 7,
    "start_time": "2022-11-30T09:12:51.129Z"
   },
   {
    "duration": 4,
    "start_time": "2022-11-30T09:13:39.930Z"
   },
   {
    "duration": 7,
    "start_time": "2022-11-30T09:13:43.433Z"
   },
   {
    "duration": 9,
    "start_time": "2022-11-30T09:13:44.198Z"
   },
   {
    "duration": 14,
    "start_time": "2022-11-30T09:14:33.296Z"
   },
   {
    "duration": 3,
    "start_time": "2022-11-30T09:14:45.101Z"
   },
   {
    "duration": 7,
    "start_time": "2022-11-30T09:14:46.844Z"
   },
   {
    "duration": 8,
    "start_time": "2022-11-30T09:14:47.639Z"
   },
   {
    "duration": 4,
    "start_time": "2022-11-30T09:16:37.701Z"
   },
   {
    "duration": 3,
    "start_time": "2022-11-30T09:16:46.488Z"
   },
   {
    "duration": 3,
    "start_time": "2022-11-30T09:16:54.990Z"
   },
   {
    "duration": 10,
    "start_time": "2022-11-30T09:16:55.950Z"
   },
   {
    "duration": 7,
    "start_time": "2022-11-30T09:16:56.524Z"
   },
   {
    "duration": 53,
    "start_time": "2022-11-30T09:18:03.158Z"
   },
   {
    "duration": 9,
    "start_time": "2022-11-30T09:18:03.788Z"
   },
   {
    "duration": 4,
    "start_time": "2022-11-30T09:18:27.225Z"
   },
   {
    "duration": 8,
    "start_time": "2022-11-30T09:18:28.824Z"
   },
   {
    "duration": 6,
    "start_time": "2022-11-30T09:18:29.723Z"
   },
   {
    "duration": 5,
    "start_time": "2022-11-30T09:22:26.082Z"
   },
   {
    "duration": 39,
    "start_time": "2022-11-30T09:22:27.033Z"
   },
   {
    "duration": 4,
    "start_time": "2022-11-30T09:24:16.639Z"
   },
   {
    "duration": 6,
    "start_time": "2022-11-30T09:24:17.495Z"
   },
   {
    "duration": 6,
    "start_time": "2022-11-30T09:24:18.634Z"
   },
   {
    "duration": 4,
    "start_time": "2022-11-30T09:25:21.505Z"
   },
   {
    "duration": 5,
    "start_time": "2022-11-30T09:25:22.349Z"
   },
   {
    "duration": 6,
    "start_time": "2022-11-30T09:25:23.331Z"
   },
   {
    "duration": 209,
    "start_time": "2022-11-30T09:26:05.683Z"
   },
   {
    "duration": 6,
    "start_time": "2022-11-30T09:26:17.978Z"
   },
   {
    "duration": 8,
    "start_time": "2022-11-30T09:26:18.516Z"
   },
   {
    "duration": 16,
    "start_time": "2022-11-30T09:26:43.429Z"
   },
   {
    "duration": 281,
    "start_time": "2022-11-30T09:27:09.074Z"
   },
   {
    "duration": 286,
    "start_time": "2022-11-30T09:27:56.268Z"
   },
   {
    "duration": 48,
    "start_time": "2022-11-30T09:28:07.517Z"
   },
   {
    "duration": 238,
    "start_time": "2022-11-30T09:28:14.624Z"
   },
   {
    "duration": 5,
    "start_time": "2022-11-30T09:34:04.144Z"
   },
   {
    "duration": 7,
    "start_time": "2022-11-30T09:36:21.141Z"
   },
   {
    "duration": 14,
    "start_time": "2022-11-30T09:36:23.177Z"
   },
   {
    "duration": 6,
    "start_time": "2022-11-30T09:36:31.806Z"
   },
   {
    "duration": 13,
    "start_time": "2022-11-30T09:37:52.158Z"
   },
   {
    "duration": 3,
    "start_time": "2022-11-30T09:38:09.292Z"
   },
   {
    "duration": 6,
    "start_time": "2022-11-30T09:38:12.275Z"
   },
   {
    "duration": 5,
    "start_time": "2022-11-30T09:38:13.167Z"
   },
   {
    "duration": 5,
    "start_time": "2022-11-30T09:38:23.749Z"
   },
   {
    "duration": 5,
    "start_time": "2022-11-30T09:38:24.480Z"
   },
   {
    "duration": 13,
    "start_time": "2022-11-30T09:39:32.338Z"
   },
   {
    "duration": 201,
    "start_time": "2022-11-30T09:39:44.255Z"
   },
   {
    "duration": 381,
    "start_time": "2022-11-30T09:40:05.842Z"
   },
   {
    "duration": 5,
    "start_time": "2022-11-30T09:42:51.470Z"
   },
   {
    "duration": 15,
    "start_time": "2022-11-30T09:43:00.562Z"
   },
   {
    "duration": 3,
    "start_time": "2022-11-30T09:44:04.165Z"
   },
   {
    "duration": 6,
    "start_time": "2022-11-30T09:44:16.321Z"
   },
   {
    "duration": 5,
    "start_time": "2022-11-30T09:44:53.316Z"
   },
   {
    "duration": 11,
    "start_time": "2022-11-30T09:44:53.821Z"
   },
   {
    "duration": 7,
    "start_time": "2022-11-30T09:44:57.162Z"
   },
   {
    "duration": 5,
    "start_time": "2022-11-30T09:45:09.103Z"
   },
   {
    "duration": 3,
    "start_time": "2022-11-30T09:45:09.987Z"
   },
   {
    "duration": 6,
    "start_time": "2022-11-30T09:45:10.963Z"
   },
   {
    "duration": 260,
    "start_time": "2022-11-30T09:45:24.797Z"
   },
   {
    "duration": 19,
    "start_time": "2022-11-30T09:48:12.038Z"
   },
   {
    "duration": 8,
    "start_time": "2022-11-30T09:49:06.056Z"
   },
   {
    "duration": 6,
    "start_time": "2022-11-30T09:49:45.937Z"
   },
   {
    "duration": 15,
    "start_time": "2022-11-30T09:49:53.802Z"
   },
   {
    "duration": 151,
    "start_time": "2022-11-30T09:51:41.083Z"
   },
   {
    "duration": 6,
    "start_time": "2022-11-30T09:52:13.998Z"
   },
   {
    "duration": 6,
    "start_time": "2022-11-30T09:53:10.262Z"
   },
   {
    "duration": 139,
    "start_time": "2022-11-30T09:53:14.139Z"
   },
   {
    "duration": 281,
    "start_time": "2022-11-30T09:53:34.387Z"
   },
   {
    "duration": 326,
    "start_time": "2022-11-30T09:54:06.178Z"
   },
   {
    "duration": 334,
    "start_time": "2022-11-30T09:54:14.787Z"
   },
   {
    "duration": 305,
    "start_time": "2022-11-30T09:54:48.304Z"
   },
   {
    "duration": 160,
    "start_time": "2022-11-30T09:55:09.766Z"
   },
   {
    "duration": 271,
    "start_time": "2022-11-30T09:55:24.018Z"
   },
   {
    "duration": 6,
    "start_time": "2022-11-30T09:56:04.534Z"
   },
   {
    "duration": 242,
    "start_time": "2022-11-30T09:56:08.143Z"
   },
   {
    "duration": 141,
    "start_time": "2022-11-30T09:56:24.106Z"
   },
   {
    "duration": 5,
    "start_time": "2022-11-30T09:57:55.555Z"
   },
   {
    "duration": 142,
    "start_time": "2022-11-30T09:57:57.847Z"
   },
   {
    "duration": 5,
    "start_time": "2022-11-30T10:01:15.108Z"
   },
   {
    "duration": 5,
    "start_time": "2022-11-30T10:01:16.423Z"
   },
   {
    "duration": 5,
    "start_time": "2022-11-30T10:02:44.509Z"
   },
   {
    "duration": 3,
    "start_time": "2022-11-30T10:02:44.976Z"
   },
   {
    "duration": 148,
    "start_time": "2022-11-30T10:02:45.717Z"
   },
   {
    "duration": 5,
    "start_time": "2022-11-30T10:02:58.487Z"
   },
   {
    "duration": 289,
    "start_time": "2022-11-30T10:03:41.671Z"
   },
   {
    "duration": 256,
    "start_time": "2022-11-30T10:04:45.601Z"
   },
   {
    "duration": 15,
    "start_time": "2022-11-30T10:06:28.819Z"
   },
   {
    "duration": 2,
    "start_time": "2022-11-30T10:06:35.680Z"
   },
   {
    "duration": 264,
    "start_time": "2022-11-30T10:06:36.408Z"
   },
   {
    "duration": 219,
    "start_time": "2022-11-30T10:07:36.846Z"
   },
   {
    "duration": 564,
    "start_time": "2022-11-30T10:07:46.415Z"
   },
   {
    "duration": 295,
    "start_time": "2022-11-30T10:07:59.080Z"
   },
   {
    "duration": 271,
    "start_time": "2022-11-30T10:08:08.198Z"
   },
   {
    "duration": 8,
    "start_time": "2022-11-30T10:14:41.914Z"
   },
   {
    "duration": 4,
    "start_time": "2022-11-30T10:14:43.995Z"
   },
   {
    "duration": 5,
    "start_time": "2022-11-30T10:14:47.508Z"
   },
   {
    "duration": 2,
    "start_time": "2022-11-30T10:14:48.932Z"
   },
   {
    "duration": 239,
    "start_time": "2022-11-30T10:14:49.720Z"
   },
   {
    "duration": 9,
    "start_time": "2022-11-30T10:16:01.669Z"
   },
   {
    "duration": 5,
    "start_time": "2022-11-30T10:16:03.631Z"
   },
   {
    "duration": 6,
    "start_time": "2022-11-30T10:16:08.235Z"
   },
   {
    "duration": 3,
    "start_time": "2022-11-30T10:16:13.916Z"
   },
   {
    "duration": 277,
    "start_time": "2022-11-30T10:16:14.697Z"
   },
   {
    "duration": 276,
    "start_time": "2022-11-30T10:17:17.658Z"
   },
   {
    "duration": 274,
    "start_time": "2022-11-30T10:17:42.600Z"
   },
   {
    "duration": 284,
    "start_time": "2022-11-30T10:18:00.091Z"
   },
   {
    "duration": 265,
    "start_time": "2022-11-30T10:19:58.121Z"
   },
   {
    "duration": 294,
    "start_time": "2022-11-30T10:20:41.034Z"
   },
   {
    "duration": 359,
    "start_time": "2022-11-30T10:20:49.000Z"
   },
   {
    "duration": 334,
    "start_time": "2022-11-30T10:21:03.739Z"
   },
   {
    "duration": 332,
    "start_time": "2022-11-30T10:21:14.122Z"
   },
   {
    "duration": 333,
    "start_time": "2022-11-30T10:21:31.042Z"
   },
   {
    "duration": 4,
    "start_time": "2022-11-30T10:22:18.895Z"
   },
   {
    "duration": 362,
    "start_time": "2022-11-30T10:22:19.398Z"
   },
   {
    "duration": 365,
    "start_time": "2022-11-30T10:24:34.564Z"
   },
   {
    "duration": 331,
    "start_time": "2022-11-30T10:24:48.493Z"
   },
   {
    "duration": 330,
    "start_time": "2022-11-30T10:25:13.658Z"
   },
   {
    "duration": 7,
    "start_time": "2022-11-30T10:26:20.695Z"
   },
   {
    "duration": 7,
    "start_time": "2022-11-30T10:26:37.457Z"
   },
   {
    "duration": 362,
    "start_time": "2022-11-30T10:27:35.264Z"
   },
   {
    "duration": 4,
    "start_time": "2022-11-30T10:28:01.161Z"
   },
   {
    "duration": 4,
    "start_time": "2022-11-30T10:28:26.474Z"
   },
   {
    "duration": 8,
    "start_time": "2022-11-30T10:28:27.679Z"
   },
   {
    "duration": 353,
    "start_time": "2022-11-30T10:28:36.379Z"
   },
   {
    "duration": 90,
    "start_time": "2022-11-30T10:31:18.829Z"
   },
   {
    "duration": 284,
    "start_time": "2022-11-30T10:31:28.882Z"
   },
   {
    "duration": 259,
    "start_time": "2022-11-30T10:32:30.609Z"
   },
   {
    "duration": 82,
    "start_time": "2022-11-30T10:33:03.395Z"
   },
   {
    "duration": 144,
    "start_time": "2022-11-30T10:33:16.292Z"
   },
   {
    "duration": 345,
    "start_time": "2022-11-30T10:33:28.894Z"
   },
   {
    "duration": 556,
    "start_time": "2022-11-30T10:33:50.269Z"
   },
   {
    "duration": 379,
    "start_time": "2022-11-30T10:34:00.484Z"
   },
   {
    "duration": 254,
    "start_time": "2022-11-30T10:35:09.719Z"
   },
   {
    "duration": 279,
    "start_time": "2022-11-30T10:35:42.373Z"
   },
   {
    "duration": 307,
    "start_time": "2022-11-30T10:36:31.581Z"
   },
   {
    "duration": 239,
    "start_time": "2022-11-30T10:37:15.025Z"
   },
   {
    "duration": 5,
    "start_time": "2022-11-30T10:38:31.568Z"
   },
   {
    "duration": 7,
    "start_time": "2022-11-30T10:38:33.010Z"
   },
   {
    "duration": 256,
    "start_time": "2022-11-30T10:38:34.720Z"
   },
   {
    "duration": 266,
    "start_time": "2022-11-30T10:38:43.446Z"
   },
   {
    "duration": 288,
    "start_time": "2022-11-30T10:38:58.279Z"
   },
   {
    "duration": 305,
    "start_time": "2022-11-30T10:39:05.978Z"
   },
   {
    "duration": 355,
    "start_time": "2022-11-30T10:39:14.180Z"
   },
   {
    "duration": 322,
    "start_time": "2022-11-30T10:39:45.954Z"
   },
   {
    "duration": 245,
    "start_time": "2022-11-30T10:41:09.224Z"
   },
   {
    "duration": 372,
    "start_time": "2022-11-30T10:41:18.861Z"
   },
   {
    "duration": 243,
    "start_time": "2022-11-30T10:41:28.131Z"
   },
   {
    "duration": 316,
    "start_time": "2022-11-30T10:42:09.123Z"
   },
   {
    "duration": 250,
    "start_time": "2022-11-30T10:42:39.418Z"
   },
   {
    "duration": 339,
    "start_time": "2022-11-30T10:43:22.431Z"
   },
   {
    "duration": 164,
    "start_time": "2022-11-30T10:43:52.188Z"
   },
   {
    "duration": 391,
    "start_time": "2022-11-30T10:44:04.463Z"
   },
   {
    "duration": 364,
    "start_time": "2022-11-30T10:44:43.556Z"
   },
   {
    "duration": 374,
    "start_time": "2022-11-30T10:44:58.378Z"
   },
   {
    "duration": 369,
    "start_time": "2022-11-30T10:45:16.996Z"
   },
   {
    "duration": 329,
    "start_time": "2022-11-30T10:45:26.730Z"
   },
   {
    "duration": 559,
    "start_time": "2022-11-30T10:46:47.313Z"
   },
   {
    "duration": 353,
    "start_time": "2022-11-30T10:47:11.807Z"
   },
   {
    "duration": 449,
    "start_time": "2022-11-30T10:47:55.944Z"
   },
   {
    "duration": 413,
    "start_time": "2022-11-30T10:48:30.957Z"
   },
   {
    "duration": 372,
    "start_time": "2022-11-30T10:50:02.039Z"
   },
   {
    "duration": 359,
    "start_time": "2022-11-30T10:50:24.114Z"
   },
   {
    "duration": 468,
    "start_time": "2022-11-30T10:50:36.351Z"
   },
   {
    "duration": 394,
    "start_time": "2022-11-30T10:50:47.782Z"
   },
   {
    "duration": 447,
    "start_time": "2022-11-30T10:51:00.161Z"
   },
   {
    "duration": 389,
    "start_time": "2022-11-30T10:51:08.846Z"
   },
   {
    "duration": 456,
    "start_time": "2022-11-30T10:51:21.572Z"
   },
   {
    "duration": 456,
    "start_time": "2022-11-30T10:52:14.157Z"
   },
   {
    "duration": 432,
    "start_time": "2022-11-30T10:52:21.017Z"
   },
   {
    "duration": 457,
    "start_time": "2022-11-30T10:52:30.221Z"
   },
   {
    "duration": 395,
    "start_time": "2022-11-30T10:53:05.255Z"
   },
   {
    "duration": 432,
    "start_time": "2022-11-30T10:55:38.985Z"
   },
   {
    "duration": 410,
    "start_time": "2022-11-30T10:55:58.198Z"
   },
   {
    "duration": 495,
    "start_time": "2022-11-30T10:56:19.962Z"
   },
   {
    "duration": 384,
    "start_time": "2022-11-30T10:56:36.917Z"
   },
   {
    "duration": 692,
    "start_time": "2022-11-30T10:57:03.915Z"
   },
   {
    "duration": 376,
    "start_time": "2022-11-30T10:57:14.626Z"
   },
   {
    "duration": 368,
    "start_time": "2022-11-30T10:58:10.322Z"
   },
   {
    "duration": 369,
    "start_time": "2022-11-30T10:58:18.118Z"
   },
   {
    "duration": 451,
    "start_time": "2022-11-30T10:58:35.976Z"
   },
   {
    "duration": 367,
    "start_time": "2022-11-30T10:59:01.410Z"
   },
   {
    "duration": 352,
    "start_time": "2022-11-30T10:59:15.522Z"
   },
   {
    "duration": 387,
    "start_time": "2022-11-30T10:59:22.706Z"
   },
   {
    "duration": 385,
    "start_time": "2022-11-30T11:02:12.852Z"
   },
   {
    "duration": 376,
    "start_time": "2022-11-30T11:02:44.951Z"
   },
   {
    "duration": 341,
    "start_time": "2022-11-30T11:04:07.621Z"
   },
   {
    "duration": 366,
    "start_time": "2022-11-30T11:04:21.568Z"
   },
   {
    "duration": 400,
    "start_time": "2022-11-30T11:07:50.263Z"
   },
   {
    "duration": 372,
    "start_time": "2022-11-30T11:08:22.190Z"
   },
   {
    "duration": 250,
    "start_time": "2022-11-30T11:10:02.325Z"
   },
   {
    "duration": 277,
    "start_time": "2022-11-30T11:10:26.663Z"
   },
   {
    "duration": 290,
    "start_time": "2022-11-30T11:11:38.167Z"
   },
   {
    "duration": 285,
    "start_time": "2022-11-30T11:15:47.456Z"
   },
   {
    "duration": 388,
    "start_time": "2022-11-30T11:15:55.279Z"
   },
   {
    "duration": 496,
    "start_time": "2022-11-30T11:16:43.771Z"
   },
   {
    "duration": 278,
    "start_time": "2022-11-30T11:17:01.398Z"
   },
   {
    "duration": 264,
    "start_time": "2022-11-30T11:17:59.721Z"
   },
   {
    "duration": 408,
    "start_time": "2022-11-30T11:20:28.166Z"
   },
   {
    "duration": 418,
    "start_time": "2022-11-30T11:21:04.968Z"
   },
   {
    "duration": 391,
    "start_time": "2022-11-30T11:21:39.590Z"
   },
   {
    "duration": 467,
    "start_time": "2022-11-30T11:24:15.780Z"
   },
   {
    "duration": 379,
    "start_time": "2022-11-30T11:24:58.238Z"
   },
   {
    "duration": 443,
    "start_time": "2022-11-30T11:25:16.740Z"
   },
   {
    "duration": 388,
    "start_time": "2022-11-30T11:25:27.115Z"
   },
   {
    "duration": 383,
    "start_time": "2022-11-30T11:25:42.845Z"
   },
   {
    "duration": 371,
    "start_time": "2022-11-30T11:26:46.616Z"
   },
   {
    "duration": 392,
    "start_time": "2022-11-30T11:26:56.393Z"
   },
   {
    "duration": 6,
    "start_time": "2022-11-30T12:50:08.762Z"
   },
   {
    "duration": 24,
    "start_time": "2022-11-30T12:50:11.179Z"
   },
   {
    "duration": 24,
    "start_time": "2022-11-30T12:50:12.971Z"
   },
   {
    "duration": 23,
    "start_time": "2022-11-30T12:50:20.720Z"
   },
   {
    "duration": 3,
    "start_time": "2022-11-30T12:50:28.004Z"
   },
   {
    "duration": 3,
    "start_time": "2022-11-30T12:50:29.200Z"
   },
   {
    "duration": 6,
    "start_time": "2022-11-30T12:50:31.262Z"
   },
   {
    "duration": 382,
    "start_time": "2022-11-30T12:50:38.783Z"
   },
   {
    "duration": 3,
    "start_time": "2022-11-30T12:50:59.705Z"
   },
   {
    "duration": 3,
    "start_time": "2022-11-30T13:08:43.298Z"
   },
   {
    "duration": 2,
    "start_time": "2022-11-30T13:10:48.311Z"
   },
   {
    "duration": 3,
    "start_time": "2022-11-30T13:11:12.809Z"
   },
   {
    "duration": 3,
    "start_time": "2022-11-30T13:25:12.805Z"
   },
   {
    "duration": 4,
    "start_time": "2022-11-30T13:25:14.096Z"
   },
   {
    "duration": 6,
    "start_time": "2022-11-30T13:25:15.257Z"
   },
   {
    "duration": 5,
    "start_time": "2022-11-30T13:25:22.522Z"
   },
   {
    "duration": 26,
    "start_time": "2022-11-30T13:25:23.591Z"
   },
   {
    "duration": 29,
    "start_time": "2022-11-30T13:25:24.171Z"
   },
   {
    "duration": 22,
    "start_time": "2022-11-30T13:25:24.797Z"
   },
   {
    "duration": 3,
    "start_time": "2022-11-30T13:25:26.980Z"
   },
   {
    "duration": 4,
    "start_time": "2022-11-30T13:25:28.203Z"
   },
   {
    "duration": 7,
    "start_time": "2022-11-30T13:25:29.423Z"
   },
   {
    "duration": 392,
    "start_time": "2022-11-30T13:25:31.054Z"
   },
   {
    "duration": 3,
    "start_time": "2022-11-30T13:25:33.635Z"
   },
   {
    "duration": 6,
    "start_time": "2022-11-30T13:27:17.321Z"
   },
   {
    "duration": 47,
    "start_time": "2022-11-30T13:29:11.356Z"
   },
   {
    "duration": 28,
    "start_time": "2022-11-30T13:29:18.857Z"
   },
   {
    "duration": 6,
    "start_time": "2022-11-30T13:34:23.475Z"
   },
   {
    "duration": 20,
    "start_time": "2022-11-30T13:34:24.320Z"
   },
   {
    "duration": 5,
    "start_time": "2022-11-30T13:35:35.825Z"
   },
   {
    "duration": 1607,
    "start_time": "2022-11-30T13:35:36.958Z"
   },
   {
    "duration": 6,
    "start_time": "2022-11-30T13:36:10.532Z"
   },
   {
    "duration": 1600,
    "start_time": "2022-11-30T13:36:11.574Z"
   },
   {
    "duration": 1583,
    "start_time": "2022-11-30T13:36:59.761Z"
   },
   {
    "duration": 1578,
    "start_time": "2022-11-30T13:37:02.396Z"
   },
   {
    "duration": 6,
    "start_time": "2022-11-30T13:38:37.535Z"
   },
   {
    "duration": 1628,
    "start_time": "2022-11-30T13:38:38.314Z"
   },
   {
    "duration": 1691,
    "start_time": "2022-11-30T13:38:55.524Z"
   },
   {
    "duration": 6,
    "start_time": "2022-11-30T13:40:55.608Z"
   },
   {
    "duration": 1636,
    "start_time": "2022-11-30T13:40:56.539Z"
   },
   {
    "duration": 6,
    "start_time": "2022-11-30T13:43:19.728Z"
   },
   {
    "duration": 6,
    "start_time": "2022-11-30T13:43:34.650Z"
   },
   {
    "duration": 1641,
    "start_time": "2022-11-30T13:43:35.328Z"
   },
   {
    "duration": 1582,
    "start_time": "2022-11-30T13:43:53.316Z"
   },
   {
    "duration": 1530,
    "start_time": "2022-11-30T13:43:57.888Z"
   },
   {
    "duration": 5,
    "start_time": "2022-11-30T13:45:33.568Z"
   },
   {
    "duration": 1652,
    "start_time": "2022-11-30T13:45:35.114Z"
   },
   {
    "duration": 1581,
    "start_time": "2022-11-30T13:45:38.456Z"
   },
   {
    "duration": 1553,
    "start_time": "2022-11-30T13:45:49.269Z"
   },
   {
    "duration": 4,
    "start_time": "2022-11-30T13:50:04.354Z"
   },
   {
    "duration": 5,
    "start_time": "2022-11-30T13:50:07.783Z"
   },
   {
    "duration": 1570,
    "start_time": "2022-11-30T13:50:08.334Z"
   },
   {
    "duration": 1546,
    "start_time": "2022-11-30T13:50:09.906Z"
   },
   {
    "duration": 1555,
    "start_time": "2022-11-30T13:50:11.454Z"
   },
   {
    "duration": 6,
    "start_time": "2022-11-30T13:54:55.456Z"
   },
   {
    "duration": 23,
    "start_time": "2022-11-30T13:54:56.563Z"
   },
   {
    "duration": 29,
    "start_time": "2022-11-30T13:54:57.303Z"
   },
   {
    "duration": 24,
    "start_time": "2022-11-30T13:54:58.122Z"
   },
   {
    "duration": 6,
    "start_time": "2022-11-30T13:55:12.851Z"
   },
   {
    "duration": 5,
    "start_time": "2022-11-30T13:55:25.191Z"
   },
   {
    "duration": 6,
    "start_time": "2022-11-30T13:58:18.422Z"
   },
   {
    "duration": 1553,
    "start_time": "2022-11-30T13:58:19.891Z"
   },
   {
    "duration": 3,
    "start_time": "2022-11-30T13:58:33.387Z"
   },
   {
    "duration": 1547,
    "start_time": "2022-11-30T13:59:23.542Z"
   },
   {
    "duration": 1615,
    "start_time": "2022-11-30T13:59:25.091Z"
   },
   {
    "duration": 4,
    "start_time": "2022-11-30T13:59:41.619Z"
   },
   {
    "duration": 5,
    "start_time": "2022-11-30T14:06:02.651Z"
   },
   {
    "duration": 23,
    "start_time": "2022-11-30T14:06:05.066Z"
   },
   {
    "duration": 5,
    "start_time": "2022-11-30T14:06:37.354Z"
   },
   {
    "duration": 29,
    "start_time": "2022-11-30T14:06:39.218Z"
   },
   {
    "duration": 23,
    "start_time": "2022-11-30T14:06:41.411Z"
   },
   {
    "duration": 27,
    "start_time": "2022-11-30T14:06:44.934Z"
   },
   {
    "duration": 3,
    "start_time": "2022-11-30T14:07:13.169Z"
   },
   {
    "duration": 3,
    "start_time": "2022-11-30T14:07:14.705Z"
   },
   {
    "duration": 7,
    "start_time": "2022-11-30T14:07:16.320Z"
   },
   {
    "duration": 238,
    "start_time": "2022-11-30T14:11:44.900Z"
   },
   {
    "duration": 402,
    "start_time": "2022-11-30T14:12:41.760Z"
   },
   {
    "duration": 5,
    "start_time": "2022-11-30T14:13:59.831Z"
   },
   {
    "duration": 1643,
    "start_time": "2022-11-30T14:14:01.038Z"
   },
   {
    "duration": 1658,
    "start_time": "2022-11-30T14:14:03.639Z"
   },
   {
    "duration": 1678,
    "start_time": "2022-11-30T14:14:06.161Z"
   },
   {
    "duration": 238,
    "start_time": "2022-11-30T14:14:35.026Z"
   },
   {
    "duration": 262,
    "start_time": "2022-11-30T14:14:59.382Z"
   },
   {
    "duration": 369,
    "start_time": "2022-11-30T14:15:53.007Z"
   },
   {
    "duration": 501,
    "start_time": "2022-11-30T14:16:07.067Z"
   },
   {
    "duration": 290,
    "start_time": "2022-11-30T14:16:13.978Z"
   },
   {
    "duration": 282,
    "start_time": "2022-11-30T14:17:17.393Z"
   },
   {
    "duration": 314,
    "start_time": "2022-11-30T14:17:46.088Z"
   },
   {
    "duration": 263,
    "start_time": "2022-11-30T14:17:52.014Z"
   },
   {
    "duration": 254,
    "start_time": "2022-11-30T14:18:04.220Z"
   },
   {
    "duration": 300,
    "start_time": "2022-11-30T14:18:14.160Z"
   },
   {
    "duration": 279,
    "start_time": "2022-11-30T14:18:36.608Z"
   },
   {
    "duration": 296,
    "start_time": "2022-11-30T14:21:26.225Z"
   },
   {
    "duration": 318,
    "start_time": "2022-11-30T14:22:52.448Z"
   },
   {
    "duration": 305,
    "start_time": "2022-11-30T14:23:06.422Z"
   },
   {
    "duration": 340,
    "start_time": "2022-11-30T14:24:03.697Z"
   },
   {
    "duration": 329,
    "start_time": "2022-11-30T14:24:55.392Z"
   },
   {
    "duration": 386,
    "start_time": "2022-11-30T14:26:41.753Z"
   },
   {
    "duration": 326,
    "start_time": "2022-11-30T14:26:57.502Z"
   },
   {
    "duration": 375,
    "start_time": "2022-11-30T14:27:24.721Z"
   },
   {
    "duration": 323,
    "start_time": "2022-11-30T14:27:33.916Z"
   },
   {
    "duration": 150,
    "start_time": "2022-11-30T14:32:24.637Z"
   },
   {
    "duration": 136,
    "start_time": "2022-11-30T14:32:56.506Z"
   },
   {
    "duration": 149,
    "start_time": "2022-11-30T14:33:15.057Z"
   },
   {
    "duration": 153,
    "start_time": "2022-11-30T14:34:49.629Z"
   },
   {
    "duration": 7,
    "start_time": "2022-11-30T14:36:58.536Z"
   },
   {
    "duration": 1691,
    "start_time": "2022-11-30T14:36:59.504Z"
   },
   {
    "duration": 1600,
    "start_time": "2022-11-30T14:37:06.304Z"
   },
   {
    "duration": 1596,
    "start_time": "2022-11-30T14:37:09.494Z"
   },
   {
    "duration": 155,
    "start_time": "2022-11-30T14:37:47.770Z"
   },
   {
    "duration": 337,
    "start_time": "2022-11-30T14:37:50.805Z"
   },
   {
    "duration": 409,
    "start_time": "2022-11-30T14:39:47.845Z"
   },
   {
    "duration": 340,
    "start_time": "2022-11-30T14:39:56.789Z"
   },
   {
    "duration": 367,
    "start_time": "2022-11-30T14:40:37.139Z"
   },
   {
    "duration": 167,
    "start_time": "2022-11-30T14:40:59.723Z"
   },
   {
    "duration": 273,
    "start_time": "2022-11-30T14:41:16.017Z"
   },
   {
    "duration": 2489,
    "start_time": "2022-11-30T14:58:03.065Z"
   },
   {
    "duration": 394,
    "start_time": "2022-11-30T14:58:05.556Z"
   },
   {
    "duration": 4,
    "start_time": "2022-11-30T14:58:05.952Z"
   },
   {
    "duration": 55,
    "start_time": "2022-11-30T14:58:05.959Z"
   },
   {
    "duration": 10643,
    "start_time": "2022-11-30T14:58:06.016Z"
   },
   {
    "duration": 10077,
    "start_time": "2022-11-30T14:58:16.661Z"
   },
   {
    "duration": 10370,
    "start_time": "2022-11-30T14:58:26.740Z"
   },
   {
    "duration": 129,
    "start_time": "2022-11-30T14:58:37.112Z"
   },
   {
    "duration": 7,
    "start_time": "2022-11-30T14:58:37.242Z"
   },
   {
    "duration": 1078,
    "start_time": "2022-11-30T14:58:37.252Z"
   },
   {
    "duration": 6,
    "start_time": "2022-11-30T14:58:38.332Z"
   },
   {
    "duration": 61,
    "start_time": "2022-11-30T14:58:38.340Z"
   },
   {
    "duration": 207,
    "start_time": "2022-11-30T14:58:38.403Z"
   },
   {
    "duration": 116,
    "start_time": "2022-11-30T14:58:38.697Z"
   },
   {
    "duration": 4,
    "start_time": "2022-11-30T14:58:38.814Z"
   },
   {
    "duration": 102,
    "start_time": "2022-11-30T14:58:38.896Z"
   },
   {
    "duration": 9,
    "start_time": "2022-11-30T14:58:39.001Z"
   },
   {
    "duration": 388,
    "start_time": "2022-11-30T14:58:39.011Z"
   },
   {
    "duration": 3,
    "start_time": "2022-11-30T14:58:39.401Z"
   },
   {
    "duration": 8,
    "start_time": "2022-11-30T14:58:39.406Z"
   },
   {
    "duration": 1615,
    "start_time": "2022-11-30T14:58:39.415Z"
   },
   {
    "duration": 1537,
    "start_time": "2022-11-30T14:58:41.032Z"
   },
   {
    "duration": 1586,
    "start_time": "2022-11-30T14:58:42.570Z"
   },
   {
    "duration": 239,
    "start_time": "2022-11-30T14:58:44.157Z"
   },
   {
    "duration": 342,
    "start_time": "2022-11-30T14:58:44.398Z"
   },
   {
    "duration": 457,
    "start_time": "2022-11-30T15:02:16.157Z"
   },
   {
    "duration": 365,
    "start_time": "2022-11-30T15:02:54.977Z"
   },
   {
    "duration": 370,
    "start_time": "2022-11-30T15:03:21.682Z"
   },
   {
    "duration": 409,
    "start_time": "2022-11-30T15:04:49.077Z"
   },
   {
    "duration": 22,
    "start_time": "2022-11-30T15:06:16.466Z"
   },
   {
    "duration": 91,
    "start_time": "2022-11-30T15:07:08.093Z"
   },
   {
    "duration": 76,
    "start_time": "2022-11-30T15:07:52.843Z"
   },
   {
    "duration": 6,
    "start_time": "2022-11-30T15:09:26.035Z"
   },
   {
    "duration": 28,
    "start_time": "2022-11-30T15:09:27.955Z"
   },
   {
    "duration": 5,
    "start_time": "2022-11-30T15:10:01.029Z"
   },
   {
    "duration": 23,
    "start_time": "2022-11-30T15:10:05.752Z"
   },
   {
    "duration": 24,
    "start_time": "2022-11-30T15:10:07.576Z"
   },
   {
    "duration": 21,
    "start_time": "2022-11-30T15:10:08.730Z"
   },
   {
    "duration": 991,
    "start_time": "2022-11-30T15:10:41.064Z"
   },
   {
    "duration": 104,
    "start_time": "2022-11-30T15:11:17.305Z"
   },
   {
    "duration": 3,
    "start_time": "2022-11-30T15:12:21.001Z"
   },
   {
    "duration": 7,
    "start_time": "2022-11-30T15:13:47.073Z"
   },
   {
    "duration": 7,
    "start_time": "2022-11-30T15:14:18.786Z"
   },
   {
    "duration": 3,
    "start_time": "2022-11-30T15:14:57.574Z"
   },
   {
    "duration": 6,
    "start_time": "2022-11-30T15:14:59.017Z"
   },
   {
    "duration": 393,
    "start_time": "2022-11-30T15:15:03.697Z"
   },
   {
    "duration": 425,
    "start_time": "2022-11-30T15:15:16.546Z"
   },
   {
    "duration": 6,
    "start_time": "2022-11-30T15:16:48.787Z"
   },
   {
    "duration": 1576,
    "start_time": "2022-11-30T15:16:49.497Z"
   },
   {
    "duration": 1586,
    "start_time": "2022-11-30T15:16:51.075Z"
   },
   {
    "duration": 1580,
    "start_time": "2022-11-30T15:16:52.663Z"
   },
   {
    "duration": 241,
    "start_time": "2022-11-30T15:17:04.442Z"
   },
   {
    "duration": 298,
    "start_time": "2022-11-30T15:18:52.424Z"
   },
   {
    "duration": 353,
    "start_time": "2022-11-30T15:19:15.600Z"
   },
   {
    "duration": 399,
    "start_time": "2022-11-30T15:19:38.574Z"
   },
   {
    "duration": 381,
    "start_time": "2022-11-30T15:20:25.899Z"
   },
   {
    "duration": 687,
    "start_time": "2022-11-30T15:20:37.097Z"
   },
   {
    "duration": 320,
    "start_time": "2022-11-30T15:20:52.746Z"
   },
   {
    "duration": 2453,
    "start_time": "2022-11-30T15:21:28.727Z"
   },
   {
    "duration": 361,
    "start_time": "2022-11-30T15:21:31.182Z"
   },
   {
    "duration": 3,
    "start_time": "2022-11-30T15:21:31.545Z"
   },
   {
    "duration": 84,
    "start_time": "2022-11-30T15:21:31.549Z"
   },
   {
    "duration": 10430,
    "start_time": "2022-11-30T15:21:31.636Z"
   },
   {
    "duration": 9654,
    "start_time": "2022-11-30T15:21:42.068Z"
   },
   {
    "duration": 10286,
    "start_time": "2022-11-30T15:21:51.723Z"
   },
   {
    "duration": 140,
    "start_time": "2022-11-30T15:22:02.010Z"
   },
   {
    "duration": 8,
    "start_time": "2022-11-30T15:22:02.151Z"
   },
   {
    "duration": 1018,
    "start_time": "2022-11-30T15:22:02.196Z"
   },
   {
    "duration": 5,
    "start_time": "2022-11-30T15:22:03.216Z"
   },
   {
    "duration": 175,
    "start_time": "2022-11-30T15:22:03.222Z"
   },
   {
    "duration": 22,
    "start_time": "2022-11-30T15:22:03.399Z"
   },
   {
    "duration": 176,
    "start_time": "2022-11-30T15:22:03.424Z"
   },
   {
    "duration": 95,
    "start_time": "2022-11-30T15:22:03.602Z"
   },
   {
    "duration": 8,
    "start_time": "2022-11-30T15:22:03.700Z"
   },
   {
    "duration": 115,
    "start_time": "2022-11-30T15:22:03.709Z"
   },
   {
    "duration": 365,
    "start_time": "2022-11-30T15:22:03.825Z"
   },
   {
    "duration": 5,
    "start_time": "2022-11-30T15:22:04.191Z"
   },
   {
    "duration": 17,
    "start_time": "2022-11-30T15:22:04.197Z"
   },
   {
    "duration": 1594,
    "start_time": "2022-11-30T15:22:04.216Z"
   },
   {
    "duration": 1686,
    "start_time": "2022-11-30T15:22:05.812Z"
   },
   {
    "duration": 1633,
    "start_time": "2022-11-30T15:22:07.500Z"
   },
   {
    "duration": 247,
    "start_time": "2022-11-30T15:22:09.135Z"
   },
   {
    "duration": 352,
    "start_time": "2022-11-30T15:22:09.383Z"
   },
   {
    "duration": 33,
    "start_time": "2022-11-30T15:41:42.775Z"
   },
   {
    "duration": 188,
    "start_time": "2022-11-30T15:43:21.430Z"
   },
   {
    "duration": 195,
    "start_time": "2022-11-30T15:43:55.037Z"
   },
   {
    "duration": 290,
    "start_time": "2022-11-30T15:45:15.943Z"
   },
   {
    "duration": 26,
    "start_time": "2022-11-30T15:45:31.625Z"
   },
   {
    "duration": 304,
    "start_time": "2022-11-30T16:14:23.351Z"
   },
   {
    "duration": 212,
    "start_time": "2022-11-30T16:15:28.985Z"
   },
   {
    "duration": 257,
    "start_time": "2022-11-30T16:15:40.641Z"
   },
   {
    "duration": 272,
    "start_time": "2022-11-30T16:16:33.249Z"
   },
   {
    "duration": 270,
    "start_time": "2022-11-30T16:17:44.604Z"
   },
   {
    "duration": 209,
    "start_time": "2022-11-30T16:18:04.657Z"
   },
   {
    "duration": 649,
    "start_time": "2022-11-30T16:18:41.653Z"
   },
   {
    "duration": 280,
    "start_time": "2022-11-30T16:20:32.798Z"
   },
   {
    "duration": 283,
    "start_time": "2022-11-30T16:20:58.404Z"
   },
   {
    "duration": 267,
    "start_time": "2022-11-30T16:21:12.912Z"
   },
   {
    "duration": 274,
    "start_time": "2022-11-30T16:22:10.980Z"
   },
   {
    "duration": 289,
    "start_time": "2022-11-30T16:22:36.087Z"
   },
   {
    "duration": 437,
    "start_time": "2022-11-30T16:22:43.365Z"
   },
   {
    "duration": 282,
    "start_time": "2022-11-30T16:24:15.771Z"
   },
   {
    "duration": 60,
    "start_time": "2022-11-30T16:24:24.657Z"
   },
   {
    "duration": 261,
    "start_time": "2022-11-30T16:24:31.408Z"
   },
   {
    "duration": 56,
    "start_time": "2022-11-30T16:31:02.318Z"
   },
   {
    "duration": 80,
    "start_time": "2022-11-30T16:31:29.317Z"
   },
   {
    "duration": 52,
    "start_time": "2022-11-30T16:32:33.506Z"
   },
   {
    "duration": 23,
    "start_time": "2022-11-30T16:34:02.542Z"
   },
   {
    "duration": 51,
    "start_time": "2022-11-30T16:34:24.827Z"
   },
   {
    "duration": 148,
    "start_time": "2022-11-30T16:34:35.967Z"
   },
   {
    "duration": 5,
    "start_time": "2022-11-30T16:34:51.592Z"
   },
   {
    "duration": 11,
    "start_time": "2022-11-30T16:35:00.368Z"
   },
   {
    "duration": 26,
    "start_time": "2022-11-30T16:38:35.188Z"
   },
   {
    "duration": 205,
    "start_time": "2022-11-30T16:39:17.706Z"
   },
   {
    "duration": 226,
    "start_time": "2022-11-30T16:41:50.211Z"
   },
   {
    "duration": 27,
    "start_time": "2022-11-30T16:42:07.475Z"
   },
   {
    "duration": 191,
    "start_time": "2022-11-30T16:42:28.217Z"
   },
   {
    "duration": 201,
    "start_time": "2022-11-30T16:42:49.836Z"
   },
   {
    "duration": 2298,
    "start_time": "2022-11-30T16:46:24.522Z"
   },
   {
    "duration": 356,
    "start_time": "2022-11-30T16:46:26.823Z"
   },
   {
    "duration": 4,
    "start_time": "2022-11-30T16:46:27.181Z"
   },
   {
    "duration": 45,
    "start_time": "2022-11-30T16:46:27.187Z"
   },
   {
    "duration": 10127,
    "start_time": "2022-11-30T16:46:27.233Z"
   },
   {
    "duration": 9545,
    "start_time": "2022-11-30T16:46:37.362Z"
   },
   {
    "duration": 10005,
    "start_time": "2022-11-30T16:46:46.909Z"
   },
   {
    "duration": 133,
    "start_time": "2022-11-30T16:46:56.915Z"
   },
   {
    "duration": 7,
    "start_time": "2022-11-30T16:46:57.050Z"
   },
   {
    "duration": 994,
    "start_time": "2022-11-30T16:46:57.096Z"
   },
   {
    "duration": 6,
    "start_time": "2022-11-30T16:46:58.092Z"
   },
   {
    "duration": 104,
    "start_time": "2022-11-30T16:46:58.099Z"
   },
   {
    "duration": 206,
    "start_time": "2022-11-30T16:46:58.206Z"
   },
   {
    "duration": 188,
    "start_time": "2022-11-30T16:46:58.414Z"
   },
   {
    "duration": 92,
    "start_time": "2022-11-30T16:46:58.605Z"
   },
   {
    "duration": 104,
    "start_time": "2022-11-30T16:46:58.699Z"
   },
   {
    "duration": 13,
    "start_time": "2022-11-30T16:46:58.806Z"
   },
   {
    "duration": 661,
    "start_time": "2022-11-30T16:46:58.822Z"
   },
   {
    "duration": 11,
    "start_time": "2022-11-30T16:46:59.485Z"
   },
   {
    "duration": 12,
    "start_time": "2022-11-30T16:46:59.498Z"
   },
   {
    "duration": 1690,
    "start_time": "2022-11-30T16:46:59.512Z"
   },
   {
    "duration": 1674,
    "start_time": "2022-11-30T16:47:01.204Z"
   },
   {
    "duration": 1624,
    "start_time": "2022-11-30T16:47:02.880Z"
   },
   {
    "duration": 237,
    "start_time": "2022-11-30T16:47:04.506Z"
   },
   {
    "duration": 367,
    "start_time": "2022-11-30T16:47:04.745Z"
   },
   {
    "duration": 4465,
    "start_time": "2022-11-30T18:20:28.459Z"
   },
   {
    "duration": 359,
    "start_time": "2022-11-30T18:20:32.926Z"
   },
   {
    "duration": 3,
    "start_time": "2022-11-30T18:20:33.287Z"
   },
   {
    "duration": 35,
    "start_time": "2022-11-30T18:20:33.291Z"
   },
   {
    "duration": 9834,
    "start_time": "2022-11-30T18:20:33.327Z"
   },
   {
    "duration": 9148,
    "start_time": "2022-11-30T18:20:43.163Z"
   },
   {
    "duration": 9735,
    "start_time": "2022-11-30T18:20:52.313Z"
   },
   {
    "duration": 156,
    "start_time": "2022-11-30T18:21:02.050Z"
   },
   {
    "duration": 7,
    "start_time": "2022-11-30T18:21:02.208Z"
   },
   {
    "duration": 960,
    "start_time": "2022-11-30T18:21:02.217Z"
   },
   {
    "duration": 5,
    "start_time": "2022-11-30T18:21:03.178Z"
   },
   {
    "duration": 102,
    "start_time": "2022-11-30T18:21:03.185Z"
   },
   {
    "duration": 105,
    "start_time": "2022-11-30T18:21:03.379Z"
   },
   {
    "duration": 112,
    "start_time": "2022-11-30T18:21:03.488Z"
   },
   {
    "duration": 3,
    "start_time": "2022-11-30T18:21:03.602Z"
   },
   {
    "duration": 107,
    "start_time": "2022-11-30T18:21:03.678Z"
   },
   {
    "duration": 11,
    "start_time": "2022-11-30T18:21:03.787Z"
   },
   {
    "duration": 397,
    "start_time": "2022-11-30T18:21:03.800Z"
   },
   {
    "duration": 4,
    "start_time": "2022-11-30T18:21:04.198Z"
   },
   {
    "duration": 16,
    "start_time": "2022-11-30T18:21:04.203Z"
   },
   {
    "duration": 1561,
    "start_time": "2022-11-30T18:21:04.220Z"
   },
   {
    "duration": 1719,
    "start_time": "2022-11-30T18:21:05.783Z"
   },
   {
    "duration": 1775,
    "start_time": "2022-11-30T18:21:07.504Z"
   },
   {
    "duration": 275,
    "start_time": "2022-11-30T18:21:09.281Z"
   },
   {
    "duration": 378,
    "start_time": "2022-11-30T18:21:09.558Z"
   },
   {
    "duration": 19292,
    "start_time": "2022-12-01T10:42:05.049Z"
   },
   {
    "duration": 1729,
    "start_time": "2022-12-01T10:42:24.343Z"
   },
   {
    "duration": 3,
    "start_time": "2022-12-01T10:42:26.073Z"
   },
   {
    "duration": 52,
    "start_time": "2022-12-01T10:42:26.078Z"
   },
   {
    "duration": 11305,
    "start_time": "2022-12-01T10:42:26.133Z"
   },
   {
    "duration": 10483,
    "start_time": "2022-12-01T10:42:37.440Z"
   },
   {
    "duration": 11143,
    "start_time": "2022-12-01T10:42:47.925Z"
   },
   {
    "duration": 200,
    "start_time": "2022-12-01T10:42:59.071Z"
   },
   {
    "duration": 7,
    "start_time": "2022-12-01T10:42:59.273Z"
   },
   {
    "duration": 1221,
    "start_time": "2022-12-01T10:42:59.282Z"
   },
   {
    "duration": 6,
    "start_time": "2022-12-01T10:43:00.505Z"
   },
   {
    "duration": 242,
    "start_time": "2022-12-01T10:43:00.513Z"
   },
   {
    "duration": 111,
    "start_time": "2022-12-01T10:43:00.758Z"
   },
   {
    "duration": 117,
    "start_time": "2022-12-01T10:43:00.954Z"
   },
   {
    "duration": 81,
    "start_time": "2022-12-01T10:43:01.073Z"
   },
   {
    "duration": 110,
    "start_time": "2022-12-01T10:43:01.156Z"
   },
   {
    "duration": 14,
    "start_time": "2022-12-01T10:43:01.268Z"
   },
   {
    "duration": 437,
    "start_time": "2022-12-01T10:43:01.284Z"
   },
   {
    "duration": 4,
    "start_time": "2022-12-01T10:43:01.723Z"
   },
   {
    "duration": 27,
    "start_time": "2022-12-01T10:43:01.729Z"
   },
   {
    "duration": 1708,
    "start_time": "2022-12-01T10:43:01.759Z"
   },
   {
    "duration": 1631,
    "start_time": "2022-12-01T10:43:03.470Z"
   },
   {
    "duration": 1650,
    "start_time": "2022-12-01T10:43:05.103Z"
   },
   {
    "duration": 256,
    "start_time": "2022-12-01T10:43:06.755Z"
   },
   {
    "duration": 374,
    "start_time": "2022-12-01T10:43:07.013Z"
   },
   {
    "duration": 2653,
    "start_time": "2022-12-01T10:44:44.902Z"
   },
   {
    "duration": 423,
    "start_time": "2022-12-01T10:44:47.558Z"
   },
   {
    "duration": 3,
    "start_time": "2022-12-01T10:44:47.983Z"
   },
   {
    "duration": 63,
    "start_time": "2022-12-01T10:44:47.988Z"
   },
   {
    "duration": 11420,
    "start_time": "2022-12-01T10:44:48.053Z"
   },
   {
    "duration": 11282,
    "start_time": "2022-12-01T10:44:59.475Z"
   },
   {
    "duration": 11508,
    "start_time": "2022-12-01T10:45:10.759Z"
   },
   {
    "duration": 188,
    "start_time": "2022-12-01T10:45:22.269Z"
   },
   {
    "duration": 8,
    "start_time": "2022-12-01T10:45:22.459Z"
   },
   {
    "duration": 1143,
    "start_time": "2022-12-01T10:45:22.471Z"
   },
   {
    "duration": 6,
    "start_time": "2022-12-01T10:45:23.616Z"
   },
   {
    "duration": 226,
    "start_time": "2022-12-01T10:45:23.625Z"
   },
   {
    "duration": 34,
    "start_time": "2022-12-01T10:45:23.853Z"
   },
   {
    "duration": 115,
    "start_time": "2022-12-01T10:45:23.957Z"
   },
   {
    "duration": 3,
    "start_time": "2022-12-01T10:45:24.075Z"
   },
   {
    "duration": 108,
    "start_time": "2022-12-01T10:45:24.152Z"
   },
   {
    "duration": 9,
    "start_time": "2022-12-01T10:45:24.262Z"
   },
   {
    "duration": 445,
    "start_time": "2022-12-01T10:45:24.273Z"
   },
   {
    "duration": 4,
    "start_time": "2022-12-01T10:45:24.720Z"
   },
   {
    "duration": 11,
    "start_time": "2022-12-01T10:45:24.726Z"
   },
   {
    "duration": 1779,
    "start_time": "2022-12-01T10:45:24.752Z"
   },
   {
    "duration": 1690,
    "start_time": "2022-12-01T10:45:26.533Z"
   },
   {
    "duration": 1831,
    "start_time": "2022-12-01T10:45:28.224Z"
   },
   {
    "duration": 279,
    "start_time": "2022-12-01T10:45:30.057Z"
   },
   {
    "duration": 383,
    "start_time": "2022-12-01T10:45:30.338Z"
   },
   {
    "duration": 5621,
    "start_time": "2022-12-01T11:28:49.138Z"
   },
   {
    "duration": 8,
    "start_time": "2022-12-01T11:33:16.297Z"
   },
   {
    "duration": 277,
    "start_time": "2022-12-01T11:33:21.378Z"
   },
   {
    "duration": 121,
    "start_time": "2022-12-01T11:33:32.937Z"
   },
   {
    "duration": 89,
    "start_time": "2022-12-01T11:33:54.975Z"
   },
   {
    "duration": 6448,
    "start_time": "2022-12-01T11:36:44.735Z"
   },
   {
    "duration": 12,
    "start_time": "2022-12-01T11:37:48.165Z"
   },
   {
    "duration": 679,
    "start_time": "2022-12-01T11:37:49.406Z"
   },
   {
    "duration": 0,
    "start_time": "2022-12-01T11:37:50.087Z"
   },
   {
    "duration": 261,
    "start_time": "2022-12-01T11:37:50.695Z"
   },
   {
    "duration": 9,
    "start_time": "2022-12-01T11:38:36.181Z"
   },
   {
    "duration": 67,
    "start_time": "2022-12-01T11:38:37.607Z"
   },
   {
    "duration": 99,
    "start_time": "2022-12-01T11:38:38.372Z"
   },
   {
    "duration": 141,
    "start_time": "2022-12-01T11:38:39.320Z"
   },
   {
    "duration": 7,
    "start_time": "2022-12-01T11:39:30.829Z"
   },
   {
    "duration": 61,
    "start_time": "2022-12-01T11:39:33.599Z"
   },
   {
    "duration": 118,
    "start_time": "2022-12-01T11:39:37.036Z"
   },
   {
    "duration": 135,
    "start_time": "2022-12-01T11:39:40.919Z"
   },
   {
    "duration": 6,
    "start_time": "2022-12-01T11:40:10.996Z"
   },
   {
    "duration": 76,
    "start_time": "2022-12-01T11:40:14.792Z"
   },
   {
    "duration": 183,
    "start_time": "2022-12-01T11:40:17.067Z"
   },
   {
    "duration": 46,
    "start_time": "2022-12-01T11:40:18.732Z"
   },
   {
    "duration": 7,
    "start_time": "2022-12-01T11:40:33.169Z"
   },
   {
    "duration": 166,
    "start_time": "2022-12-01T11:40:34.206Z"
   },
   {
    "duration": 130,
    "start_time": "2022-12-01T11:40:34.727Z"
   },
   {
    "duration": 125,
    "start_time": "2022-12-01T11:40:35.546Z"
   },
   {
    "duration": 10,
    "start_time": "2022-12-01T11:40:47.452Z"
   },
   {
    "duration": 101,
    "start_time": "2022-12-01T11:40:48.964Z"
   },
   {
    "duration": 40,
    "start_time": "2022-12-01T11:40:50.033Z"
   },
   {
    "duration": 79,
    "start_time": "2022-12-01T11:40:52.477Z"
   },
   {
    "duration": 7,
    "start_time": "2022-12-01T11:47:05.696Z"
   },
   {
    "duration": 5124,
    "start_time": "2022-12-01T11:49:22.446Z"
   },
   {
    "duration": 788,
    "start_time": "2022-12-01T11:49:27.573Z"
   },
   {
    "duration": 3,
    "start_time": "2022-12-01T11:49:28.363Z"
   },
   {
    "duration": 107,
    "start_time": "2022-12-01T11:49:28.369Z"
   },
   {
    "duration": 20274,
    "start_time": "2022-12-01T11:49:28.478Z"
   },
   {
    "duration": 19300,
    "start_time": "2022-12-01T11:49:48.754Z"
   },
   {
    "duration": 20824,
    "start_time": "2022-12-01T11:50:08.056Z"
   },
   {
    "duration": 296,
    "start_time": "2022-12-01T11:50:28.882Z"
   },
   {
    "duration": 9,
    "start_time": "2022-12-01T11:50:29.180Z"
   },
   {
    "duration": 2018,
    "start_time": "2022-12-01T11:50:29.252Z"
   },
   {
    "duration": 10,
    "start_time": "2022-12-01T11:50:31.273Z"
   },
   {
    "duration": 366,
    "start_time": "2022-12-01T11:50:31.286Z"
   },
   {
    "duration": 204,
    "start_time": "2022-12-01T11:50:31.655Z"
   },
   {
    "duration": 196,
    "start_time": "2022-12-01T11:50:31.862Z"
   },
   {
    "duration": 95,
    "start_time": "2022-12-01T11:50:32.061Z"
   },
   {
    "duration": 38,
    "start_time": "2022-12-01T11:50:32.158Z"
   },
   {
    "duration": 8,
    "start_time": "2022-12-01T11:50:32.252Z"
   },
   {
    "duration": 818,
    "start_time": "2022-12-01T11:50:32.262Z"
   },
   {
    "duration": 4,
    "start_time": "2022-12-01T11:50:33.082Z"
   },
   {
    "duration": 73,
    "start_time": "2022-12-01T11:50:33.088Z"
   },
   {
    "duration": 3791,
    "start_time": "2022-12-01T11:50:33.164Z"
   },
   {
    "duration": 3710,
    "start_time": "2022-12-01T11:50:36.957Z"
   },
   {
    "duration": 3520,
    "start_time": "2022-12-01T11:50:40.671Z"
   },
   {
    "duration": 592,
    "start_time": "2022-12-01T11:50:44.193Z"
   },
   {
    "duration": 591,
    "start_time": "2022-12-01T11:50:44.787Z"
   },
   {
    "duration": 2604,
    "start_time": "2022-12-01T12:16:36.568Z"
   },
   {
    "duration": 412,
    "start_time": "2022-12-01T12:16:39.175Z"
   },
   {
    "duration": 4,
    "start_time": "2022-12-01T12:16:39.589Z"
   },
   {
    "duration": 95,
    "start_time": "2022-12-01T12:16:39.596Z"
   },
   {
    "duration": 11120,
    "start_time": "2022-12-01T12:16:39.694Z"
   },
   {
    "duration": 10607,
    "start_time": "2022-12-01T12:16:50.816Z"
   },
   {
    "duration": 10860,
    "start_time": "2022-12-01T12:17:01.425Z"
   },
   {
    "duration": 122,
    "start_time": "2022-12-01T12:17:12.287Z"
   },
   {
    "duration": 8,
    "start_time": "2022-12-01T12:17:12.411Z"
   },
   {
    "duration": 1030,
    "start_time": "2022-12-01T12:17:12.452Z"
   },
   {
    "duration": 6,
    "start_time": "2022-12-01T12:17:13.484Z"
   },
   {
    "duration": 65,
    "start_time": "2022-12-01T12:17:13.492Z"
   },
   {
    "duration": 207,
    "start_time": "2022-12-01T12:17:13.559Z"
   },
   {
    "duration": 198,
    "start_time": "2022-12-01T12:17:13.853Z"
   },
   {
    "duration": 4,
    "start_time": "2022-12-01T12:17:14.056Z"
   },
   {
    "duration": 93,
    "start_time": "2022-12-01T12:17:14.063Z"
   },
   {
    "duration": 17,
    "start_time": "2022-12-01T12:17:14.158Z"
   },
   {
    "duration": 453,
    "start_time": "2022-12-01T12:17:14.177Z"
   },
   {
    "duration": 4,
    "start_time": "2022-12-01T12:17:14.632Z"
   },
   {
    "duration": 21,
    "start_time": "2022-12-01T12:17:14.638Z"
   },
   {
    "duration": 1668,
    "start_time": "2022-12-01T12:17:14.662Z"
   },
   {
    "duration": 1693,
    "start_time": "2022-12-01T12:17:16.332Z"
   },
   {
    "duration": 1789,
    "start_time": "2022-12-01T12:17:18.026Z"
   },
   {
    "duration": 266,
    "start_time": "2022-12-01T12:17:19.817Z"
   },
   {
    "duration": 328,
    "start_time": "2022-12-01T12:17:20.085Z"
   }
  ],
  "kernelspec": {
   "display_name": "Python 3 (ipykernel)",
   "language": "python",
   "name": "python3"
  },
  "language_info": {
   "codemirror_mode": {
    "name": "ipython",
    "version": 3
   },
   "file_extension": ".py",
   "mimetype": "text/x-python",
   "name": "python",
   "nbconvert_exporter": "python",
   "pygments_lexer": "ipython3",
   "version": "3.10.6"
  },
  "toc": {
   "base_numbering": 1,
   "nav_menu": {
    "height": "236px",
    "width": "280px"
   },
   "number_sections": true,
   "sideBar": true,
   "skip_h1_title": true,
   "title_cell": "Содержание",
   "title_sidebar": "Contents",
   "toc_cell": true,
   "toc_position": {
    "height": "710.867px",
    "left": "0px",
    "top": "111.333px",
    "width": "341.514px"
   },
   "toc_section_display": true,
   "toc_window_display": true
  }
 },
 "nbformat": 4,
 "nbformat_minor": 2
}
