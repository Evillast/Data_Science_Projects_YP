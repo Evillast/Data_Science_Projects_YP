{
 "cells": [
  {
   "cell_type": "markdown",
   "metadata": {},
   "source": [
    "# Алгоритм шифрования для защиты персональных данных клиентов"
   ]
  },
  {
   "cell_type": "markdown",
   "metadata": {
    "toc": true
   },
   "source": [
    "<h1>Содержание<span class=\"tocSkip\"></span></h1>\n",
    "<div class=\"toc\"><ul class=\"toc-item\"><li><span><a href=\"#Введение\" data-toc-modified-id=\"Введение-1\"><span class=\"toc-item-num\">1&nbsp;&nbsp;</span>Введение</a></span><ul class=\"toc-item\"><li><span><a href=\"#Цели-и-задачи\" data-toc-modified-id=\"Цели-и-задачи-1.1\"><span class=\"toc-item-num\">1.1&nbsp;&nbsp;</span>Цели и задачи</a></span></li><li><span><a href=\"#Структура-данных\" data-toc-modified-id=\"Структура-данных-1.2\"><span class=\"toc-item-num\">1.2&nbsp;&nbsp;</span>Структура данных</a></span></li></ul></li><li><span><a href=\"#Обзор-данных\" data-toc-modified-id=\"Обзор-данных-2\"><span class=\"toc-item-num\">2&nbsp;&nbsp;</span>Обзор данных</a></span></li><li><span><a href=\"#Умножение-матриц\" data-toc-modified-id=\"Умножение-матриц-3\"><span class=\"toc-item-num\">3&nbsp;&nbsp;</span>Умножение матриц</a></span></li><li><span><a href=\"#Алгоритм-шифрования-данных\" data-toc-modified-id=\"Алгоритм-шифрования-данных-4\"><span class=\"toc-item-num\">4&nbsp;&nbsp;</span>Алгоритм шифрования данных</a></span><ul class=\"toc-item\"><li><span><a href=\"#Алгоритм\" data-toc-modified-id=\"Алгоритм-4.1\"><span class=\"toc-item-num\">4.1&nbsp;&nbsp;</span>Алгоритм</a></span></li><li><span><a href=\"#Обоснование\" data-toc-modified-id=\"Обоснование-4.2\"><span class=\"toc-item-num\">4.2&nbsp;&nbsp;</span>Обоснование</a></span></li></ul></li><li><span><a href=\"#Проверка-алгоритма-шифрования-данных\" data-toc-modified-id=\"Проверка-алгоритма-шифрования-данных-5\"><span class=\"toc-item-num\">5&nbsp;&nbsp;</span>Проверка алгоритма шифрования данных</a></span></li><li><span><a href=\"#Итоги-исследования\" data-toc-modified-id=\"Итоги-исследования-6\"><span class=\"toc-item-num\">6&nbsp;&nbsp;</span>Итоги исследования</a></span></li></ul></div>"
   ]
  },
  {
   "cell_type": "markdown",
   "metadata": {},
   "source": [
    "## Введение"
   ]
  },
  {
   "cell_type": "markdown",
   "metadata": {},
   "source": [
    "### Цели и задачи"
   ]
  },
  {
   "cell_type": "markdown",
   "metadata": {},
   "source": [
    "**Цель исследования:**\n",
    "\n",
    "Защитить персональные данные клиентов страховой компании «Хоть потоп». \n",
    "\n",
    "**Задачи:**\n",
    "\n",
    "1. Изучить данные;\n",
    "2. Разработать такой алгоритм шифрования данных, чтобы после преобразования сложно было восстановить информацию, при этом качество машинного обучения методом линейной регрессии не должно снизиться;\n",
    "3. Обосновать корректность работы алгоритма."
   ]
  },
  {
   "cell_type": "markdown",
   "metadata": {},
   "source": [
    "### Структура данных"
   ]
  },
  {
   "cell_type": "markdown",
   "metadata": {},
   "source": [
    "**Признаки:**\n",
    "\n",
    "- **`Пол`** застрахованного лица;\n",
    "- **`Возраст`** застрахованного лица;\n",
    "- **`Зарплата`** застрахованного лица;\n",
    "- **`Члены семьи`** — количество членов семьи застрахованного лица;\n",
    "\n",
    "**Целевой признак:**\n",
    "\n",
    "- **`Страховые выплаты`** — количество страховых выплат клиенту за последние 5 лет."
   ]
  },
  {
   "cell_type": "markdown",
   "metadata": {},
   "source": [
    "## Обзор данных"
   ]
  },
  {
   "cell_type": "code",
   "execution_count": 1,
   "metadata": {},
   "outputs": [],
   "source": [
    "import pandas as pd\n",
    "import matplotlib.pyplot as plt\n",
    "import seaborn as sns\n",
    "import numpy as np\n",
    "import phik\n",
    "\n",
    "from sklearn.model_selection import train_test_split\n",
    "from sklearn.linear_model import LinearRegression\n",
    "from sklearn.metrics import r2_score"
   ]
  },
  {
   "cell_type": "code",
   "execution_count": 2,
   "metadata": {},
   "outputs": [],
   "source": [
    "data = pd.read_csv('https://code.s3.yandex.net//datasets/insurance.csv')"
   ]
  },
  {
   "cell_type": "markdown",
   "metadata": {},
   "source": [
    "Выведем на экран первые строки датафрейма:"
   ]
  },
  {
   "cell_type": "code",
   "execution_count": 3,
   "metadata": {},
   "outputs": [
    {
     "data": {
      "text/html": [
       "<div>\n",
       "<style scoped>\n",
       "    .dataframe tbody tr th:only-of-type {\n",
       "        vertical-align: middle;\n",
       "    }\n",
       "\n",
       "    .dataframe tbody tr th {\n",
       "        vertical-align: top;\n",
       "    }\n",
       "\n",
       "    .dataframe thead th {\n",
       "        text-align: right;\n",
       "    }\n",
       "</style>\n",
       "<table border=\"1\" class=\"dataframe\">\n",
       "  <thead>\n",
       "    <tr style=\"text-align: right;\">\n",
       "      <th></th>\n",
       "      <th>Пол</th>\n",
       "      <th>Возраст</th>\n",
       "      <th>Зарплата</th>\n",
       "      <th>Члены семьи</th>\n",
       "      <th>Страховые выплаты</th>\n",
       "    </tr>\n",
       "  </thead>\n",
       "  <tbody>\n",
       "    <tr>\n",
       "      <th>0</th>\n",
       "      <td>1</td>\n",
       "      <td>41.0</td>\n",
       "      <td>49600.0</td>\n",
       "      <td>1</td>\n",
       "      <td>0</td>\n",
       "    </tr>\n",
       "    <tr>\n",
       "      <th>1</th>\n",
       "      <td>0</td>\n",
       "      <td>46.0</td>\n",
       "      <td>38000.0</td>\n",
       "      <td>1</td>\n",
       "      <td>1</td>\n",
       "    </tr>\n",
       "    <tr>\n",
       "      <th>2</th>\n",
       "      <td>0</td>\n",
       "      <td>29.0</td>\n",
       "      <td>21000.0</td>\n",
       "      <td>0</td>\n",
       "      <td>0</td>\n",
       "    </tr>\n",
       "    <tr>\n",
       "      <th>3</th>\n",
       "      <td>0</td>\n",
       "      <td>21.0</td>\n",
       "      <td>41700.0</td>\n",
       "      <td>2</td>\n",
       "      <td>0</td>\n",
       "    </tr>\n",
       "    <tr>\n",
       "      <th>4</th>\n",
       "      <td>1</td>\n",
       "      <td>28.0</td>\n",
       "      <td>26100.0</td>\n",
       "      <td>0</td>\n",
       "      <td>0</td>\n",
       "    </tr>\n",
       "    <tr>\n",
       "      <th>5</th>\n",
       "      <td>1</td>\n",
       "      <td>43.0</td>\n",
       "      <td>41000.0</td>\n",
       "      <td>2</td>\n",
       "      <td>1</td>\n",
       "    </tr>\n",
       "    <tr>\n",
       "      <th>6</th>\n",
       "      <td>1</td>\n",
       "      <td>39.0</td>\n",
       "      <td>39700.0</td>\n",
       "      <td>2</td>\n",
       "      <td>0</td>\n",
       "    </tr>\n",
       "    <tr>\n",
       "      <th>7</th>\n",
       "      <td>1</td>\n",
       "      <td>25.0</td>\n",
       "      <td>38600.0</td>\n",
       "      <td>4</td>\n",
       "      <td>0</td>\n",
       "    </tr>\n",
       "    <tr>\n",
       "      <th>8</th>\n",
       "      <td>1</td>\n",
       "      <td>36.0</td>\n",
       "      <td>49700.0</td>\n",
       "      <td>1</td>\n",
       "      <td>0</td>\n",
       "    </tr>\n",
       "    <tr>\n",
       "      <th>9</th>\n",
       "      <td>1</td>\n",
       "      <td>32.0</td>\n",
       "      <td>51700.0</td>\n",
       "      <td>1</td>\n",
       "      <td>0</td>\n",
       "    </tr>\n",
       "  </tbody>\n",
       "</table>\n",
       "</div>"
      ],
      "text/plain": [
       "   Пол  Возраст  Зарплата  Члены семьи  Страховые выплаты\n",
       "0    1     41.0   49600.0            1                  0\n",
       "1    0     46.0   38000.0            1                  1\n",
       "2    0     29.0   21000.0            0                  0\n",
       "3    0     21.0   41700.0            2                  0\n",
       "4    1     28.0   26100.0            0                  0\n",
       "5    1     43.0   41000.0            2                  1\n",
       "6    1     39.0   39700.0            2                  0\n",
       "7    1     25.0   38600.0            4                  0\n",
       "8    1     36.0   49700.0            1                  0\n",
       "9    1     32.0   51700.0            1                  0"
      ]
     },
     "execution_count": 3,
     "metadata": {},
     "output_type": "execute_result"
    }
   ],
   "source": [
    "data.head(10)"
   ]
  },
  {
   "cell_type": "markdown",
   "metadata": {},
   "source": [
    "Выведем основную информацию о данных:"
   ]
  },
  {
   "cell_type": "code",
   "execution_count": 4,
   "metadata": {},
   "outputs": [
    {
     "name": "stdout",
     "output_type": "stream",
     "text": [
      "<class 'pandas.core.frame.DataFrame'>\n",
      "RangeIndex: 5000 entries, 0 to 4999\n",
      "Data columns (total 5 columns):\n",
      " #   Column             Non-Null Count  Dtype  \n",
      "---  ------             --------------  -----  \n",
      " 0   Пол                5000 non-null   int64  \n",
      " 1   Возраст            5000 non-null   float64\n",
      " 2   Зарплата           5000 non-null   float64\n",
      " 3   Члены семьи        5000 non-null   int64  \n",
      " 4   Страховые выплаты  5000 non-null   int64  \n",
      "dtypes: float64(2), int64(3)\n",
      "memory usage: 195.4 KB\n"
     ]
    }
   ],
   "source": [
    "data.info()"
   ]
  },
  {
   "cell_type": "markdown",
   "metadata": {},
   "source": [
    "Видим, что:\n",
    "- Пропуски в данных отсутствуют;\n",
    "- Столбцы **'Возраст'** и **'Зарплата'** принадлежат к типу *float*, хотя и содержат целые числа.\n",
    "\n",
    "Приведем эти столбцы к *целочисленному* типу:"
   ]
  },
  {
   "cell_type": "code",
   "execution_count": 5,
   "metadata": {},
   "outputs": [],
   "source": [
    "data['Возраст'] = data['Возраст'].astype(int)\n",
    "data['Зарплата'] = data['Зарплата'].astype(int)"
   ]
  },
  {
   "cell_type": "markdown",
   "metadata": {},
   "source": [
    "Проверим:"
   ]
  },
  {
   "cell_type": "code",
   "execution_count": 6,
   "metadata": {},
   "outputs": [
    {
     "data": {
      "text/html": [
       "<div>\n",
       "<style scoped>\n",
       "    .dataframe tbody tr th:only-of-type {\n",
       "        vertical-align: middle;\n",
       "    }\n",
       "\n",
       "    .dataframe tbody tr th {\n",
       "        vertical-align: top;\n",
       "    }\n",
       "\n",
       "    .dataframe thead th {\n",
       "        text-align: right;\n",
       "    }\n",
       "</style>\n",
       "<table border=\"1\" class=\"dataframe\">\n",
       "  <thead>\n",
       "    <tr style=\"text-align: right;\">\n",
       "      <th></th>\n",
       "      <th>type</th>\n",
       "    </tr>\n",
       "  </thead>\n",
       "  <tbody>\n",
       "    <tr>\n",
       "      <th>Пол</th>\n",
       "      <td>int64</td>\n",
       "    </tr>\n",
       "    <tr>\n",
       "      <th>Возраст</th>\n",
       "      <td>int32</td>\n",
       "    </tr>\n",
       "    <tr>\n",
       "      <th>Зарплата</th>\n",
       "      <td>int32</td>\n",
       "    </tr>\n",
       "    <tr>\n",
       "      <th>Члены семьи</th>\n",
       "      <td>int64</td>\n",
       "    </tr>\n",
       "    <tr>\n",
       "      <th>Страховые выплаты</th>\n",
       "      <td>int64</td>\n",
       "    </tr>\n",
       "  </tbody>\n",
       "</table>\n",
       "</div>"
      ],
      "text/plain": [
       "                    type\n",
       "Пол                int64\n",
       "Возраст            int32\n",
       "Зарплата           int32\n",
       "Члены семьи        int64\n",
       "Страховые выплаты  int64"
      ]
     },
     "execution_count": 6,
     "metadata": {},
     "output_type": "execute_result"
    }
   ],
   "source": [
    "data.dtypes.to_frame('type')"
   ]
  },
  {
   "cell_type": "markdown",
   "metadata": {},
   "source": [
    "Теперь проверим данные на наличие дубликатов:"
   ]
  },
  {
   "cell_type": "code",
   "execution_count": 7,
   "metadata": {},
   "outputs": [
    {
     "data": {
      "text/plain": [
       "153"
      ]
     },
     "execution_count": 7,
     "metadata": {},
     "output_type": "execute_result"
    }
   ],
   "source": [
    "data.duplicated().sum()"
   ]
  },
  {
   "cell_type": "markdown",
   "metadata": {},
   "source": [
    "Мы обнаружили некоторое количество полностью дублирующих друг друга строк. Уникального идентификатора пользователя у нас нет, чтобы с уверенностью утверждать, что эти строки действительно являются дубликатами. Так как признаков в таблице немного, есть вероятность полного совпадения данных о разных клиентах. Кроме того, решению нашей задачи дубликаты не мешают. Поэтому оставим их как есть."
   ]
  },
  {
   "cell_type": "markdown",
   "metadata": {},
   "source": [
    "Построим общую гистограмму для всех столбцов датафрэйма:"
   ]
  },
  {
   "cell_type": "code",
   "execution_count": 8,
   "metadata": {},
   "outputs": [
    {
     "data": {
      "image/png": "[encoded data removed]",
      "text/plain": [
       "<Figure size 1000x1400 with 6 Axes>"
      ]
     },
     "metadata": {},
     "output_type": "display_data"
    }
   ],
   "source": [
    "data.hist(figsize=(10,14), bins=50, grid=False, color='lightgreen', ec='black')\n",
    "plt.show()"
   ]
  },
  {
   "cell_type": "markdown",
   "metadata": {},
   "source": [
    "На гистограмме видим, что данные не содержат аномалий."
   ]
  },
  {
   "cell_type": "markdown",
   "metadata": {},
   "source": [
    "Построим также матрицу корреляций признаков:"
   ]
  },
  {
   "cell_type": "code",
   "execution_count": 9,
   "metadata": {},
   "outputs": [
    {
     "data": {
      "image/png": "[encoded data removed]",
      "text/plain": [
       "<Figure size 1000x800 with 2 Axes>"
      ]
     },
     "metadata": {},
     "output_type": "display_data"
    }
   ],
   "source": [
    "plt.figure(figsize=(10,8))\n",
    "sns.heatmap(data.phik_matrix(interval_cols=['Пол', 'Возраст', 'Члены семьи', 'Страховые выплаты']),\n",
    "            annot=True, cmap='crest', annot_kws={'size':12})\n",
    "plt.title('Матрица корреляций φk', fontsize=18, pad=25)\n",
    "plt.xticks(fontsize=12, rotation=20)\n",
    "plt.yticks(fontsize=12, rotation=0)\n",
    "plt.show()"
   ]
  },
  {
   "cell_type": "markdown",
   "metadata": {},
   "source": [
    "Мультиколлинеарности признаков не обнаружено.\n",
    "\n",
    "Присутствует сильная корреляция целевого признака **'Страховые выплаты'** и признака **'Возраст'**."
   ]
  },
  {
   "cell_type": "markdown",
   "metadata": {},
   "source": [
    "**Выводы:**\n",
    "\n",
    "Мы провели обзор данных. Выяснили следующее:\n",
    "\n",
    "- Пропуски в данных отсутствуют;\n",
    "- Присутствует некоторое количество полностью дублирующих друг друга строк. Мы не стали удалять их, так как они не мешают решению нашей задачи и так как без уникального идентификатора пользователя при малом количестве признаков нельзя быть до конца уверенными, что эти строки действительно являются дубликатами, а не просто совпадениями;\n",
    "- Данные не содержат аномалий;\n",
    "- Мультиколлинеарности признаков не обнаружено;\n",
    "- Присутствует сильная корреляция целевого признака **'Страховые выплаты'** и признака **'Возраст'**.\n",
    "\n",
    "Теперь можем приступать к разработке алгоритма преобразования данных."
   ]
  },
  {
   "cell_type": "markdown",
   "metadata": {},
   "source": [
    "## Умножение матриц"
   ]
  },
  {
   "cell_type": "markdown",
   "metadata": {},
   "source": [
    "Формула задачи обучения модели линейной регрессии для функции потерь *MSE* выглядит следующим образом:\n",
    "\n",
    "$$w = \\arg\\min_w MSE(Xw, y)$$\n",
    "\n",
    "где:\n",
    "\n",
    "- $MSE$ — средняя квадратичная ошибка;\n",
    "- $X$ — матрица признаков (нулевой столбец состоит из единиц);\n",
    "- $w$ — вектор весов линейной регрессии (нулевой элемент равен сдвигу);\n",
    "- $y$ — вектор целевого признака."
   ]
  },
  {
   "cell_type": "markdown",
   "metadata": {},
   "source": [
    "Минимальное значение *MSE* достигается, когда применяется следующая формула вектора весов линейной регрессии:\n",
    "\n",
    "$$w = (X^T X)^{-1} X^T y$$\n",
    "\n",
    "где:\n",
    "\n",
    "- $X^T$ — транспонированная матрица признаков;\n",
    "- $(X^T X)^{-1}$ — обратная матрица для произведения матриц $X^T X$."
   ]
  },
  {
   "cell_type": "markdown",
   "metadata": {},
   "source": [
    "Предсказания модели линейной регрессии вычисляются по формуле:\n",
    "\n",
    "$$a = Xw$$"
   ]
  },
  {
   "cell_type": "markdown",
   "metadata": {},
   "source": [
    "Докажем, что при умножении матрицы признаков $X$ на обратимую матрицу $P$ качество предсказания модели линейной регрессии не изменится, с помощью следующих свойств матричных операций:\n",
    "\n",
    "$(AB) C = A (BC)$\n",
    "\n",
    "$(AB)^T = B^T A^T$\n",
    "\n",
    "$EA=AE= A$, где $E$ — единичная матрица.\n",
    "\n",
    "Также для обратимых матриц $A$ и $B$ верно, что:\n",
    "\n",
    "$(AB)^{-1} = B^{-1} A^{-1}$\n",
    "\n",
    "$A^{-1}A=AA^{-1}= E$, где $E$ — единичная матрица."
   ]
  },
  {
   "cell_type": "markdown",
   "metadata": {},
   "source": [
    "Умножим матрицу признаков $X$ в формуле обучения на обратимую матрицу $P$:\n",
    "\n",
    "$w^{'} = ((XP)^T XP)^{-1} (XP)^T y$\n",
    "\n",
    "Раскроем скобки:\n",
    "\n",
    "$w^{'} = (P^T X^T X P)^{-1} P^T X^T y$\n",
    "\n",
    "$w^{'} = P^{-1} (X^T X)^{-1} (P^T)^{-1} P^T X^T y$\n",
    "\n",
    "Так как по условию матрица $P$ обратимая, $(P^T)^{-1}  P^T = E$\n",
    "\n",
    "Таким образом формула сокращается:\n",
    "\n",
    "$w^{'} = P^{-1} (X^T X)^{-1} X^T y$\n",
    "\n",
    "Заметим, что в формуле правая часть $(X^T X)^{-1} X^T y$ является формулой вектора весов линейной регрессии $w$.\n",
    "\n",
    "Таким образом $w^{'} = P^{-1} w$\n",
    "\n",
    "Подставим $w^{'}$ и произведение метриц $X$ и $P$ в формулу предсказаний линейной регрессии:\n",
    "\n",
    "$a^{'} = XPw^{'}$\n",
    "\n",
    "$a^{'} = XPP^{-1} w$\n",
    "\n",
    "Так как матрица $P$ обратимая, $PP^{-1} = E$.\n",
    "\n",
    "Сократим формулу:\n",
    "\n",
    "$a^{'} = Xw$\n",
    "\n",
    "Т.к. по формуле предсказаний линейной регрессии $a = Xw$ и $a^{'} = Xw$ по доказанному, получаем, что $a^{'} = a$\n",
    "\n",
    "Таким образом мы доказали, что предсказания $a^{'}$ для матрицы признаков $X$, умноженной на обратимую матрицу $P$, равны предсказаниям $a$ для матрицы признаков $X$.\n",
    "\n",
    "\n",
    "**Значит, при умножении матрицы признаков на обратимую матрицу качество предсказания модели линейной регрессии не изменится**."
   ]
  },
  {
   "cell_type": "markdown",
   "metadata": {},
   "source": [
    "## Алгоритм шифрования данных"
   ]
  },
  {
   "cell_type": "markdown",
   "metadata": {},
   "source": [
    "### Алгоритм"
   ]
  },
  {
   "cell_type": "markdown",
   "metadata": {},
   "source": [
    "Для преобразования данных воспользуемся следующим алгоритмом:\n",
    "\n",
    "0. Разобьем исходные данные на признаки и целевой признак;\n",
    "1. Преобразуем признаки из датафрэйма в матрицу;\n",
    "2. Создадим случайную квадратную матрицу, по ширине равную ширине матрицы признаков;\n",
    "3. Проверим матрицу на обратимость. Если матрица необратима, сгенерируем новую матрицу и повторим проверку;\n",
    "4. Сохраним обратную матрицу к сгенерированной нами (ключ шифрования), чтобы иметь возможность дешифровать данные;\n",
    "5. Умножим матрицу признаков на сгенерированную обратимую матрицу;\n",
    "6. Преобразуем полученную зашифрованную матрицу в новый датафрэйм."
   ]
  },
  {
   "cell_type": "markdown",
   "metadata": {},
   "source": [
    "Чтобы убедиться в корректности работы алгоритма:\n",
    "\n",
    "1. Разобьем исходные и зашифрованные признаки, а также целевой признак, на обучающую и тестовую выборки;\n",
    "2. Обучим и протестируем модель линейной регрессии на исходных и зашифрованных признаках;\n",
    "3. Сравним метрику *R2 (коэффициент детерминации)*: если значения метрики одинаковы, задача выполнена корректно."
   ]
  },
  {
   "cell_type": "markdown",
   "metadata": {},
   "source": [
    "### Обоснование"
   ]
  },
  {
   "cell_type": "markdown",
   "metadata": {},
   "source": [
    "По условию задачи нам нужно разработать такой алгоритм шифрования данных, чтобы:\n",
    "\n",
    "1. после преобразования сложно было восстановить информацию;\n",
    "2. качество машинного обучения методом линейной регрессии не снизилось.\n",
    "\n",
    "Выше мы доказали, что при умножении матрицы признаков на обратимую матрицу качество предсказания линейной регрессии не изменится, что соответствует второму условию нашей задачи. Поэтому будет логично построить алгоритм шифрования на данном свойстве матриц. Такой подход к шифрованию называется **«шифрование аналитическим преобразованием»**.\n",
    "\n",
    "Что касается первого условия задачи. Надежность (стойкость) шифрующего алгоритма определяется тем, насколько легко можно взломать шифр. Принято считать, что надежность шифра определяется только секретностью используемого ключа, сам же алгоритм шифрования предположительно известен оппоненту. Стойкость алгоритма шифрования обеспечивается высокой вычислительной сложностью задачи выяснения значения ключа. Т.е. надежность нашего алгоритма будет зависеть не от самого выбранного алгоритма, а в основном от того, насколько большой разброс рандомных значений мы зададим для функции, генерирующей рандомную матрицу.\n",
    "\n",
    "Таким образом мы считаем применение вышеизложенного алгоритма шифрования персональных данных клиентов обоснованным."
   ]
  },
  {
   "cell_type": "markdown",
   "metadata": {},
   "source": [
    "## Проверка алгоритма шифрования данных"
   ]
  },
  {
   "cell_type": "markdown",
   "metadata": {},
   "source": [
    "Разобьем исходные данные на признаки и целевой признак:"
   ]
  },
  {
   "cell_type": "code",
   "execution_count": 10,
   "metadata": {},
   "outputs": [],
   "source": [
    "features = data.drop('Страховые выплаты', axis=1)\n",
    "target = data['Страховые выплаты']"
   ]
  },
  {
   "cell_type": "markdown",
   "metadata": {},
   "source": [
    "Теперь напишем функцию, которая реализует изложенный выше алгоритм шифрования персональных данных клиентов:"
   ]
  },
  {
   "cell_type": "code",
   "execution_count": 11,
   "metadata": {},
   "outputs": [],
   "source": [
    "def encoder(features):\n",
    "    # Преобразуем признаки в матрицу\n",
    "    X = features.values\n",
    "    \n",
    "    # Создаем случайную квадратную матрицу, по ширине равную ширине матрицы признаков\n",
    "    # Разброс значений внутри матрицы зададим в пределах от +1 000 000 до -1 000 000\n",
    "    P = np.random.normal(loc=0.0, scale=1000000, size=(features.shape[1], features.shape[1]))\n",
    "    \n",
    "    try:\n",
    "    \n",
    "        # Обращаем матрицу и сохраняем ключ шифрования\n",
    "        # Если матрица необратима, сработает ветка except\n",
    "        P_inv = np.linalg.inv(P)\n",
    "        \n",
    "        # Преобразуем матрицу признаков\n",
    "        XP = X @ P\n",
    "        \n",
    "        # Cохраняем зашифрованные признаки в новый датафрэйм\n",
    "        encoded = pd.DataFrame(XP, columns=features.columns)\n",
    "        \n",
    "        # Возвращаем зашифрованные признаки и ключ шифрования\n",
    "        return encoded, P_inv\n",
    "    \n",
    "    except np.linalg.LinAlgError:\n",
    "        print('Матрица необратима. Попробуйте еще раз.')"
   ]
  },
  {
   "cell_type": "markdown",
   "metadata": {},
   "source": [
    "Запускаем алгоритм на наших данных:"
   ]
  },
  {
   "cell_type": "code",
   "execution_count": 12,
   "metadata": {},
   "outputs": [],
   "source": [
    "features_encoded, key = encoder(features)"
   ]
  },
  {
   "cell_type": "markdown",
   "metadata": {},
   "source": [
    "Выведем результат работы алгоритма на экран:"
   ]
  },
  {
   "cell_type": "code",
   "execution_count": 13,
   "metadata": {},
   "outputs": [
    {
     "data": {
      "text/html": [
       "<div>\n",
       "<style scoped>\n",
       "    .dataframe tbody tr th:only-of-type {\n",
       "        vertical-align: middle;\n",
       "    }\n",
       "\n",
       "    .dataframe tbody tr th {\n",
       "        vertical-align: top;\n",
       "    }\n",
       "\n",
       "    .dataframe thead th {\n",
       "        text-align: right;\n",
       "    }\n",
       "</style>\n",
       "<table border=\"1\" class=\"dataframe\">\n",
       "  <thead>\n",
       "    <tr style=\"text-align: right;\">\n",
       "      <th></th>\n",
       "      <th>Пол</th>\n",
       "      <th>Возраст</th>\n",
       "      <th>Зарплата</th>\n",
       "      <th>Члены семьи</th>\n",
       "    </tr>\n",
       "  </thead>\n",
       "  <tbody>\n",
       "    <tr>\n",
       "      <th>0</th>\n",
       "      <td>5.434593e+10</td>\n",
       "      <td>-1.598834e+10</td>\n",
       "      <td>-1.619643e+08</td>\n",
       "      <td>2.304972e+10</td>\n",
       "    </tr>\n",
       "    <tr>\n",
       "      <th>1</th>\n",
       "      <td>4.163103e+10</td>\n",
       "      <td>-1.225147e+10</td>\n",
       "      <td>-1.190607e+08</td>\n",
       "      <td>1.766014e+10</td>\n",
       "    </tr>\n",
       "    <tr>\n",
       "      <th>2</th>\n",
       "      <td>2.300571e+10</td>\n",
       "      <td>-6.772361e+09</td>\n",
       "      <td>-6.427723e+07</td>\n",
       "      <td>9.759859e+09</td>\n",
       "    </tr>\n",
       "    <tr>\n",
       "      <th>3</th>\n",
       "      <td>4.569446e+10</td>\n",
       "      <td>-1.343849e+10</td>\n",
       "      <td>-1.395380e+08</td>\n",
       "      <td>1.937745e+10</td>\n",
       "    </tr>\n",
       "    <tr>\n",
       "      <th>4</th>\n",
       "      <td>2.859519e+10</td>\n",
       "      <td>-8.414632e+09</td>\n",
       "      <td>-8.376997e+07</td>\n",
       "      <td>1.212948e+10</td>\n",
       "    </tr>\n",
       "  </tbody>\n",
       "</table>\n",
       "</div>"
      ],
      "text/plain": [
       "            Пол       Возраст      Зарплата   Члены семьи\n",
       "0  5.434593e+10 -1.598834e+10 -1.619643e+08  2.304972e+10\n",
       "1  4.163103e+10 -1.225147e+10 -1.190607e+08  1.766014e+10\n",
       "2  2.300571e+10 -6.772361e+09 -6.427723e+07  9.759859e+09\n",
       "3  4.569446e+10 -1.343849e+10 -1.395380e+08  1.937745e+10\n",
       "4  2.859519e+10 -8.414632e+09 -8.376997e+07  1.212948e+10"
      ]
     },
     "execution_count": 13,
     "metadata": {},
     "output_type": "execute_result"
    }
   ],
   "source": [
    "features_encoded.head()"
   ]
  },
  {
   "cell_type": "code",
   "execution_count": 14,
   "metadata": {},
   "outputs": [
    {
     "data": {
      "text/plain": [
       "array([[-3.82871954e-07, -1.77484400e-06,  2.72056758e-07,\n",
       "         1.71333853e-07],\n",
       "       [-4.21439625e-07, -2.56045670e-07,  1.17154752e-07,\n",
       "         6.51447473e-07],\n",
       "       [-8.56365359e-07,  1.67606254e-07, -1.96855074e-08,\n",
       "         5.06901290e-07],\n",
       "       [ 6.04420114e-07,  4.01002582e-06,  1.59154864e-06,\n",
       "         5.15133370e-08]])"
      ]
     },
     "execution_count": 14,
     "metadata": {},
     "output_type": "execute_result"
    }
   ],
   "source": [
    "key"
   ]
  },
  {
   "cell_type": "markdown",
   "metadata": {},
   "source": [
    "Напишем функцию для тестирования работы алгоритма:"
   ]
  },
  {
   "cell_type": "code",
   "execution_count": 15,
   "metadata": {},
   "outputs": [],
   "source": [
    "def test(features, target=target):\n",
    "    \n",
    "    # Разбиваем признаки и целевой признак на обучающую и тестовую выборки\n",
    "    features_train, features_test, target_train, target_test = train_test_split(\n",
    "        features, target, test_size=0.25, random_state=12345)\n",
    "    \n",
    "    # Обучаем модель\n",
    "    model = LinearRegression()\n",
    "    model.fit(features_train, target_train)\n",
    "    \n",
    "    # Делаем предсказания на тестовой выборке\n",
    "    predictions = model.predict(features_test)\n",
    "    \n",
    "    # Считаем коэффициент детерминации\n",
    "    r2 = r2_score(target_test, predictions)\n",
    "    \n",
    "    print('R2 линейной регрессии на тестовой выборке: {:.3f}'.format(r2))"
   ]
  },
  {
   "cell_type": "markdown",
   "metadata": {},
   "source": [
    "Протестируем модель линейной регрессии на исходных признаках:"
   ]
  },
  {
   "cell_type": "code",
   "execution_count": 16,
   "metadata": {},
   "outputs": [
    {
     "name": "stdout",
     "output_type": "stream",
     "text": [
      "R2 линейной регрессии на тестовой выборке: 0.435\n"
     ]
    }
   ],
   "source": [
    "test(features)"
   ]
  },
  {
   "cell_type": "markdown",
   "metadata": {},
   "source": [
    "А теперь на зашифрованных:"
   ]
  },
  {
   "cell_type": "code",
   "execution_count": 17,
   "metadata": {},
   "outputs": [
    {
     "name": "stdout",
     "output_type": "stream",
     "text": [
      "R2 линейной регрессии на тестовой выборке: 0.435\n"
     ]
    }
   ],
   "source": [
    "test(features_encoded)"
   ]
  },
  {
   "cell_type": "markdown",
   "metadata": {},
   "source": [
    "Значение метрики *R2* одинаковое при тестировании как на исходных, так и на зашифрованных признаках, значит, качество предсказания линейной регрессии не изменилось, и алгоритм работает корректно."
   ]
  },
  {
   "cell_type": "markdown",
   "metadata": {},
   "source": [
    "## Итоги исследования"
   ]
  },
  {
   "cell_type": "markdown",
   "metadata": {},
   "source": [
    "**Целью нашего исследования было разработать такой алгоритм шифрования персональных данных клиентов страховой компании, чтобы после преобразования сложно было восстановить информацию, при этом качество машинного обучения методом линейной регрессии не должно было снизиться**.\n",
    "\n",
    "**В первой части** исследования мы провели обзор данных и выяснили следующее:\n",
    "\n",
    "- Пропуски в данных отсутствуют;\n",
    "- Присутствует некоторое количество полностью дублирующих друг друга строк. Мы не стали удалять их, так как они не мешают решению нашей задачи и так как без уникального идентификатора пользователя при малом количестве признаков нельзя быть до конца уверенными, что эти строки действительно являются дубликатами, а не просто совпадениями;\n",
    "- Данные не содержат аномалий;\n",
    "- Мультиколлинеарности признаков не обнаружено;\n",
    "- Присутствует сильная корреляция целевого признака **'Страховые выплаты'** и признака **'Возраст'**.\n",
    "\n",
    "**Во второй части** мы доказали алгебраически, что при умножении матрицы признаков на обратимую матрицу качество предсказания модели линейной регрессии не изменится.\n",
    "\n",
    "**В третьей части** мы предложили и обосновали следующий алгоритм шифрования данных:\n",
    "\n",
    "0. Разбиваем исходные данные на признаки и целевой признак;\n",
    "1. Преобразовываем признаки из датафрэйма в матрицу;\n",
    "2. Создаем случайную квадратную матрицу, по ширине равную ширине матрицы признаков;\n",
    "3. Проверяем матрицу на обратимость. Если матрица необратима, генерируем новую матрицу и повторяем проверку;\n",
    "4. Сохраняем обратную матрицу к сгенерированной нами (ключ шифрования), чтобы иметь возможность дешифровать данные;\n",
    "5. Умножаем матрицу признаков на сгенерированную обратимую матрицу;\n",
    "6. Преобразовываем полученную зашифрованную матрицу в новый датафрэйм.\n",
    "\n",
    "И способ его проверки:\n",
    "\n",
    "1. Разбиваем исходные и зашифрованные признаки, а также целевой признак, на обучающую и тестовую выборки;\n",
    "2. Обучаем и протестируем модель линейной регрессии на исходных и зашифрованных признаках;\n",
    "3. Сравниваем метрику *R2 (коэффициент детерминации)*: если значения метрики одинаковы, задача выполнена корректно.\n",
    "\n",
    "**В заключительной части** исследования мы реализовали предложенный алгоритм шифрования и протестировали модель линейной регрессии на исходных и зашифрованных с помощью нашего алгоритма данных. Мы получили одинаковое значение метрики *R2* при тестировании модели на исходных и на зашифрованных данных, значит, качество предсказания модели не изменилось, и алгоритм работает корректно.\n",
    "\n",
    "**Таким образом алгоритм, реализованный в функции encoder, способен защитить персональные данные клиентов страховой компании, не снижая качество машинного обучения методом линейной регрессии.**"
   ]
  }
 ],
 "metadata": {
  "ExecuteTimeLog": [
   {
    "duration": 1409,
    "start_time": "2022-12-27T10:59:09.936Z"
   },
   {
    "duration": 14349,
    "start_time": "2022-12-27T11:00:34.211Z"
   },
   {
    "duration": 51,
    "start_time": "2022-12-27T11:03:01.377Z"
   },
   {
    "duration": 12,
    "start_time": "2022-12-27T11:03:03.902Z"
   },
   {
    "duration": 12,
    "start_time": "2022-12-27T11:03:36.624Z"
   },
   {
    "duration": 6509,
    "start_time": "2022-12-27T11:16:58.829Z"
   },
   {
    "duration": 6,
    "start_time": "2022-12-27T11:23:36.014Z"
   },
   {
    "duration": 6,
    "start_time": "2022-12-27T11:23:45.928Z"
   },
   {
    "duration": 6,
    "start_time": "2022-12-27T11:23:56.274Z"
   },
   {
    "duration": 6,
    "start_time": "2022-12-27T11:25:42.374Z"
   },
   {
    "duration": 42,
    "start_time": "2022-12-27T11:28:17.285Z"
   },
   {
    "duration": 98,
    "start_time": "2022-12-27T11:28:59.384Z"
   },
   {
    "duration": 15,
    "start_time": "2022-12-27T11:29:11.717Z"
   },
   {
    "duration": 848,
    "start_time": "2022-12-27T11:31:58.670Z"
   },
   {
    "duration": 1093,
    "start_time": "2022-12-27T11:32:45.340Z"
   },
   {
    "duration": 747,
    "start_time": "2022-12-27T11:32:58.716Z"
   },
   {
    "duration": 703,
    "start_time": "2022-12-27T11:33:12.457Z"
   },
   {
    "duration": 1026,
    "start_time": "2022-12-27T11:33:24.282Z"
   },
   {
    "duration": 896,
    "start_time": "2022-12-27T11:34:17.931Z"
   },
   {
    "duration": 1010,
    "start_time": "2022-12-27T11:34:29.584Z"
   },
   {
    "duration": 819,
    "start_time": "2022-12-27T11:34:47.334Z"
   },
   {
    "duration": 372,
    "start_time": "2022-12-27T11:58:06.363Z"
   },
   {
    "duration": 380,
    "start_time": "2022-12-27T11:59:45.965Z"
   },
   {
    "duration": 1042,
    "start_time": "2022-12-27T12:00:57.396Z"
   },
   {
    "duration": 380,
    "start_time": "2022-12-27T12:02:24.497Z"
   },
   {
    "duration": 380,
    "start_time": "2022-12-27T12:02:51.179Z"
   },
   {
    "duration": 328,
    "start_time": "2022-12-27T12:03:31.639Z"
   },
   {
    "duration": 353,
    "start_time": "2022-12-27T12:04:00.537Z"
   },
   {
    "duration": 363,
    "start_time": "2022-12-27T12:04:08.795Z"
   },
   {
    "duration": 311,
    "start_time": "2022-12-27T12:04:19.242Z"
   },
   {
    "duration": 378,
    "start_time": "2022-12-27T12:04:25.578Z"
   },
   {
    "duration": 317,
    "start_time": "2022-12-27T12:04:33.147Z"
   },
   {
    "duration": 18,
    "start_time": "2022-12-27T12:09:53.892Z"
   },
   {
    "duration": 9,
    "start_time": "2022-12-27T12:10:08.841Z"
   },
   {
    "duration": 3,
    "start_time": "2022-12-27T14:10:43.660Z"
   },
   {
    "duration": 95,
    "start_time": "2022-12-27T14:10:43.667Z"
   },
   {
    "duration": 10,
    "start_time": "2022-12-27T14:10:43.764Z"
   },
   {
    "duration": 14,
    "start_time": "2022-12-27T14:10:43.775Z"
   },
   {
    "duration": 4,
    "start_time": "2022-12-27T14:10:43.792Z"
   },
   {
    "duration": 20,
    "start_time": "2022-12-27T14:10:43.797Z"
   },
   {
    "duration": 0,
    "start_time": "2022-12-27T14:10:43.818Z"
   },
   {
    "duration": 0,
    "start_time": "2022-12-27T14:10:43.820Z"
   },
   {
    "duration": 0,
    "start_time": "2022-12-27T14:10:43.821Z"
   },
   {
    "duration": 0,
    "start_time": "2022-12-27T14:10:43.823Z"
   },
   {
    "duration": 0,
    "start_time": "2022-12-27T14:10:43.825Z"
   },
   {
    "duration": 6,
    "start_time": "2022-12-27T14:11:05.056Z"
   },
   {
    "duration": 14,
    "start_time": "2022-12-27T14:11:21.236Z"
   },
   {
    "duration": 7,
    "start_time": "2022-12-27T14:11:31.861Z"
   },
   {
    "duration": 7,
    "start_time": "2022-12-27T14:11:45.753Z"
   },
   {
    "duration": 6,
    "start_time": "2022-12-27T14:11:46.800Z"
   },
   {
    "duration": 8,
    "start_time": "2022-12-27T14:11:47.850Z"
   },
   {
    "duration": 1115,
    "start_time": "2022-12-27T14:11:49.748Z"
   },
   {
    "duration": 429,
    "start_time": "2022-12-27T14:12:07.288Z"
   },
   {
    "duration": 337,
    "start_time": "2022-12-27T14:12:29.531Z"
   },
   {
    "duration": 366,
    "start_time": "2022-12-27T14:12:40.429Z"
   },
   {
    "duration": 378,
    "start_time": "2022-12-27T14:12:56.180Z"
   },
   {
    "duration": 352,
    "start_time": "2022-12-27T14:14:02.046Z"
   },
   {
    "duration": 338,
    "start_time": "2022-12-27T14:14:15.242Z"
   },
   {
    "duration": 396,
    "start_time": "2022-12-27T14:14:37.406Z"
   },
   {
    "duration": 358,
    "start_time": "2022-12-27T14:14:46.555Z"
   },
   {
    "duration": 372,
    "start_time": "2022-12-27T14:14:55.318Z"
   },
   {
    "duration": 410,
    "start_time": "2022-12-27T14:15:09.976Z"
   },
   {
    "duration": 337,
    "start_time": "2022-12-27T14:15:32.942Z"
   },
   {
    "duration": 624,
    "start_time": "2022-12-27T14:15:51.906Z"
   },
   {
    "duration": 379,
    "start_time": "2022-12-27T14:16:06.311Z"
   },
   {
    "duration": 368,
    "start_time": "2022-12-27T14:16:16.321Z"
   },
   {
    "duration": 388,
    "start_time": "2022-12-27T14:16:25.024Z"
   },
   {
    "duration": 10,
    "start_time": "2022-12-27T14:21:59.862Z"
   },
   {
    "duration": 5,
    "start_time": "2022-12-27T14:32:43.533Z"
   },
   {
    "duration": 6,
    "start_time": "2022-12-27T14:32:44.394Z"
   },
   {
    "duration": 851,
    "start_time": "2022-12-27T14:35:01.454Z"
   },
   {
    "duration": 1549,
    "start_time": "2022-12-27T20:41:08.956Z"
   },
   {
    "duration": 67,
    "start_time": "2022-12-27T20:41:10.507Z"
   },
   {
    "duration": 12,
    "start_time": "2022-12-27T20:41:10.576Z"
   },
   {
    "duration": 44,
    "start_time": "2022-12-27T20:41:10.590Z"
   },
   {
    "duration": 0,
    "start_time": "2022-12-27T20:41:10.636Z"
   },
   {
    "duration": 0,
    "start_time": "2022-12-27T20:41:10.637Z"
   },
   {
    "duration": 0,
    "start_time": "2022-12-27T20:41:10.638Z"
   },
   {
    "duration": 0,
    "start_time": "2022-12-27T20:41:10.639Z"
   },
   {
    "duration": 0,
    "start_time": "2022-12-27T20:41:10.641Z"
   },
   {
    "duration": 0,
    "start_time": "2022-12-27T20:41:10.642Z"
   },
   {
    "duration": 0,
    "start_time": "2022-12-27T20:41:10.643Z"
   },
   {
    "duration": 0,
    "start_time": "2022-12-27T20:41:10.644Z"
   },
   {
    "duration": 0,
    "start_time": "2022-12-27T20:41:10.645Z"
   },
   {
    "duration": 3,
    "start_time": "2022-12-27T20:41:30.009Z"
   },
   {
    "duration": 49,
    "start_time": "2022-12-27T20:41:30.016Z"
   },
   {
    "duration": 9,
    "start_time": "2022-12-27T20:41:30.067Z"
   },
   {
    "duration": 22,
    "start_time": "2022-12-27T20:41:30.077Z"
   },
   {
    "duration": 10,
    "start_time": "2022-12-27T20:41:30.101Z"
   },
   {
    "duration": 15,
    "start_time": "2022-12-27T20:41:30.113Z"
   },
   {
    "duration": 12,
    "start_time": "2022-12-27T20:41:30.129Z"
   },
   {
    "duration": 14,
    "start_time": "2022-12-27T20:41:30.143Z"
   },
   {
    "duration": 18,
    "start_time": "2022-12-27T20:41:30.159Z"
   },
   {
    "duration": 993,
    "start_time": "2022-12-27T20:41:30.178Z"
   },
   {
    "duration": 426,
    "start_time": "2022-12-27T20:41:31.175Z"
   },
   {
    "duration": 4,
    "start_time": "2022-12-27T21:03:42.939Z"
   },
   {
    "duration": 3,
    "start_time": "2022-12-27T21:22:17.717Z"
   },
   {
    "duration": 114,
    "start_time": "2022-12-27T21:22:46.942Z"
   },
   {
    "duration": 61,
    "start_time": "2022-12-27T21:23:17.633Z"
   },
   {
    "duration": 3,
    "start_time": "2022-12-27T21:25:48.464Z"
   },
   {
    "duration": 62,
    "start_time": "2022-12-27T21:26:26.271Z"
   },
   {
    "duration": 60,
    "start_time": "2022-12-27T21:28:09.028Z"
   },
   {
    "duration": 3,
    "start_time": "2022-12-27T21:30:07.597Z"
   },
   {
    "duration": 4,
    "start_time": "2022-12-27T21:31:43.823Z"
   },
   {
    "duration": 4,
    "start_time": "2022-12-27T21:44:39.435Z"
   },
   {
    "duration": 4,
    "start_time": "2022-12-27T21:45:06.641Z"
   },
   {
    "duration": 4,
    "start_time": "2022-12-27T21:45:52.562Z"
   },
   {
    "duration": 4,
    "start_time": "2022-12-27T21:53:22.644Z"
   },
   {
    "duration": 12,
    "start_time": "2022-12-27T21:53:37.661Z"
   },
   {
    "duration": 4,
    "start_time": "2022-12-27T21:53:57.194Z"
   },
   {
    "duration": 12,
    "start_time": "2022-12-27T21:53:59.138Z"
   },
   {
    "duration": 4,
    "start_time": "2022-12-27T21:54:08.329Z"
   },
   {
    "duration": 94,
    "start_time": "2022-12-27T21:54:09.383Z"
   },
   {
    "duration": 4,
    "start_time": "2022-12-27T21:54:32.169Z"
   },
   {
    "duration": 6,
    "start_time": "2022-12-27T21:55:55.295Z"
   },
   {
    "duration": 14,
    "start_time": "2022-12-27T21:56:23.192Z"
   },
   {
    "duration": 4,
    "start_time": "2022-12-27T21:56:46.602Z"
   },
   {
    "duration": 4,
    "start_time": "2022-12-27T21:57:00.804Z"
   },
   {
    "duration": 4,
    "start_time": "2022-12-27T21:57:01.918Z"
   },
   {
    "duration": 20,
    "start_time": "2022-12-27T21:57:12.349Z"
   },
   {
    "duration": 4,
    "start_time": "2022-12-27T21:57:33.278Z"
   },
   {
    "duration": 9,
    "start_time": "2022-12-27T21:57:51.647Z"
   },
   {
    "duration": 10,
    "start_time": "2022-12-27T21:58:01.494Z"
   },
   {
    "duration": 5,
    "start_time": "2022-12-27T22:11:36.211Z"
   },
   {
    "duration": 5,
    "start_time": "2022-12-27T22:13:16.335Z"
   },
   {
    "duration": 4,
    "start_time": "2022-12-27T22:14:04.024Z"
   },
   {
    "duration": 4,
    "start_time": "2022-12-27T22:14:05.121Z"
   },
   {
    "duration": 9,
    "start_time": "2022-12-27T22:14:06.477Z"
   },
   {
    "duration": 4,
    "start_time": "2022-12-27T22:14:13.629Z"
   },
   {
    "duration": 4,
    "start_time": "2022-12-27T22:14:15.326Z"
   },
   {
    "duration": 8,
    "start_time": "2022-12-27T22:14:19.488Z"
   },
   {
    "duration": 5,
    "start_time": "2022-12-27T22:15:01.364Z"
   },
   {
    "duration": 4,
    "start_time": "2022-12-27T22:15:03.378Z"
   },
   {
    "duration": 4,
    "start_time": "2022-12-27T22:15:04.976Z"
   },
   {
    "duration": 10,
    "start_time": "2022-12-27T22:15:06.157Z"
   },
   {
    "duration": 4,
    "start_time": "2022-12-27T22:15:54.624Z"
   },
   {
    "duration": 4,
    "start_time": "2022-12-27T22:16:09.262Z"
   },
   {
    "duration": 3,
    "start_time": "2022-12-27T22:16:10.249Z"
   },
   {
    "duration": 9,
    "start_time": "2022-12-27T22:16:12.472Z"
   },
   {
    "duration": 3,
    "start_time": "2022-12-27T22:16:14.930Z"
   },
   {
    "duration": 4,
    "start_time": "2022-12-27T22:20:17.394Z"
   },
   {
    "duration": 4,
    "start_time": "2022-12-27T22:20:43.326Z"
   },
   {
    "duration": 530,
    "start_time": "2022-12-27T22:20:44.461Z"
   },
   {
    "duration": 10,
    "start_time": "2022-12-27T22:20:45.521Z"
   },
   {
    "duration": 4,
    "start_time": "2022-12-27T22:21:53.396Z"
   },
   {
    "duration": 5,
    "start_time": "2022-12-27T22:21:54.262Z"
   },
   {
    "duration": 7,
    "start_time": "2022-12-27T22:21:55.416Z"
   },
   {
    "duration": 4,
    "start_time": "2022-12-27T22:21:59.845Z"
   },
   {
    "duration": 4,
    "start_time": "2022-12-27T22:22:08.434Z"
   },
   {
    "duration": 3,
    "start_time": "2022-12-27T22:22:10.139Z"
   },
   {
    "duration": 7,
    "start_time": "2022-12-27T22:22:13.407Z"
   },
   {
    "duration": 4,
    "start_time": "2022-12-27T22:22:14.702Z"
   },
   {
    "duration": 4,
    "start_time": "2022-12-27T22:23:11.187Z"
   },
   {
    "duration": 4,
    "start_time": "2022-12-27T22:23:18.343Z"
   },
   {
    "duration": 6,
    "start_time": "2022-12-27T22:23:19.656Z"
   },
   {
    "duration": 3,
    "start_time": "2022-12-27T22:23:23.299Z"
   },
   {
    "duration": 4,
    "start_time": "2022-12-27T22:24:23.678Z"
   },
   {
    "duration": 4,
    "start_time": "2022-12-27T22:24:32.252Z"
   },
   {
    "duration": 3,
    "start_time": "2022-12-27T22:24:50.771Z"
   },
   {
    "duration": 4,
    "start_time": "2022-12-27T22:25:00.990Z"
   },
   {
    "duration": 4,
    "start_time": "2022-12-27T22:25:14.481Z"
   },
   {
    "duration": 4,
    "start_time": "2022-12-27T22:25:16.648Z"
   },
   {
    "duration": 6,
    "start_time": "2022-12-27T22:25:22.005Z"
   },
   {
    "duration": 4,
    "start_time": "2022-12-27T22:25:23.831Z"
   },
   {
    "duration": 4,
    "start_time": "2022-12-27T22:25:29.393Z"
   },
   {
    "duration": 8,
    "start_time": "2022-12-27T22:25:47.064Z"
   },
   {
    "duration": 5,
    "start_time": "2022-12-27T22:26:04.810Z"
   },
   {
    "duration": 99,
    "start_time": "2022-12-27T22:26:04.817Z"
   },
   {
    "duration": 11,
    "start_time": "2022-12-27T22:26:04.919Z"
   },
   {
    "duration": 32,
    "start_time": "2022-12-27T22:26:04.932Z"
   },
   {
    "duration": 6,
    "start_time": "2022-12-27T22:26:04.967Z"
   },
   {
    "duration": 6,
    "start_time": "2022-12-27T22:26:04.975Z"
   },
   {
    "duration": 6,
    "start_time": "2022-12-27T22:26:04.983Z"
   },
   {
    "duration": 5,
    "start_time": "2022-12-27T22:26:04.990Z"
   },
   {
    "duration": 8,
    "start_time": "2022-12-27T22:26:04.996Z"
   },
   {
    "duration": 896,
    "start_time": "2022-12-27T22:26:05.005Z"
   },
   {
    "duration": 360,
    "start_time": "2022-12-27T22:26:05.902Z"
   },
   {
    "duration": 4,
    "start_time": "2022-12-27T22:26:06.263Z"
   },
   {
    "duration": 15,
    "start_time": "2022-12-27T22:26:06.276Z"
   },
   {
    "duration": 9,
    "start_time": "2022-12-27T22:26:06.292Z"
   },
   {
    "duration": 12,
    "start_time": "2022-12-27T22:26:06.303Z"
   },
   {
    "duration": 4,
    "start_time": "2022-12-27T22:26:22.959Z"
   },
   {
    "duration": 3,
    "start_time": "2022-12-27T22:29:05.695Z"
   },
   {
    "duration": 4,
    "start_time": "2022-12-27T22:29:23.346Z"
   },
   {
    "duration": 4,
    "start_time": "2022-12-27T22:29:27.644Z"
   },
   {
    "duration": 3,
    "start_time": "2022-12-27T22:29:49.611Z"
   },
   {
    "duration": 7,
    "start_time": "2022-12-27T22:29:57.603Z"
   },
   {
    "duration": 4,
    "start_time": "2022-12-27T22:30:00.838Z"
   },
   {
    "duration": 5,
    "start_time": "2022-12-27T22:33:06.277Z"
   },
   {
    "duration": 5,
    "start_time": "2022-12-27T22:33:07.430Z"
   },
   {
    "duration": 8,
    "start_time": "2022-12-27T22:33:08.364Z"
   },
   {
    "duration": 4,
    "start_time": "2022-12-27T22:33:28.554Z"
   },
   {
    "duration": 4,
    "start_time": "2022-12-27T22:34:11.433Z"
   },
   {
    "duration": 4,
    "start_time": "2022-12-27T22:34:27.664Z"
   },
   {
    "duration": 4,
    "start_time": "2022-12-27T22:50:18.909Z"
   },
   {
    "duration": 4,
    "start_time": "2022-12-27T22:51:08.360Z"
   },
   {
    "duration": 4,
    "start_time": "2022-12-27T22:52:12.742Z"
   },
   {
    "duration": 9,
    "start_time": "2022-12-27T22:52:47.907Z"
   },
   {
    "duration": 3,
    "start_time": "2022-12-27T22:52:55.574Z"
   },
   {
    "duration": 8,
    "start_time": "2022-12-27T22:52:56.565Z"
   },
   {
    "duration": 9,
    "start_time": "2022-12-27T22:53:19.827Z"
   },
   {
    "duration": 57,
    "start_time": "2022-12-27T22:54:51.158Z"
   },
   {
    "duration": 4,
    "start_time": "2022-12-27T22:56:48.229Z"
   },
   {
    "duration": 10,
    "start_time": "2022-12-27T22:56:50.355Z"
   },
   {
    "duration": 5,
    "start_time": "2022-12-27T22:56:59.465Z"
   },
   {
    "duration": 8,
    "start_time": "2022-12-27T22:57:00.857Z"
   },
   {
    "duration": 9,
    "start_time": "2022-12-27T22:57:05.414Z"
   },
   {
    "duration": 27,
    "start_time": "2022-12-27T23:11:00.573Z"
   },
   {
    "duration": 4,
    "start_time": "2022-12-27T23:11:21.134Z"
   },
   {
    "duration": 182,
    "start_time": "2022-12-27T23:11:26.427Z"
   },
   {
    "duration": 1344,
    "start_time": "2022-12-27T23:11:32.784Z"
   },
   {
    "duration": 4,
    "start_time": "2022-12-27T23:12:03.173Z"
   },
   {
    "duration": 10,
    "start_time": "2022-12-27T23:12:06.194Z"
   },
   {
    "duration": 9,
    "start_time": "2022-12-27T23:12:08.101Z"
   },
   {
    "duration": 3,
    "start_time": "2022-12-27T23:13:27.969Z"
   },
   {
    "duration": 5,
    "start_time": "2022-12-27T23:21:24.557Z"
   },
   {
    "duration": 11,
    "start_time": "2022-12-27T23:21:26.313Z"
   },
   {
    "duration": 11,
    "start_time": "2022-12-27T23:21:29.944Z"
   },
   {
    "duration": 4,
    "start_time": "2022-12-27T23:29:21.399Z"
   },
   {
    "duration": 9,
    "start_time": "2022-12-27T23:29:23.007Z"
   },
   {
    "duration": 5,
    "start_time": "2022-12-27T23:29:45.281Z"
   },
   {
    "duration": 8,
    "start_time": "2022-12-27T23:29:46.484Z"
   },
   {
    "duration": 8,
    "start_time": "2022-12-27T23:29:48.483Z"
   },
   {
    "duration": 3,
    "start_time": "2022-12-27T23:36:05.075Z"
   },
   {
    "duration": 4,
    "start_time": "2022-12-28T00:07:04.212Z"
   },
   {
    "duration": 6,
    "start_time": "2022-12-28T00:07:05.477Z"
   },
   {
    "duration": 9,
    "start_time": "2022-12-28T00:07:08.691Z"
   },
   {
    "duration": 5,
    "start_time": "2022-12-28T00:07:43.280Z"
   },
   {
    "duration": 4,
    "start_time": "2022-12-28T00:07:44.174Z"
   },
   {
    "duration": 9,
    "start_time": "2022-12-28T00:07:45.948Z"
   },
   {
    "duration": 4,
    "start_time": "2022-12-28T00:08:00.944Z"
   },
   {
    "duration": 4,
    "start_time": "2022-12-28T00:08:02.801Z"
   },
   {
    "duration": 9,
    "start_time": "2022-12-28T00:08:06.967Z"
   },
   {
    "duration": 3,
    "start_time": "2022-12-28T00:08:28.645Z"
   },
   {
    "duration": 10,
    "start_time": "2022-12-28T00:08:30.693Z"
   },
   {
    "duration": 9,
    "start_time": "2022-12-28T00:08:32.495Z"
   },
   {
    "duration": 4,
    "start_time": "2022-12-28T00:10:38.078Z"
   },
   {
    "duration": 3411,
    "start_time": "2022-12-28T06:55:40.210Z"
   },
   {
    "duration": 153,
    "start_time": "2022-12-28T06:55:43.623Z"
   },
   {
    "duration": 2052,
    "start_time": "2022-12-28T06:55:50.755Z"
   },
   {
    "duration": 55,
    "start_time": "2022-12-28T06:55:52.809Z"
   },
   {
    "duration": 14,
    "start_time": "2022-12-28T06:55:52.866Z"
   },
   {
    "duration": 12,
    "start_time": "2022-12-28T06:55:52.882Z"
   },
   {
    "duration": 20,
    "start_time": "2022-12-28T06:55:52.896Z"
   },
   {
    "duration": 18,
    "start_time": "2022-12-28T06:55:52.918Z"
   },
   {
    "duration": 16,
    "start_time": "2022-12-28T06:55:52.938Z"
   },
   {
    "duration": 26,
    "start_time": "2022-12-28T06:55:52.956Z"
   },
   {
    "duration": 23,
    "start_time": "2022-12-28T06:55:52.984Z"
   },
   {
    "duration": 1083,
    "start_time": "2022-12-28T06:55:53.009Z"
   },
   {
    "duration": 411,
    "start_time": "2022-12-28T06:55:54.094Z"
   },
   {
    "duration": 4,
    "start_time": "2022-12-28T06:55:54.507Z"
   },
   {
    "duration": 14,
    "start_time": "2022-12-28T06:55:54.512Z"
   },
   {
    "duration": 21,
    "start_time": "2022-12-28T06:55:54.529Z"
   },
   {
    "duration": 98,
    "start_time": "2022-12-28T06:55:54.553Z"
   },
   {
    "duration": 6,
    "start_time": "2022-12-28T06:55:54.654Z"
   },
   {
    "duration": 96,
    "start_time": "2022-12-28T06:55:54.662Z"
   },
   {
    "duration": 9,
    "start_time": "2022-12-28T06:55:54.760Z"
   },
   {
    "duration": 4497,
    "start_time": "2022-12-28T08:59:46.160Z"
   },
   {
    "duration": 117,
    "start_time": "2022-12-28T09:00:21.402Z"
   },
   {
    "duration": 127,
    "start_time": "2022-12-28T09:00:32.154Z"
   },
   {
    "duration": 14,
    "start_time": "2022-12-28T09:00:33.722Z"
   },
   {
    "duration": 11,
    "start_time": "2022-12-28T09:00:35.328Z"
   },
   {
    "duration": 4,
    "start_time": "2022-12-28T09:00:36.693Z"
   },
   {
    "duration": 6,
    "start_time": "2022-12-28T09:00:38.385Z"
   },
   {
    "duration": 7,
    "start_time": "2022-12-28T09:00:41.230Z"
   },
   {
    "duration": 1002,
    "start_time": "2022-12-28T09:00:55.527Z"
   },
   {
    "duration": 529,
    "start_time": "2022-12-28T09:01:04.510Z"
   },
   {
    "duration": 94,
    "start_time": "2022-12-28T09:13:11.446Z"
   },
   {
    "duration": 472,
    "start_time": "2022-12-28T09:14:01.973Z"
   },
   {
    "duration": 781,
    "start_time": "2022-12-28T09:15:40.006Z"
   },
   {
    "duration": 774,
    "start_time": "2022-12-28T09:16:39.561Z"
   },
   {
    "duration": 746,
    "start_time": "2022-12-28T09:17:27.449Z"
   },
   {
    "duration": 786,
    "start_time": "2022-12-28T09:18:04.767Z"
   },
   {
    "duration": 827,
    "start_time": "2022-12-28T09:18:34.368Z"
   },
   {
    "duration": 559,
    "start_time": "2022-12-28T09:18:50.361Z"
   },
   {
    "duration": 797,
    "start_time": "2022-12-28T09:19:08.297Z"
   },
   {
    "duration": 788,
    "start_time": "2022-12-28T09:22:53.461Z"
   },
   {
    "duration": 49,
    "start_time": "2022-12-28T09:24:17.240Z"
   },
   {
    "duration": 2101,
    "start_time": "2022-12-28T09:42:57.141Z"
   },
   {
    "duration": 51,
    "start_time": "2022-12-28T09:42:59.244Z"
   },
   {
    "duration": 10,
    "start_time": "2022-12-28T09:42:59.296Z"
   },
   {
    "duration": 11,
    "start_time": "2022-12-28T09:42:59.308Z"
   },
   {
    "duration": 5,
    "start_time": "2022-12-28T09:42:59.323Z"
   },
   {
    "duration": 12,
    "start_time": "2022-12-28T09:42:59.330Z"
   },
   {
    "duration": 10,
    "start_time": "2022-12-28T09:42:59.343Z"
   },
   {
    "duration": 956,
    "start_time": "2022-12-28T09:42:59.355Z"
   },
   {
    "duration": 997,
    "start_time": "2022-12-28T09:43:00.312Z"
   },
   {
    "duration": 10,
    "start_time": "2022-12-28T09:43:01.310Z"
   },
   {
    "duration": 17,
    "start_time": "2022-12-28T09:43:01.323Z"
   },
   {
    "duration": 34,
    "start_time": "2022-12-28T09:43:01.341Z"
   },
   {
    "duration": 45,
    "start_time": "2022-12-28T09:43:01.377Z"
   },
   {
    "duration": 99,
    "start_time": "2022-12-28T09:43:01.427Z"
   },
   {
    "duration": 57,
    "start_time": "2022-12-28T09:43:01.527Z"
   },
   {
    "duration": 149,
    "start_time": "2022-12-28T09:43:01.587Z"
   },
   {
    "duration": 2224,
    "start_time": "2022-12-28T10:13:56.713Z"
   },
   {
    "duration": 92,
    "start_time": "2022-12-28T10:13:58.939Z"
   },
   {
    "duration": 13,
    "start_time": "2022-12-28T10:13:59.033Z"
   },
   {
    "duration": 11,
    "start_time": "2022-12-28T10:13:59.048Z"
   },
   {
    "duration": 5,
    "start_time": "2022-12-28T10:13:59.061Z"
   },
   {
    "duration": 8,
    "start_time": "2022-12-28T10:13:59.067Z"
   },
   {
    "duration": 8,
    "start_time": "2022-12-28T10:13:59.077Z"
   },
   {
    "duration": 1048,
    "start_time": "2022-12-28T10:13:59.087Z"
   },
   {
    "duration": 937,
    "start_time": "2022-12-28T10:14:00.137Z"
   },
   {
    "duration": 3,
    "start_time": "2022-12-28T10:14:01.076Z"
   },
   {
    "duration": 30,
    "start_time": "2022-12-28T10:14:01.081Z"
   },
   {
    "duration": 28,
    "start_time": "2022-12-28T10:14:01.113Z"
   },
   {
    "duration": 15,
    "start_time": "2022-12-28T10:14:01.143Z"
   },
   {
    "duration": 63,
    "start_time": "2022-12-28T10:14:01.160Z"
   },
   {
    "duration": 94,
    "start_time": "2022-12-28T10:14:01.231Z"
   },
   {
    "duration": 97,
    "start_time": "2022-12-28T10:14:01.327Z"
   },
   {
    "duration": 45,
    "start_time": "2022-12-29T13:47:29.178Z"
   },
   {
    "duration": 4504,
    "start_time": "2022-12-29T13:49:40.341Z"
   },
   {
    "duration": 162,
    "start_time": "2022-12-29T13:49:44.848Z"
   },
   {
    "duration": 14,
    "start_time": "2022-12-29T13:49:45.012Z"
   },
   {
    "duration": 44,
    "start_time": "2022-12-29T13:49:45.028Z"
   },
   {
    "duration": 8,
    "start_time": "2022-12-29T13:49:45.074Z"
   },
   {
    "duration": 11,
    "start_time": "2022-12-29T13:49:45.084Z"
   },
   {
    "duration": 12,
    "start_time": "2022-12-29T13:49:45.096Z"
   },
   {
    "duration": 951,
    "start_time": "2022-12-29T13:49:45.110Z"
   },
   {
    "duration": 825,
    "start_time": "2022-12-29T13:49:46.063Z"
   },
   {
    "duration": 5,
    "start_time": "2022-12-29T13:49:46.890Z"
   },
   {
    "duration": 28,
    "start_time": "2022-12-29T13:49:46.896Z"
   },
   {
    "duration": 34,
    "start_time": "2022-12-29T13:49:46.926Z"
   },
   {
    "duration": 125,
    "start_time": "2022-12-29T13:49:46.962Z"
   },
   {
    "duration": 20,
    "start_time": "2022-12-29T13:49:47.089Z"
   },
   {
    "duration": 26,
    "start_time": "2022-12-29T13:49:47.111Z"
   },
   {
    "duration": 39,
    "start_time": "2022-12-29T13:49:47.139Z"
   },
   {
    "duration": 214,
    "start_time": "2022-12-29T13:49:47.180Z"
   },
   {
    "duration": 853,
    "start_time": "2022-12-29T13:51:30.989Z"
   },
   {
    "duration": 732,
    "start_time": "2022-12-29T13:51:46.337Z"
   },
   {
    "duration": 425,
    "start_time": "2022-12-29T13:52:42.819Z"
   }
  ],
  "kernelspec": {
   "display_name": "Python 3 (ipykernel)",
   "language": "python",
   "name": "python3"
  },
  "language_info": {
   "codemirror_mode": {
    "name": "ipython",
    "version": 3
   },
   "file_extension": ".py",
   "mimetype": "text/x-python",
   "name": "python",
   "nbconvert_exporter": "python",
   "pygments_lexer": "ipython3",
   "version": "3.10.6"
  },
  "toc": {
   "base_numbering": 1,
   "nav_menu": {},
   "number_sections": true,
   "sideBar": true,
   "skip_h1_title": true,
   "title_cell": "Содержание",
   "title_sidebar": "Contents",
   "toc_cell": true,
   "toc_position": {
    "height": "calc(100% - 180px)",
    "left": "10px",
    "top": "150px",
    "width": "215.967px"
   },
   "toc_section_display": true,
   "toc_window_display": true
  }
 },
 "nbformat": 4,
 "nbformat_minor": 2
}
