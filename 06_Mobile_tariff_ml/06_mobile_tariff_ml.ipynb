{
 "cells": [
  {
   "cell_type": "markdown",
   "metadata": {},
   "source": [
    "# Модель для рекомендации тарифа мобильной связи"
   ]
  },
  {
   "cell_type": "markdown",
   "metadata": {
    "toc": true
   },
   "source": [
    "<h1>Содержание<span class=\"tocSkip\"></span></h1>\n",
    "<div class=\"toc\"><ul class=\"toc-item\"><li><span><a href=\"#Введение\" data-toc-modified-id=\"Введение-1\"><span class=\"toc-item-num\">1&nbsp;&nbsp;</span>Введение</a></span><ul class=\"toc-item\"><li><span><a href=\"#Цели-и-задачи\" data-toc-modified-id=\"Цели-и-задачи-1.1\"><span class=\"toc-item-num\">1.1&nbsp;&nbsp;</span>Цели и задачи</a></span></li><li><span><a href=\"#Структура-данных\" data-toc-modified-id=\"Структура-данных-1.2\"><span class=\"toc-item-num\">1.2&nbsp;&nbsp;</span>Структура данных</a></span></li></ul></li><li><span><a href=\"#Обзор-данных\" data-toc-modified-id=\"Обзор-данных-2\"><span class=\"toc-item-num\">2&nbsp;&nbsp;</span>Обзор данных</a></span></li><li><span><a href=\"#Разделение-данных-на-выборки\" data-toc-modified-id=\"Разделение-данных-на-выборки-3\"><span class=\"toc-item-num\">3&nbsp;&nbsp;</span>Разделение данных на выборки</a></span></li><li><span><a href=\"#Исследование-моделей\" data-toc-modified-id=\"Исследование-моделей-4\"><span class=\"toc-item-num\">4&nbsp;&nbsp;</span>Исследование моделей</a></span><ul class=\"toc-item\"><li><span><a href=\"#Дерево-решений\" data-toc-modified-id=\"Дерево-решений-4.1\"><span class=\"toc-item-num\">4.1&nbsp;&nbsp;</span>Дерево решений</a></span></li><li><span><a href=\"#Случайный-лес\" data-toc-modified-id=\"Случайный-лес-4.2\"><span class=\"toc-item-num\">4.2&nbsp;&nbsp;</span>Случайный лес</a></span></li><li><span><a href=\"#Адаптивный-бустинг\" data-toc-modified-id=\"Адаптивный-бустинг-4.3\"><span class=\"toc-item-num\">4.3&nbsp;&nbsp;</span>Адаптивный бустинг</a></span></li><li><span><a href=\"#Градиентный-бустинг\" data-toc-modified-id=\"Градиентный-бустинг-4.4\"><span class=\"toc-item-num\">4.4&nbsp;&nbsp;</span>Градиентный бустинг</a></span></li><li><span><a href=\"#Логистическая-регрессия\" data-toc-modified-id=\"Логистическая-регрессия-4.5\"><span class=\"toc-item-num\">4.5&nbsp;&nbsp;</span>Логистическая регрессия</a></span></li><li><span><a href=\"#Метод-k-ближайших-соседей\" data-toc-modified-id=\"Метод-k-ближайших-соседей-4.6\"><span class=\"toc-item-num\">4.6&nbsp;&nbsp;</span>Метод k-ближайших соседей</a></span></li><li><span><a href=\"#Проверка-моделей-на-адекватность\" data-toc-modified-id=\"Проверка-моделей-на-адекватность-4.7\"><span class=\"toc-item-num\">4.7&nbsp;&nbsp;</span>Проверка моделей на адекватность</a></span></li><li><span><a href=\"#Выводы\" data-toc-modified-id=\"Выводы-4.8\"><span class=\"toc-item-num\">4.8&nbsp;&nbsp;</span>Выводы</a></span></li></ul></li><li><span><a href=\"#Тестирование-модели\" data-toc-modified-id=\"Тестирование-модели-5\"><span class=\"toc-item-num\">5&nbsp;&nbsp;</span>Тестирование модели</a></span></li><li><span><a href=\"#Итоги-исследования\" data-toc-modified-id=\"Итоги-исследования-6\"><span class=\"toc-item-num\">6&nbsp;&nbsp;</span>Итоги исследования</a></span></li></ul></div>"
   ]
  },
  {
   "cell_type": "markdown",
   "metadata": {},
   "source": [
    "## Введение"
   ]
  },
  {
   "cell_type": "markdown",
   "metadata": {},
   "source": [
    "Компания-оператор мобильной связи «Мегалайн» предлагает клиентам два тарифных плана на выбор: **«Смарт»** и **«Ультра»**.\n",
    "\n",
    "В нашем распоряжении данные о поведении клиентов, которые уже перешли на один из этих тарифов."
   ]
  },
  {
   "cell_type": "markdown",
   "metadata": {},
   "source": [
    "### Цели и задачи"
   ]
  },
  {
   "cell_type": "markdown",
   "metadata": {},
   "source": [
    "**Цель исследования:** \n",
    "\n",
    "Построить модель машинного обучения, которая выберет подходящий для пользователя тариф.\n",
    "\n",
    "**Задачи:**\n",
    "\n",
    "1. Изучить данные;\n",
    "2. Исследовать качество различных моделей с разными гиперпараметрами;\n",
    "3. Проверить модели на адекватность;\n",
    "4. Построить модель с максимально большим значением *accuracy* (не менее 0.75). "
   ]
  },
  {
   "cell_type": "markdown",
   "metadata": {},
   "source": [
    "### Структура данных"
   ]
  },
  {
   "cell_type": "markdown",
   "metadata": {},
   "source": [
    "Каждая строка содержит информацию о поведении одного пользователя за месяц.\n",
    "\n",
    "Столбцы:\n",
    "\n",
    "- **`сalls`** — количество звонков;\n",
    "- **`minutes`** — суммарная длительность звонков в минутах;\n",
    "- **`messages`** — количество отправленных sms-сообщений;\n",
    "- **`mb_used`** — суммарный интернет-трафик в Мб;\n",
    "- **`is_ultra`** — тариф («Ультра» — 1, «Смарт» — 0)."
   ]
  },
  {
   "cell_type": "markdown",
   "metadata": {},
   "source": [
    "## Обзор данных"
   ]
  },
  {
   "cell_type": "code",
   "execution_count": 1,
   "metadata": {},
   "outputs": [],
   "source": [
    "import pandas as pd\n",
    "import matplotlib.pyplot as plt\n",
    "import seaborn as sns\n",
    "import numpy as np\n",
    "\n",
    "from tqdm import tqdm\n",
    "from sklearn.model_selection import train_test_split\n",
    "from sklearn.preprocessing import StandardScaler\n",
    "from sklearn import tree\n",
    "from sklearn.tree import DecisionTreeClassifier\n",
    "from sklearn.ensemble import RandomForestClassifier\n",
    "from sklearn.ensemble import AdaBoostClassifier\n",
    "from sklearn.ensemble import GradientBoostingClassifier\n",
    "from sklearn.linear_model import LogisticRegression\n",
    "from sklearn.neighbors import KNeighborsClassifier\n",
    "from sklearn.metrics import accuracy_score\n",
    "from sklearn.dummy import DummyClassifier"
   ]
  },
  {
   "cell_type": "code",
   "execution_count": 2,
   "metadata": {},
   "outputs": [],
   "source": [
    "data = pd.read_csv('https://code.s3.yandex.net/datasets/users_behavior.csv')"
   ]
  },
  {
   "cell_type": "markdown",
   "metadata": {},
   "source": [
    "Выведем на экран основную информацию о датафрэйме:"
   ]
  },
  {
   "cell_type": "code",
   "execution_count": 3,
   "metadata": {},
   "outputs": [
    {
     "name": "stdout",
     "output_type": "stream",
     "text": [
      "<class 'pandas.core.frame.DataFrame'>\n",
      "RangeIndex: 3214 entries, 0 to 3213\n",
      "Data columns (total 5 columns):\n",
      " #   Column    Non-Null Count  Dtype  \n",
      "---  ------    --------------  -----  \n",
      " 0   calls     3214 non-null   float64\n",
      " 1   minutes   3214 non-null   float64\n",
      " 2   messages  3214 non-null   float64\n",
      " 3   mb_used   3214 non-null   float64\n",
      " 4   is_ultra  3214 non-null   int64  \n",
      "dtypes: float64(4), int64(1)\n",
      "memory usage: 125.7 KB\n"
     ]
    }
   ],
   "source": [
    "data.info()"
   ]
  },
  {
   "cell_type": "markdown",
   "metadata": {},
   "source": [
    "Выведем первые строки таблицы:"
   ]
  },
  {
   "cell_type": "code",
   "execution_count": 4,
   "metadata": {},
   "outputs": [
    {
     "data": {
      "text/html": [
       "<div>\n",
       "<style scoped>\n",
       "    .dataframe tbody tr th:only-of-type {\n",
       "        vertical-align: middle;\n",
       "    }\n",
       "\n",
       "    .dataframe tbody tr th {\n",
       "        vertical-align: top;\n",
       "    }\n",
       "\n",
       "    .dataframe thead th {\n",
       "        text-align: right;\n",
       "    }\n",
       "</style>\n",
       "<table border=\"1\" class=\"dataframe\">\n",
       "  <thead>\n",
       "    <tr style=\"text-align: right;\">\n",
       "      <th></th>\n",
       "      <th>calls</th>\n",
       "      <th>minutes</th>\n",
       "      <th>messages</th>\n",
       "      <th>mb_used</th>\n",
       "      <th>is_ultra</th>\n",
       "    </tr>\n",
       "  </thead>\n",
       "  <tbody>\n",
       "    <tr>\n",
       "      <th>0</th>\n",
       "      <td>40.0</td>\n",
       "      <td>311.90</td>\n",
       "      <td>83.0</td>\n",
       "      <td>19915.42</td>\n",
       "      <td>0</td>\n",
       "    </tr>\n",
       "    <tr>\n",
       "      <th>1</th>\n",
       "      <td>85.0</td>\n",
       "      <td>516.75</td>\n",
       "      <td>56.0</td>\n",
       "      <td>22696.96</td>\n",
       "      <td>0</td>\n",
       "    </tr>\n",
       "    <tr>\n",
       "      <th>2</th>\n",
       "      <td>77.0</td>\n",
       "      <td>467.66</td>\n",
       "      <td>86.0</td>\n",
       "      <td>21060.45</td>\n",
       "      <td>0</td>\n",
       "    </tr>\n",
       "    <tr>\n",
       "      <th>3</th>\n",
       "      <td>106.0</td>\n",
       "      <td>745.53</td>\n",
       "      <td>81.0</td>\n",
       "      <td>8437.39</td>\n",
       "      <td>1</td>\n",
       "    </tr>\n",
       "    <tr>\n",
       "      <th>4</th>\n",
       "      <td>66.0</td>\n",
       "      <td>418.74</td>\n",
       "      <td>1.0</td>\n",
       "      <td>14502.75</td>\n",
       "      <td>0</td>\n",
       "    </tr>\n",
       "  </tbody>\n",
       "</table>\n",
       "</div>"
      ],
      "text/plain": [
       "   calls  minutes  messages   mb_used  is_ultra\n",
       "0   40.0   311.90      83.0  19915.42         0\n",
       "1   85.0   516.75      56.0  22696.96         0\n",
       "2   77.0   467.66      86.0  21060.45         0\n",
       "3  106.0   745.53      81.0   8437.39         1\n",
       "4   66.0   418.74       1.0  14502.75         0"
      ]
     },
     "execution_count": 4,
     "metadata": {},
     "output_type": "execute_result"
    }
   ],
   "source": [
    "data.head()"
   ]
  },
  {
   "cell_type": "markdown",
   "metadata": {},
   "source": [
    "Выведем также основные статистические параметры таблицы:"
   ]
  },
  {
   "cell_type": "code",
   "execution_count": 5,
   "metadata": {},
   "outputs": [
    {
     "data": {
      "text/html": [
       "<div>\n",
       "<style scoped>\n",
       "    .dataframe tbody tr th:only-of-type {\n",
       "        vertical-align: middle;\n",
       "    }\n",
       "\n",
       "    .dataframe tbody tr th {\n",
       "        vertical-align: top;\n",
       "    }\n",
       "\n",
       "    .dataframe thead th {\n",
       "        text-align: right;\n",
       "    }\n",
       "</style>\n",
       "<table border=\"1\" class=\"dataframe\">\n",
       "  <thead>\n",
       "    <tr style=\"text-align: right;\">\n",
       "      <th></th>\n",
       "      <th>calls</th>\n",
       "      <th>minutes</th>\n",
       "      <th>messages</th>\n",
       "      <th>mb_used</th>\n",
       "      <th>is_ultra</th>\n",
       "    </tr>\n",
       "  </thead>\n",
       "  <tbody>\n",
       "    <tr>\n",
       "      <th>count</th>\n",
       "      <td>3214.000000</td>\n",
       "      <td>3214.000000</td>\n",
       "      <td>3214.000000</td>\n",
       "      <td>3214.000000</td>\n",
       "      <td>3214.000000</td>\n",
       "    </tr>\n",
       "    <tr>\n",
       "      <th>mean</th>\n",
       "      <td>63.038892</td>\n",
       "      <td>438.208787</td>\n",
       "      <td>38.281269</td>\n",
       "      <td>17207.673836</td>\n",
       "      <td>0.306472</td>\n",
       "    </tr>\n",
       "    <tr>\n",
       "      <th>std</th>\n",
       "      <td>33.236368</td>\n",
       "      <td>234.569872</td>\n",
       "      <td>36.148326</td>\n",
       "      <td>7570.968246</td>\n",
       "      <td>0.461100</td>\n",
       "    </tr>\n",
       "    <tr>\n",
       "      <th>min</th>\n",
       "      <td>0.000000</td>\n",
       "      <td>0.000000</td>\n",
       "      <td>0.000000</td>\n",
       "      <td>0.000000</td>\n",
       "      <td>0.000000</td>\n",
       "    </tr>\n",
       "    <tr>\n",
       "      <th>25%</th>\n",
       "      <td>40.000000</td>\n",
       "      <td>274.575000</td>\n",
       "      <td>9.000000</td>\n",
       "      <td>12491.902500</td>\n",
       "      <td>0.000000</td>\n",
       "    </tr>\n",
       "    <tr>\n",
       "      <th>50%</th>\n",
       "      <td>62.000000</td>\n",
       "      <td>430.600000</td>\n",
       "      <td>30.000000</td>\n",
       "      <td>16943.235000</td>\n",
       "      <td>0.000000</td>\n",
       "    </tr>\n",
       "    <tr>\n",
       "      <th>75%</th>\n",
       "      <td>82.000000</td>\n",
       "      <td>571.927500</td>\n",
       "      <td>57.000000</td>\n",
       "      <td>21424.700000</td>\n",
       "      <td>1.000000</td>\n",
       "    </tr>\n",
       "    <tr>\n",
       "      <th>max</th>\n",
       "      <td>244.000000</td>\n",
       "      <td>1632.060000</td>\n",
       "      <td>224.000000</td>\n",
       "      <td>49745.730000</td>\n",
       "      <td>1.000000</td>\n",
       "    </tr>\n",
       "  </tbody>\n",
       "</table>\n",
       "</div>"
      ],
      "text/plain": [
       "             calls      minutes     messages       mb_used     is_ultra\n",
       "count  3214.000000  3214.000000  3214.000000   3214.000000  3214.000000\n",
       "mean     63.038892   438.208787    38.281269  17207.673836     0.306472\n",
       "std      33.236368   234.569872    36.148326   7570.968246     0.461100\n",
       "min       0.000000     0.000000     0.000000      0.000000     0.000000\n",
       "25%      40.000000   274.575000     9.000000  12491.902500     0.000000\n",
       "50%      62.000000   430.600000    30.000000  16943.235000     0.000000\n",
       "75%      82.000000   571.927500    57.000000  21424.700000     1.000000\n",
       "max     244.000000  1632.060000   224.000000  49745.730000     1.000000"
      ]
     },
     "execution_count": 5,
     "metadata": {},
     "output_type": "execute_result"
    }
   ],
   "source": [
    "data.describe()"
   ]
  },
  {
   "cell_type": "markdown",
   "metadata": {},
   "source": [
    "Видим, что для лучшей интерпретируемости линейной модели данные нуждаются в масштабировании."
   ]
  },
  {
   "cell_type": "markdown",
   "metadata": {},
   "source": [
    "Для наглядности построим общую гистограмму:"
   ]
  },
  {
   "cell_type": "code",
   "execution_count": 6,
   "metadata": {},
   "outputs": [
    {
     "data": {
      "image/png": "[encoded data removed]",
      "text/plain": [
       "<Figure size 1000x1400 with 6 Axes>"
      ]
     },
     "metadata": {},
     "output_type": "display_data"
    }
   ],
   "source": [
    "data.hist(figsize=(10,14), bins=50, grid=False, color='darkviolet', ec='black')\n",
    "plt.show()"
   ]
  },
  {
   "cell_type": "markdown",
   "metadata": {},
   "source": [
    "Состав значений в столбце *'is_ultra'*:"
   ]
  },
  {
   "cell_type": "code",
   "execution_count": 7,
   "metadata": {},
   "outputs": [
    {
     "data": {
      "text/html": [
       "<div>\n",
       "<style scoped>\n",
       "    .dataframe tbody tr th:only-of-type {\n",
       "        vertical-align: middle;\n",
       "    }\n",
       "\n",
       "    .dataframe tbody tr th {\n",
       "        vertical-align: top;\n",
       "    }\n",
       "\n",
       "    .dataframe thead th {\n",
       "        text-align: right;\n",
       "    }\n",
       "</style>\n",
       "<table border=\"1\" class=\"dataframe\">\n",
       "  <thead>\n",
       "    <tr style=\"text-align: right;\">\n",
       "      <th></th>\n",
       "      <th>is_ultra</th>\n",
       "    </tr>\n",
       "  </thead>\n",
       "  <tbody>\n",
       "    <tr>\n",
       "      <th>0</th>\n",
       "      <td>2229</td>\n",
       "    </tr>\n",
       "    <tr>\n",
       "      <th>1</th>\n",
       "      <td>985</td>\n",
       "    </tr>\n",
       "  </tbody>\n",
       "</table>\n",
       "</div>"
      ],
      "text/plain": [
       "   is_ultra\n",
       "0      2229\n",
       "1       985"
      ]
     },
     "execution_count": 7,
     "metadata": {},
     "output_type": "execute_result"
    }
   ],
   "source": [
    "data['is_ultra'].value_counts().to_frame()"
   ]
  },
  {
   "cell_type": "markdown",
   "metadata": {},
   "source": [
    "Видим, что количество пользователей тарифа «Смарт» значительно больше, чем пользователей тарифа «Ультра»."
   ]
  },
  {
   "cell_type": "markdown",
   "metadata": {},
   "source": [
    "Проверим данные на наличие пропусков:"
   ]
  },
  {
   "cell_type": "code",
   "execution_count": 8,
   "metadata": {},
   "outputs": [
    {
     "data": {
      "text/html": [
       "<div>\n",
       "<style scoped>\n",
       "    .dataframe tbody tr th:only-of-type {\n",
       "        vertical-align: middle;\n",
       "    }\n",
       "\n",
       "    .dataframe tbody tr th {\n",
       "        vertical-align: top;\n",
       "    }\n",
       "\n",
       "    .dataframe thead th {\n",
       "        text-align: right;\n",
       "    }\n",
       "</style>\n",
       "<table border=\"1\" class=\"dataframe\">\n",
       "  <thead>\n",
       "    <tr style=\"text-align: right;\">\n",
       "      <th></th>\n",
       "      <th>NaN</th>\n",
       "    </tr>\n",
       "  </thead>\n",
       "  <tbody>\n",
       "    <tr>\n",
       "      <th>calls</th>\n",
       "      <td>0</td>\n",
       "    </tr>\n",
       "    <tr>\n",
       "      <th>minutes</th>\n",
       "      <td>0</td>\n",
       "    </tr>\n",
       "    <tr>\n",
       "      <th>messages</th>\n",
       "      <td>0</td>\n",
       "    </tr>\n",
       "    <tr>\n",
       "      <th>mb_used</th>\n",
       "      <td>0</td>\n",
       "    </tr>\n",
       "    <tr>\n",
       "      <th>is_ultra</th>\n",
       "      <td>0</td>\n",
       "    </tr>\n",
       "  </tbody>\n",
       "</table>\n",
       "</div>"
      ],
      "text/plain": [
       "          NaN\n",
       "calls       0\n",
       "minutes     0\n",
       "messages    0\n",
       "mb_used     0\n",
       "is_ultra    0"
      ]
     },
     "execution_count": 8,
     "metadata": {},
     "output_type": "execute_result"
    }
   ],
   "source": [
    "pd.DataFrame(data.isna().sum(), columns=['NaN'])"
   ]
  },
  {
   "cell_type": "markdown",
   "metadata": {},
   "source": [
    "Пропусков в данных не обнаружено. Проверим также на наличие дубликатов:"
   ]
  },
  {
   "cell_type": "code",
   "execution_count": 9,
   "metadata": {},
   "outputs": [
    {
     "name": "stdout",
     "output_type": "stream",
     "text": [
      "Количество дубликатов: 0\n"
     ]
    }
   ],
   "source": [
    "print(f'Количество дубликатов: {data.duplicated().sum()}')"
   ]
  },
  {
   "cell_type": "markdown",
   "metadata": {},
   "source": [
    "Теперь рассмотрим корреляции признаков:"
   ]
  },
  {
   "cell_type": "code",
   "execution_count": 10,
   "metadata": {},
   "outputs": [
    {
     "data": {
      "image/png": "[encoded data removed]",
      "text/plain": [
       "<Figure size 700x600 with 2 Axes>"
      ]
     },
     "metadata": {},
     "output_type": "display_data"
    }
   ],
   "source": [
    "plt.figure(figsize=(7,6))\n",
    "sns.heatmap(data.corr(), annot=True, cmap='flare', annot_kws={'size':12})\n",
    "plt.title('Матрица корреляций Пирсона', fontsize=18, pad=20)\n",
    "plt.show()"
   ]
  },
  {
   "cell_type": "markdown",
   "metadata": {},
   "source": [
    "**Выводы**:\n",
    "\n",
    "Мы провели общий обзор данных и выяснили, что:\n",
    "\n",
    "- Количество строк в базе данных — 3214;\n",
    "- Количество пользователей тарифа «Смарт» значительно больше, чем пользователей тарифа «Ультра». Хорошо бы учесть это при разделении данных на выборки;\n",
    "- Дубликатов и пропусков в данных нет;\n",
    "- Присутствует мультиколлинеарность: сильная корреляция между признаками *calls* и *minutes*;\n",
    "- Для лучшей интерпретируемости линейной модели данные нуждаются в масштабировании."
   ]
  },
  {
   "cell_type": "markdown",
   "metadata": {},
   "source": [
    "## Разделение данных на выборки"
   ]
  },
  {
   "cell_type": "markdown",
   "metadata": {},
   "source": [
    "Разобьем данные на три выборки: обучающую, валидационную и тестовую в соотношении 3-1-1:"
   ]
  },
  {
   "cell_type": "code",
   "execution_count": 11,
   "metadata": {},
   "outputs": [],
   "source": [
    "features = data.drop('is_ultra', axis=1)\n",
    "target = data['is_ultra']"
   ]
  },
  {
   "cell_type": "code",
   "execution_count": 12,
   "metadata": {},
   "outputs": [],
   "source": [
    "# Делаем валидационную выборку со стратификацией по целевому признаку\n",
    "# т.к. количество пользователей тарифов сильно отличается\n",
    "features_train, features_valid, target_train, target_valid = train_test_split(\n",
    "    features, target, test_size=0.2, random_state=12345, stratify=target) "
   ]
  },
  {
   "cell_type": "code",
   "execution_count": 13,
   "metadata": {},
   "outputs": [],
   "source": [
    "# Повторяем для тестовой выборки, но с test_size=0.25, т.к. 0.25*(1-0.2)=0.2\n",
    "features_train, features_test, target_train, target_test = train_test_split(\n",
    "    features_train, target_train, test_size=0.25, random_state=12345, stratify=target_train)"
   ]
  },
  {
   "cell_type": "markdown",
   "metadata": {},
   "source": [
    "Посмотрим на размеры получившихся выборок:"
   ]
  },
  {
   "cell_type": "code",
   "execution_count": 14,
   "metadata": {},
   "outputs": [
    {
     "name": "stdout",
     "output_type": "stream",
     "text": [
      "Размеры обучающей выборки: признаки: (1928, 4), целевой признак: (1928,)\n",
      "Размеры валидационной выборки: признаки: (643, 4), целевой признак: (643,)\n",
      "Размеры тестовой выборки: признаки: (643, 4), целевой признак: (643,)\n"
     ]
    }
   ],
   "source": [
    "print(f'Размеры обучающей выборки: признаки: {features_train.shape}, целевой признак: {target_train.shape}')\n",
    "print(f'Размеры валидационной выборки: признаки: {features_valid.shape}, целевой признак: {target_valid.shape}')\n",
    "print(f'Размеры тестовой выборки: признаки: {features_test.shape}, целевой признак: {target_test.shape}')"
   ]
  },
  {
   "cell_type": "markdown",
   "metadata": {},
   "source": [
    "Видим, что все корректно."
   ]
  },
  {
   "cell_type": "markdown",
   "metadata": {},
   "source": [
    "Попробуем устранить мультиколлинеарность для построения линейной модели. Сохраним 2 сокращенных набора признаков:"
   ]
  },
  {
   "cell_type": "code",
   "execution_count": 15,
   "metadata": {},
   "outputs": [],
   "source": [
    "features_cut_1_train = features_train.drop('calls', axis=1)\n",
    "features_cut_1_valid = features_valid.drop('calls', axis=1)\n",
    "features_cut_1_test = features_test.drop('calls', axis=1)\n",
    "\n",
    "features_cut_2_train = features_train.drop('minutes', axis=1)\n",
    "features_cut_2_valid = features_valid.drop('minutes', axis=1)\n",
    "features_cut_2_test = features_test.drop('minutes', axis=1)"
   ]
  },
  {
   "cell_type": "markdown",
   "metadata": {},
   "source": [
    "Также для лучшей интерпретируемости линейной модели стандартизируем признаки (в том числе сокращенные наборы) с помощью **StandardScaler**:"
   ]
  },
  {
   "cell_type": "code",
   "execution_count": 16,
   "metadata": {},
   "outputs": [],
   "source": [
    "scaler = StandardScaler()"
   ]
  },
  {
   "cell_type": "code",
   "execution_count": 17,
   "metadata": {},
   "outputs": [],
   "source": [
    "features_train_st = scaler.fit_transform(features_train)\n",
    "features_valid_st = scaler.transform(features_valid)\n",
    "features_test_st = scaler.transform(features_test)\n",
    "\n",
    "features_cut_1_train_st = scaler.fit_transform(features_cut_1_train)\n",
    "features_cut_1_valid_st = scaler.transform(features_cut_1_valid)\n",
    "features_cut_1_test_st = scaler.transform(features_cut_1_test)\n",
    "\n",
    "features_cut_2_train_st = scaler.fit_transform(features_cut_2_train)\n",
    "features_cut_2_valid_st = scaler.transform(features_cut_2_valid)\n",
    "features_cut_2_test_st = scaler.transform(features_cut_2_test)"
   ]
  },
  {
   "cell_type": "markdown",
   "metadata": {},
   "source": [
    "**Выводы:**\n",
    "\n",
    "В этой части исследования мы разделили данные на **признаки** и **целевые признаки** для обучения моделей и разбили их на три стратифицированных выборки: обучающую, валидационную и тестовую в соотношении 3-1-1.\n",
    "\n",
    "Также мы попробовали устранить мультиколлинеарность для линейной модели с помощью удаления одного или другого столбца из двух сильно коррелирующих между собой столбцов и сохранили оба сокращенных набора признаков для обучающей, валидационной и тестовой выборок в отдельных датафрэймах.\n",
    "\n",
    "Затем мы стандартизировали признаки для лучшей интерпретируемости линейной модели (в том числе сокращенные наборы) с помощью **StandardScaler**, также сохранили их в отдельные датафрэймы."
   ]
  },
  {
   "cell_type": "markdown",
   "metadata": {},
   "source": [
    "## Исследование моделей"
   ]
  },
  {
   "cell_type": "markdown",
   "metadata": {},
   "source": [
    "У нас стоит задача по классификации, поскольку нужно разделить пользователей на 2 категории тарифов.\n",
    "\n",
    "Мы будем исследовать 6 моделей-классификаторов:\n",
    "\n",
    "- **Дерево решений**;\n",
    "- **Случайный лес**;\n",
    "- **Логистическая регрессия**;\n",
    "- **Адаптивный бустинг**;\n",
    "- **Градиентный бустинг**;\n",
    "- **Метод k-ближайших соседей**."
   ]
  },
  {
   "cell_type": "markdown",
   "metadata": {},
   "source": [
    "Также мы подберем лучшие гиперпараметры для данных моделей на валидационной выборке. В качестве метрики оценки качества будем использовать **accuracy** *(доля правильных ответов — показатель, который описывает общую точность предсказания модели по всем классам)*."
   ]
  },
  {
   "cell_type": "markdown",
   "metadata": {},
   "source": [
    "### Дерево решений"
   ]
  },
  {
   "cell_type": "markdown",
   "metadata": {},
   "source": [
    "**Дерево решений** — универсальный алгоритм машинного обучения. Структура дерева представляет собой «листья» и «ветки». На рёбрах («ветках») дерева решения записаны признаки, от которых зависит целевая переменная, а в «листьях» записаны значения целевой переменной. Чтобы классифицировать новый случай, надо спуститься по дереву до листа и выдать соответствующее значение."
   ]
  },
  {
   "cell_type": "code",
   "execution_count": 18,
   "metadata": {},
   "outputs": [
    {
     "name": "stderr",
     "output_type": "stream",
     "text": [
      "100%|██████████████████████████████████████████████████████████████████████████████████| 15/15 [00:00<00:00, 42.74it/s]"
     ]
    },
    {
     "name": "stdout",
     "output_type": "stream",
     "text": [
      "Лучшая максимально допустимая глубина дерева: 3\n",
      "Accuracy лучшей модели на валидационной выборке: 0.799\n"
     ]
    },
    {
     "name": "stderr",
     "output_type": "stream",
     "text": [
      "\n"
     ]
    }
   ],
   "source": [
    "best_tree_model = None\n",
    "best_depth = 0\n",
    "best_result = 0\n",
    "\n",
    "# Таблица для сравнения точности при изменении макс. доп. глубины\n",
    "gparms_tree = pd.DataFrame({'max_depth':[], 'accuracy_train':[], 'accuracy_valid':[]})\n",
    "\n",
    "for depth in tqdm(range(1, 16)):\n",
    "    model = DecisionTreeClassifier(random_state=12345, max_depth=depth)\n",
    "    model.fit(features_train, target_train)\n",
    "    predictions_train = model.predict(features_train)\n",
    "    predictions_valid = model.predict(features_valid)\n",
    "    result_train = accuracy_score(target_train, predictions_train)\n",
    "    result = accuracy_score(target_valid, predictions_valid)\n",
    "    gparms_tree.loc[len(gparms_tree.index)] = [depth, result_train.round(3), result.round(3)]\n",
    "    if result > best_result:\n",
    "        best_depth = depth\n",
    "        best_result = result\n",
    "        best_tree_model = model\n",
    "\n",
    "print('Лучшая максимально допустимая глубина дерева:', best_depth)\n",
    "print('Accuracy лучшей модели на валидационной выборке:', '{:.3f}'.format(best_result))"
   ]
  },
  {
   "cell_type": "markdown",
   "metadata": {},
   "source": [
    "Выведем на экран таблицу со значениями accuracy для каждого значения максимально допустимой глубины дерева и оформим в график:"
   ]
  },
  {
   "cell_type": "code",
   "execution_count": 19,
   "metadata": {},
   "outputs": [
    {
     "data": {
      "text/html": [
       "<div>\n",
       "<style scoped>\n",
       "    .dataframe tbody tr th:only-of-type {\n",
       "        vertical-align: middle;\n",
       "    }\n",
       "\n",
       "    .dataframe tbody tr th {\n",
       "        vertical-align: top;\n",
       "    }\n",
       "\n",
       "    .dataframe thead th {\n",
       "        text-align: right;\n",
       "    }\n",
       "</style>\n",
       "<table border=\"1\" class=\"dataframe\">\n",
       "  <thead>\n",
       "    <tr style=\"text-align: right;\">\n",
       "      <th></th>\n",
       "      <th>max_depth</th>\n",
       "      <th>accuracy_train</th>\n",
       "      <th>accuracy_valid</th>\n",
       "    </tr>\n",
       "  </thead>\n",
       "  <tbody>\n",
       "    <tr>\n",
       "      <th>0</th>\n",
       "      <td>1.0</td>\n",
       "      <td>0.752</td>\n",
       "      <td>0.748</td>\n",
       "    </tr>\n",
       "    <tr>\n",
       "      <th>1</th>\n",
       "      <td>2.0</td>\n",
       "      <td>0.782</td>\n",
       "      <td>0.785</td>\n",
       "    </tr>\n",
       "    <tr>\n",
       "      <th>2</th>\n",
       "      <td>3.0</td>\n",
       "      <td>0.794</td>\n",
       "      <td>0.799</td>\n",
       "    </tr>\n",
       "    <tr>\n",
       "      <th>3</th>\n",
       "      <td>4.0</td>\n",
       "      <td>0.798</td>\n",
       "      <td>0.784</td>\n",
       "    </tr>\n",
       "    <tr>\n",
       "      <th>4</th>\n",
       "      <td>5.0</td>\n",
       "      <td>0.820</td>\n",
       "      <td>0.796</td>\n",
       "    </tr>\n",
       "    <tr>\n",
       "      <th>5</th>\n",
       "      <td>6.0</td>\n",
       "      <td>0.835</td>\n",
       "      <td>0.798</td>\n",
       "    </tr>\n",
       "    <tr>\n",
       "      <th>6</th>\n",
       "      <td>7.0</td>\n",
       "      <td>0.846</td>\n",
       "      <td>0.782</td>\n",
       "    </tr>\n",
       "    <tr>\n",
       "      <th>7</th>\n",
       "      <td>8.0</td>\n",
       "      <td>0.858</td>\n",
       "      <td>0.779</td>\n",
       "    </tr>\n",
       "    <tr>\n",
       "      <th>8</th>\n",
       "      <td>9.0</td>\n",
       "      <td>0.874</td>\n",
       "      <td>0.782</td>\n",
       "    </tr>\n",
       "    <tr>\n",
       "      <th>9</th>\n",
       "      <td>10.0</td>\n",
       "      <td>0.884</td>\n",
       "      <td>0.782</td>\n",
       "    </tr>\n",
       "    <tr>\n",
       "      <th>10</th>\n",
       "      <td>11.0</td>\n",
       "      <td>0.897</td>\n",
       "      <td>0.779</td>\n",
       "    </tr>\n",
       "    <tr>\n",
       "      <th>11</th>\n",
       "      <td>12.0</td>\n",
       "      <td>0.915</td>\n",
       "      <td>0.768</td>\n",
       "    </tr>\n",
       "    <tr>\n",
       "      <th>12</th>\n",
       "      <td>13.0</td>\n",
       "      <td>0.925</td>\n",
       "      <td>0.754</td>\n",
       "    </tr>\n",
       "    <tr>\n",
       "      <th>13</th>\n",
       "      <td>14.0</td>\n",
       "      <td>0.946</td>\n",
       "      <td>0.743</td>\n",
       "    </tr>\n",
       "    <tr>\n",
       "      <th>14</th>\n",
       "      <td>15.0</td>\n",
       "      <td>0.959</td>\n",
       "      <td>0.729</td>\n",
       "    </tr>\n",
       "  </tbody>\n",
       "</table>\n",
       "</div>"
      ],
      "text/plain": [
       "    max_depth  accuracy_train  accuracy_valid\n",
       "0         1.0           0.752           0.748\n",
       "1         2.0           0.782           0.785\n",
       "2         3.0           0.794           0.799\n",
       "3         4.0           0.798           0.784\n",
       "4         5.0           0.820           0.796\n",
       "5         6.0           0.835           0.798\n",
       "6         7.0           0.846           0.782\n",
       "7         8.0           0.858           0.779\n",
       "8         9.0           0.874           0.782\n",
       "9        10.0           0.884           0.782\n",
       "10       11.0           0.897           0.779\n",
       "11       12.0           0.915           0.768\n",
       "12       13.0           0.925           0.754\n",
       "13       14.0           0.946           0.743\n",
       "14       15.0           0.959           0.729"
      ]
     },
     "execution_count": 19,
     "metadata": {},
     "output_type": "execute_result"
    }
   ],
   "source": [
    "gparms_tree"
   ]
  },
  {
   "cell_type": "code",
   "execution_count": 20,
   "metadata": {
    "scrolled": false
   },
   "outputs": [
    {
     "data": {
      "image/png": "[encoded data removed]",
      "text/plain": [
       "<Figure size 1500x500 with 1 Axes>"
      ]
     },
     "metadata": {},
     "output_type": "display_data"
    }
   ],
   "source": [
    "gparms_tree.plot(x='max_depth', style='o-', color=['purple', 'orange'], grid=True, figsize=(15,5), legend=False)\n",
    "plt.title('Изменение точности предсказания модели DecisionTreeClassifier\\nс увеличением максимально допустимой глубины дерева',\n",
    "         fontsize=16, pad=10)\n",
    "plt.ylim(0.65,1)\n",
    "plt.xticks(ticks=range(1,16,1), fontsize=10)\n",
    "plt.xlabel('максимально допустимая глубина дерева', fontsize=14)\n",
    "plt.yticks(ticks=np.arange(0.7,0.96,0.05), fontsize=10)\n",
    "plt.ylabel('accuracy', fontsize=14)\n",
    "plt.legend(['Тренировочная', 'Валидационная'], title='Выборки', fontsize=12, title_fontsize=14)\n",
    "plt.show()"
   ]
  },
  {
   "cell_type": "markdown",
   "metadata": {},
   "source": [
    "Видим, что если максимально допустимая глубина дерева больше 6, у модели дерева решений наступает переобучение. А лучший результат *accuracy* на валидационной выборке, как и вывел нам код выше, получается при максимально допустимой глубине дерева 3."
   ]
  },
  {
   "cell_type": "markdown",
   "metadata": {},
   "source": [
    "Построим также *plot_tree* с максимально допустимой глубиной дерева 3, чтобы увидеть, как модель принимает решение:"
   ]
  },
  {
   "cell_type": "code",
   "execution_count": 21,
   "metadata": {},
   "outputs": [
    {
     "data": {
      "image/png": "[encoded data removed]",
      "text/plain": [
       "<Figure size 1500x1200 with 1 Axes>"
      ]
     },
     "metadata": {},
     "output_type": "display_data"
    }
   ],
   "source": [
    "plt.figure(figsize=(15,12))\n",
    "tree.plot_tree(best_tree_model, feature_names=features_train.columns,\n",
    "               class_names=['0','1'], filled=True, rounded=True, precision=2)\n",
    "plt.title('Модель классификатора дерева решений с максимально допустимой глубиной 3', fontsize=15)\n",
    "plt.show()"
   ]
  },
  {
   "cell_type": "markdown",
   "metadata": {},
   "source": [
    "### Случайный лес"
   ]
  },
  {
   "cell_type": "markdown",
   "metadata": {},
   "source": [
    "**Случайный лес** —  алгоритм машинного обучения, использующий большой ансамбль независимых друг от друга решающих деревьев и принимающий решение на основе голосования."
   ]
  },
  {
   "cell_type": "code",
   "execution_count": 22,
   "metadata": {},
   "outputs": [
    {
     "name": "stderr",
     "output_type": "stream",
     "text": [
      "100%|██████████████████████████████████████████████████████████████████████████████████| 17/17 [01:43<00:00,  6.11s/it]"
     ]
    },
    {
     "name": "stdout",
     "output_type": "stream",
     "text": [
      "Лучшее количество деревьев: 55\n",
      "Лучшая максимально допустимая глубина дерева: 11\n",
      "Accuracy лучшей модели на валидационной выборке: 0.827\n"
     ]
    },
    {
     "name": "stderr",
     "output_type": "stream",
     "text": [
      "\n"
     ]
    }
   ],
   "source": [
    "best_forest_model = None\n",
    "best_estimators = 0\n",
    "best_depth = 0\n",
    "best_result = 0\n",
    "\n",
    "for est in tqdm(range(20, 101, 5)):\n",
    "    for depth in range (2, 16):\n",
    "        model = RandomForestClassifier(random_state=12345, n_estimators=est, max_depth=depth)\n",
    "        model.fit(features_train, target_train)\n",
    "        result = model.score(features_valid, target_valid)\n",
    "        if result > best_result:\n",
    "            best_estimators = est\n",
    "            best_depth = depth\n",
    "            best_result = result\n",
    "            best_forest_model = model\n",
    "            \n",
    "print('Лучшее количество деревьев:', best_estimators)\n",
    "print('Лучшая максимально допустимая глубина дерева:', best_depth)\n",
    "print('Accuracy лучшей модели на валидационной выборке:', '{:.3f}'.format(best_result))"
   ]
  },
  {
   "cell_type": "markdown",
   "metadata": {},
   "source": [
    "### Адаптивный бустинг"
   ]
  },
  {
   "cell_type": "markdown",
   "metadata": {},
   "source": [
    "**Адаптивный бустинг** — алгоритм машинного обучения, который создает решающую модель прогнозирования в виде ансамбля слабых моделей прогнозирования, обычно деревьев решений. Является адаптивным в том смысле, что последующие слабые модели настраиваются в пользу тех экземпляров, которые были неправильно классифицированы предыдущими классификаторами. Затем слабые модели объединяются во взвешенную сумму, которая представляет окончательный результат усиленного классификатора."
   ]
  },
  {
   "cell_type": "code",
   "execution_count": 23,
   "metadata": {},
   "outputs": [
    {
     "name": "stderr",
     "output_type": "stream",
     "text": [
      "100%|██████████████████████████████████████████████████████████████████████████████████| 17/17 [03:35<00:00, 12.69s/it]"
     ]
    },
    {
     "name": "stdout",
     "output_type": "stream",
     "text": [
      "Лучшее количество деревьев: 80\n",
      "Лучшая максимально допустимая глубина базового дерева: 11\n",
      "Accuracy лучшей модели на валидационной выборке: 0.802\n"
     ]
    },
    {
     "name": "stderr",
     "output_type": "stream",
     "text": [
      "\n"
     ]
    }
   ],
   "source": [
    "best_adaboost_model = None\n",
    "best_estimators = 0\n",
    "best_depth = 0\n",
    "best_result = 0\n",
    "\n",
    "for est in tqdm(range(20, 101, 5)):\n",
    "    for depth in range(2, 16):\n",
    "        base = DecisionTreeClassifier(random_state=12345, max_depth=depth, class_weight='balanced')\n",
    "        model = AdaBoostClassifier(random_state=12345, base_estimator=base, n_estimators=est)\n",
    "        model.fit(features_train, target_train)\n",
    "        result = model.score(features_valid, target_valid)\n",
    "        if result > best_result:\n",
    "            best_estimators = est\n",
    "            best_depth = depth\n",
    "            best_result = result\n",
    "            best_adaboost_model = model\n",
    "            \n",
    "print('Лучшее количество деревьев:', best_estimators)\n",
    "print('Лучшая максимально допустимая глубина базового дерева:', best_depth)\n",
    "print('Accuracy лучшей модели на валидационной выборке:', '{:.3f}'.format(best_result))"
   ]
  },
  {
   "cell_type": "markdown",
   "metadata": {},
   "source": [
    "### Градиентный бустинг"
   ]
  },
  {
   "cell_type": "markdown",
   "metadata": {},
   "source": [
    "**Градиентный бустинг** — еще один алгоритм машинного обучения, который создает решающую модель прогнозирования в виде ансамбля слабых моделей прогнозирования, обычно также деревьев решений. При каждом следующем шаге новая модель обучается с использованием данных об ошибках предыдущих. Результирующая функция представляет собой линейную комбинацию базовых, слабых моделей.\n",
    "\n",
    "Разница между градиентным и адаптивным бустингом заключается в том, как алгоритмы идентифицируют слабые модели. Адаптивный бустинг выявляет их на основании высоких значений весов, а градиентный бустинг – на основании градиентов функции потерь."
   ]
  },
  {
   "cell_type": "code",
   "execution_count": 24,
   "metadata": {},
   "outputs": [
    {
     "name": "stderr",
     "output_type": "stream",
     "text": [
      "100%|██████████████████████████████████████████████████████████████████████████████████| 17/17 [07:25<00:00, 26.19s/it]"
     ]
    },
    {
     "name": "stdout",
     "output_type": "stream",
     "text": [
      "Лучшее количество деревьев: 25\n",
      "Лучшая максимально допустимая глубина дерева: 4\n",
      "Accuracy лучшей модели на валидационной выборке: 0.816\n"
     ]
    },
    {
     "name": "stderr",
     "output_type": "stream",
     "text": [
      "\n"
     ]
    }
   ],
   "source": [
    "best_gradboost_model = None\n",
    "best_estimators = 0\n",
    "best_depth = 0\n",
    "best_result = 0\n",
    "\n",
    "for est in tqdm(range(20, 101, 5)):\n",
    "    for depth in range(2, 16):\n",
    "        model = GradientBoostingClassifier(random_state=12345, n_estimators=est, max_depth=depth)\n",
    "        model.fit(features_train, target_train)\n",
    "        result = model.score(features_valid, target_valid)\n",
    "        if result > best_result:\n",
    "            best_estimators = est\n",
    "            best_depth = depth\n",
    "            best_result = result\n",
    "            best_gradboost_model = model\n",
    "            \n",
    "print('Лучшее количество деревьев:', best_estimators)\n",
    "print('Лучшая максимально допустимая глубина дерева:', best_depth)\n",
    "print('Accuracy лучшей модели на валидационной выборке:', '{:.3f}'.format(best_result))"
   ]
  },
  {
   "cell_type": "markdown",
   "metadata": {},
   "source": [
    "### Логистическая регрессия"
   ]
  },
  {
   "cell_type": "markdown",
   "metadata": {},
   "source": [
    "**Логистическая регрессия** — алгоритм машинного обучения, используемый для прогнозирования вероятности целевой переменной. Природа целевой переменной дихотомична. т.е. существует только два возможных класса. Логистическая регрессия вычисляет, к какому классу близок объект, и в зависимости от ответа выбирает нужный класс."
   ]
  },
  {
   "cell_type": "markdown",
   "metadata": {},
   "source": [
    "Для лучшей интерпретируемости линейной модели будем использовать стандартизированный набор признаков:"
   ]
  },
  {
   "cell_type": "code",
   "execution_count": 25,
   "metadata": {},
   "outputs": [],
   "source": [
    "def log_reg(f_t, f_v):\n",
    "    model = LogisticRegression(random_state=12345, solver='lbfgs', max_iter=1000)\n",
    "    model.fit(f_t, target_train)\n",
    "    result = model.score(f_v, target_valid)\n",
    "    print('Accuracy модели логистической регрессии на валидационной выборке:', '{:.3f}'.format(result))"
   ]
  },
  {
   "cell_type": "code",
   "execution_count": 26,
   "metadata": {},
   "outputs": [
    {
     "name": "stdout",
     "output_type": "stream",
     "text": [
      "Accuracy модели логистической регрессии на валидационной выборке: 0.737\n"
     ]
    }
   ],
   "source": [
    "log_reg(features_train, features_valid)"
   ]
  },
  {
   "cell_type": "markdown",
   "metadata": {},
   "source": [
    "На невысокие результаты линейной модели могла повлиять обнаруженная нами выше мультиколлинеарность. Попробуем устранить ее и заново обучить модель:"
   ]
  },
  {
   "cell_type": "code",
   "execution_count": 27,
   "metadata": {},
   "outputs": [
    {
     "name": "stdout",
     "output_type": "stream",
     "text": [
      "Accuracy модели логистической регрессии на валидационной выборке: 0.737\n"
     ]
    }
   ],
   "source": [
    "log_reg(features_cut_1_train_st, features_cut_1_valid_st)"
   ]
  },
  {
   "cell_type": "code",
   "execution_count": 28,
   "metadata": {},
   "outputs": [
    {
     "name": "stdout",
     "output_type": "stream",
     "text": [
      "Accuracy модели логистической регрессии на валидационной выборке: 0.743\n"
     ]
    }
   ],
   "source": [
    "log_reg(features_cut_2_train_st, features_cut_2_valid_st)"
   ]
  },
  {
   "cell_type": "markdown",
   "metadata": {},
   "source": [
    "При обучении модели на втором сокращенном наборе признаков результаты стали немного лучше, но все равно не дотягивают до результатов других моделей."
   ]
  },
  {
   "cell_type": "markdown",
   "metadata": {},
   "source": [
    "### Метод k-ближайших соседей"
   ]
  },
  {
   "cell_type": "markdown",
   "metadata": {},
   "source": [
    "**Метод k-ближайших соседей** — алгоритм машинного обучения, присваивающий объекту значение целевого признака, известного для *k* ближайших к нему объектов в обучающем наборе данных. "
   ]
  },
  {
   "cell_type": "code",
   "execution_count": 29,
   "metadata": {},
   "outputs": [],
   "source": [
    "def kn(f_t, f_v):\n",
    "    best_model = None\n",
    "    best_neighbors = 0\n",
    "    best_result = 0\n",
    "\n",
    "    for k in tqdm(range(50, 301, 50)):\n",
    "        model = KNeighborsClassifier(n_neighbors=k)\n",
    "        model.fit(f_t, target_train)\n",
    "        result = model.score(f_v, target_valid)\n",
    "        if result > best_result:\n",
    "            best_neighbors = k\n",
    "            best_result = result\n",
    "            best_model = model\n",
    "            \n",
    "    print('Лучшее количество соседей:', best_neighbors)\n",
    "    print('Accuracy лучшей модели на валидационной выборке:', '{:.3f}'.format(best_result))\n",
    "    return best_model"
   ]
  },
  {
   "cell_type": "code",
   "execution_count": 30,
   "metadata": {},
   "outputs": [
    {
     "name": "stderr",
     "output_type": "stream",
     "text": [
      "100%|████████████████████████████████████████████████████████████████████████████████████| 6/6 [00:00<00:00,  9.89it/s]"
     ]
    },
    {
     "name": "stdout",
     "output_type": "stream",
     "text": [
      "Лучшее количество соседей: 250\n",
      "Accuracy лучшей модели на валидационной выборке: 0.747\n"
     ]
    },
    {
     "name": "stderr",
     "output_type": "stream",
     "text": [
      "\n"
     ]
    }
   ],
   "source": [
    "best_kn_model = kn(features_train, features_valid)"
   ]
  },
  {
   "cell_type": "markdown",
   "metadata": {},
   "source": [
    "Модель показала невысокие результаты, хотя и немного лучше, чем логистическая регрессия. \n",
    "\n",
    "Проверим ее на чувствительность к стандартизации признаков:"
   ]
  },
  {
   "cell_type": "code",
   "execution_count": 31,
   "metadata": {},
   "outputs": [
    {
     "name": "stderr",
     "output_type": "stream",
     "text": [
      "100%|████████████████████████████████████████████████████████████████████████████████████| 6/6 [00:00<00:00,  8.72it/s]"
     ]
    },
    {
     "name": "stdout",
     "output_type": "stream",
     "text": [
      "Лучшее количество соседей: 50\n",
      "Accuracy лучшей модели на валидационной выборке: 0.785\n"
     ]
    },
    {
     "name": "stderr",
     "output_type": "stream",
     "text": [
      "\n"
     ]
    }
   ],
   "source": [
    "best_kn_model_st = kn(features_train_st, features_valid_st)"
   ]
  },
  {
   "cell_type": "markdown",
   "metadata": {},
   "source": [
    "При обучении модели на стандартизированных признаках модель работает немного лучше."
   ]
  },
  {
   "cell_type": "markdown",
   "metadata": {},
   "source": [
    "### Проверка моделей на адекватность"
   ]
  },
  {
   "cell_type": "markdown",
   "metadata": {},
   "source": [
    "Проверим наши модели на адекватность с помощью другой модели библиотеки **sklearn — DummyClassifier**.\n",
    "\n",
    "Эта модель делает прогнозы, которые игнорируют значения входных признаков, и служит простой базой для сравнения с другими более сложными классификаторами.\n",
    "\n",
    "Конкретное поведение модели выбирается с помощью параметра *strategy*. Используем стратегию *most_frequent*. Эта стратегия всегда возвращает один и тот же класс — наиболее часто встречающийся у целевого признака обучающей выборки. В нашем случае это «0», соответствующий тарифу «Смарт»."
   ]
  },
  {
   "cell_type": "code",
   "execution_count": 32,
   "metadata": {},
   "outputs": [
    {
     "name": "stdout",
     "output_type": "stream",
     "text": [
      "Accuracy стратегии most_frequent модели DummyClassifier на валидационной выборке: 0.694\n",
      "Accuracy стратегии most_frequent модели DummyClassifier на тестовой выборке: 0.694\n"
     ]
    }
   ],
   "source": [
    "model = DummyClassifier(strategy='most_frequent').fit(features_train, target_train)\n",
    "predictions_valid = model.predict(features_valid)\n",
    "predictions_test = model.predict(features_test)\n",
    "result1 = accuracy_score(target_valid, predictions_valid)\n",
    "result2 = accuracy_score(target_test, predictions_test)\n",
    "\n",
    "print('Accuracy стратегии most_frequent модели DummyClassifier на валидационной выборке:', '{:.3f}'.format(result1))\n",
    "print('Accuracy стратегии most_frequent модели DummyClassifier на тестовой выборке:', '{:.3f}'.format(result2))"
   ]
  },
  {
   "cell_type": "markdown",
   "metadata": {},
   "source": [
    "Точность правильных ответов в такой модели предсказания на валидационной и тестовой выборках — 0.694. Таким образом, чтобы считать наши модели адекватными, они должны демонстрировать *accuracy выше 0.694*. Все наши модели демонстрируют более высокие значения *accuracy*, значит, они адекватны."
   ]
  },
  {
   "cell_type": "markdown",
   "metadata": {},
   "source": [
    "### Выводы"
   ]
  },
  {
   "cell_type": "markdown",
   "metadata": {},
   "source": [
    "Мы исследовали 6 моделей-классификаторов:\n",
    "\n",
    "- **Дерево решений**;\n",
    "- **Случайный лес**;\n",
    "- **Логистическая регрессия**;\n",
    "- **Адаптивный бустинг**;\n",
    "- **Градиентный бустинг**;\n",
    "- **Метод k-ближайших соседей**.\n",
    "\n",
    "Мы подобрали лучшие гиперпараметры для данных моделей на валидационной выборке. В качестве метрики оценки качества использовали **accuracy**.\n",
    "\n",
    "Также мы проверили наши модели на адекватность с помощью **DummyClassifier** (стратегия *most_frequent*). Установили порог адекватности моделей, равный **0.694**. У настоящих классификационных моделей *accuracy* должна быть выше этого значения.\n",
    "\n",
    "Все наши модели демонстрируют более высокие значения *accuracy*, значит, они адекватны.\n",
    "\n",
    "Среди изученных нами моделей лучшую точность предсказания на валидационной выборке показала модель **RandomForestClassifier** при максимально допустимой глубине дерева 11 и количестве деревьев 55 **(accuracy 0.827)**. Ее и будем проверять на тестовой выборке."
   ]
  },
  {
   "cell_type": "markdown",
   "metadata": {},
   "source": [
    "## Тестирование модели"
   ]
  },
  {
   "cell_type": "markdown",
   "metadata": {},
   "source": [
    "Возьмем для тестирования лучшую модель — модель случайного леса с лучшими гиперпараметрами *'max_depth': 11, 'n_estimators': 55*.\n",
    "\n",
    "Применим еще один трюк: заново обучим нашу модель на увеличенной выборке, состоящей из объединенных обучающей и валидационной выборок:"
   ]
  },
  {
   "cell_type": "code",
   "execution_count": 33,
   "metadata": {},
   "outputs": [],
   "source": [
    "features_train_plus = pd.concat([features_train, features_valid])\n",
    "target_train_plus = pd.concat([target_train, target_valid])"
   ]
  },
  {
   "cell_type": "code",
   "execution_count": 34,
   "metadata": {},
   "outputs": [
    {
     "name": "stdout",
     "output_type": "stream",
     "text": [
      "Размеры расширенной обучающей выборки: признаки: (2571, 4), целевой признак: (2571,)\n"
     ]
    }
   ],
   "source": [
    "print(\n",
    "    f'Размеры расширенной обучающей выборки: признаки: {features_train_plus.shape}, целевой признак: {target_train_plus.shape}')"
   ]
  },
  {
   "cell_type": "code",
   "execution_count": 35,
   "metadata": {},
   "outputs": [
    {
     "name": "stdout",
     "output_type": "stream",
     "text": [
      "Accuracy лучшей модели RandomForest на тестовой выборке: 0.824\n"
     ]
    }
   ],
   "source": [
    "model = best_forest_model\n",
    "model.fit(features_train_plus, target_train_plus)\n",
    "result = model.score(features_test, target_test)\n",
    "print(\"Accuracy лучшей модели RandomForest на тестовой выборке:\", '{:.3f}'.format(result))"
   ]
  },
  {
   "cell_type": "markdown",
   "metadata": {},
   "source": [
    "Таким образом на лучшей из исследованных нами моделей — **RandomForestClassifier** — с лучшим сочетанием гиперпараметров на тестовой выборке мы достигли **accuracy 0.824**."
   ]
  },
  {
   "cell_type": "markdown",
   "metadata": {},
   "source": [
    "## Итоги исследования"
   ]
  },
  {
   "cell_type": "markdown",
   "metadata": {},
   "source": [
    "**Целью нашего исследования было построить модель машинного обучения, которая выберет подходящий для пользователя тариф**.\n",
    "\n",
    "**В первой части** исследования мы провели общий обзор данных и выяснили, что:\n",
    "\n",
    "- Количество строк в базе данных  — 3214;\n",
    "- Каждая строка содержит информацию о поведении одного пользователя за месяц;\n",
    "- Количество пользователей тарифа «Смарт» значительно больше, чем пользователей тарифа «Ультра»;\n",
    "- Дубликатов и пропусков в данных нет;\n",
    "- Присутствует мультиколлинеарность: сильная корреляция между признаками *calls* и *minutes*;\n",
    "- Для лучшей интерпретируемости линейной модели данные нуждаются в масштабировании.\n",
    "\n",
    "**Во второй части** мы разделили данные на **признаки** и **целевые признаки** для обучения моделей и разбили их на три стратифицированных выборки: обучающую, валидационную и тестовую в соотношении 3-1-1.\n",
    "\n",
    "Также мы попробовали устранить мультиколлинеарность для линейной модели с помощью удаления одного или другого столбца из двух сильно коррелирующих между собой столбцов и сохранили оба сокращенных набора признаков для обучающей, валидационной и тестовой выборок в отдельных датафрэймах.\n",
    "\n",
    "Затем мы стандартизировали признаки для лучшей интерпретируемости линейной модели (в том числе сокращенные наборы) с помощью **StandardScaler**, также сохранили их в отдельные датафрэймы.\n",
    "\n",
    "**В третьей части** мы исследовали 6 моделей-классификаторов:\n",
    "\n",
    "- **Дерево решений**;\n",
    "- **Случайный лес**;\n",
    "- **Логистическая регрессия**;\n",
    "- **Адаптивный бустинг**;\n",
    "- **Градиентный бустинг**;\n",
    "- **Метод k-ближайших соседей**.\n",
    "\n",
    "Также мы подобрали лучшие гиперпараметры для данных моделей на валидационной выборке. В качестве метрики оценки качества использовали **accuracy**.\n",
    "\n",
    "Лучшую точность предсказания на валидационной выборке показала модель **RandomForestClassifier** при максимально допустимой глубине дерева 11 и количестве деревьев 55 **(accuracy 0.827)**.\n",
    "\n",
    "**В четвертой части** исследования мы проверили наши модели на адекватность с помощью **DummyClassifier**. Пришли к выводу, то наши модели адекватны.\n",
    "\n",
    "**В заключительной части** исследования мы проверили нашу лучшую модель **RandomForestClassifier** с лучшими гиперпараметрами с лучшими гиперпараметрами *'max_depth': 11, 'n_estimators': 55* на тестовой выборке и достигли **accuracy 0.824**.\n",
    "\n",
    "**Таким образом для рекомендации наиболее подходящего для пользователя тарифа мы предлагаем использовать модель случайного леса с указанными выше гиперпараметрами**."
   ]
  }
 ],
 "metadata": {
  "ExecuteTimeLog": [
   {
    "duration": 434,
    "start_time": "2022-10-31T18:09:29.818Z"
   },
   {
    "duration": 62,
    "start_time": "2022-10-31T18:10:14.576Z"
   },
   {
    "duration": 13384,
    "start_time": "2022-10-31T18:14:11.547Z"
   },
   {
    "duration": 3660,
    "start_time": "2022-10-31T18:14:52.132Z"
   },
   {
    "duration": 9575,
    "start_time": "2022-10-31T18:15:29.378Z"
   },
   {
    "duration": 28,
    "start_time": "2022-10-31T18:16:32.649Z"
   },
   {
    "duration": 2094,
    "start_time": "2022-10-31T18:16:32.715Z"
   },
   {
    "duration": 6806,
    "start_time": "2022-10-31T18:16:34.812Z"
   },
   {
    "duration": 10,
    "start_time": "2022-10-31T18:29:25.258Z"
   },
   {
    "duration": 28,
    "start_time": "2022-10-31T18:38:38.014Z"
   },
   {
    "duration": 3,
    "start_time": "2022-10-31T19:05:30.344Z"
   },
   {
    "duration": 200,
    "start_time": "2022-10-31T19:05:35.071Z"
   },
   {
    "duration": 5,
    "start_time": "2022-10-31T19:08:36.924Z"
   },
   {
    "duration": 266,
    "start_time": "2022-10-31T19:11:58.397Z"
   },
   {
    "duration": 3,
    "start_time": "2022-10-31T19:12:51.133Z"
   },
   {
    "duration": 81,
    "start_time": "2022-10-31T19:23:17.863Z"
   },
   {
    "duration": 6,
    "start_time": "2022-10-31T19:24:07.555Z"
   },
   {
    "duration": 6,
    "start_time": "2022-10-31T19:24:08.075Z"
   },
   {
    "duration": 3,
    "start_time": "2022-10-31T19:24:09.236Z"
   },
   {
    "duration": 3,
    "start_time": "2022-10-31T19:24:09.788Z"
   },
   {
    "duration": 59,
    "start_time": "2022-10-31T19:24:10.810Z"
   },
   {
    "duration": 59,
    "start_time": "2022-10-31T19:26:09.388Z"
   },
   {
    "duration": 27,
    "start_time": "2022-10-31T19:26:24.142Z"
   },
   {
    "duration": 72,
    "start_time": "2022-10-31T19:27:06.182Z"
   },
   {
    "duration": 33,
    "start_time": "2022-10-31T19:27:15.231Z"
   },
   {
    "duration": 35,
    "start_time": "2022-10-31T19:27:22.728Z"
   },
   {
    "duration": 60,
    "start_time": "2022-10-31T19:28:19.794Z"
   },
   {
    "duration": 66,
    "start_time": "2022-10-31T19:28:30.589Z"
   },
   {
    "duration": 81,
    "start_time": "2022-10-31T19:29:07.732Z"
   },
   {
    "duration": 63,
    "start_time": "2022-10-31T19:29:15.068Z"
   },
   {
    "duration": 66,
    "start_time": "2022-10-31T19:30:04.180Z"
   },
   {
    "duration": 61,
    "start_time": "2022-10-31T19:37:59.912Z"
   },
   {
    "duration": 29378,
    "start_time": "2022-10-31T19:40:50.028Z"
   },
   {
    "duration": 12265,
    "start_time": "2022-10-31T19:42:30.845Z"
   },
   {
    "duration": 29348,
    "start_time": "2022-10-31T19:42:58.923Z"
   },
   {
    "duration": 70,
    "start_time": "2022-10-31T19:49:40.710Z"
   },
   {
    "duration": 32,
    "start_time": "2022-10-31T19:49:54.681Z"
   },
   {
    "duration": 6442,
    "start_time": "2022-10-31T19:52:31.454Z"
   },
   {
    "duration": 56724,
    "start_time": "2022-10-31T19:56:47.487Z"
   },
   {
    "duration": 0,
    "start_time": "2022-10-31T20:06:20.343Z"
   },
   {
    "duration": 24159,
    "start_time": "2022-10-31T20:06:43.848Z"
   },
   {
    "duration": 116370,
    "start_time": "2022-10-31T20:07:12.774Z"
   },
   {
    "duration": 112972,
    "start_time": "2022-10-31T20:10:24.592Z"
   },
   {
    "duration": 21,
    "start_time": "2022-10-31T20:12:38.196Z"
   },
   {
    "duration": 5457,
    "start_time": "2022-10-31T20:14:27.333Z"
   },
   {
    "duration": 62420,
    "start_time": "2022-10-31T20:15:12.716Z"
   },
   {
    "duration": 6621,
    "start_time": "2022-10-31T20:16:55.505Z"
   },
   {
    "duration": 28,
    "start_time": "2022-10-31T20:17:30.144Z"
   },
   {
    "duration": 2180,
    "start_time": "2022-10-31T20:17:30.174Z"
   },
   {
    "duration": 7052,
    "start_time": "2022-10-31T20:17:32.357Z"
   },
   {
    "duration": 4,
    "start_time": "2022-10-31T20:17:39.411Z"
   },
   {
    "duration": 16,
    "start_time": "2022-10-31T20:17:39.417Z"
   },
   {
    "duration": 6,
    "start_time": "2022-10-31T20:17:39.435Z"
   },
   {
    "duration": 13,
    "start_time": "2022-10-31T20:17:39.477Z"
   },
   {
    "duration": 5,
    "start_time": "2022-10-31T20:17:39.492Z"
   },
   {
    "duration": 69,
    "start_time": "2022-10-31T20:17:39.499Z"
   },
   {
    "duration": 6580,
    "start_time": "2022-10-31T20:17:39.589Z"
   },
   {
    "duration": 43,
    "start_time": "2022-10-31T20:17:46.170Z"
   },
   {
    "duration": 63538,
    "start_time": "2022-10-31T20:17:46.215Z"
   },
   {
    "duration": 80,
    "start_time": "2022-10-31T20:26:04.834Z"
   },
   {
    "duration": 1032,
    "start_time": "2022-10-31T20:28:05.317Z"
   },
   {
    "duration": 76,
    "start_time": "2022-10-31T20:29:00.835Z"
   },
   {
    "duration": 933,
    "start_time": "2022-10-31T20:29:12.679Z"
   },
   {
    "duration": 7,
    "start_time": "2022-10-31T20:43:07.695Z"
   },
   {
    "duration": 6,
    "start_time": "2022-10-31T20:43:19.055Z"
   },
   {
    "duration": 6,
    "start_time": "2022-10-31T20:57:50.553Z"
   },
   {
    "duration": 5,
    "start_time": "2022-10-31T20:58:01.675Z"
   },
   {
    "duration": 5,
    "start_time": "2022-10-31T20:58:28.912Z"
   },
   {
    "duration": 17,
    "start_time": "2022-10-31T20:59:47.574Z"
   },
   {
    "duration": 52,
    "start_time": "2022-10-31T21:07:53.235Z"
   },
   {
    "duration": 19,
    "start_time": "2022-10-31T21:10:25.848Z"
   },
   {
    "duration": 70,
    "start_time": "2022-10-31T21:12:01.789Z"
   },
   {
    "duration": 3,
    "start_time": "2022-10-31T21:12:11.494Z"
   },
   {
    "duration": 3,
    "start_time": "2022-10-31T21:12:32.423Z"
   },
   {
    "duration": 5,
    "start_time": "2022-10-31T21:12:52.446Z"
   },
   {
    "duration": 15,
    "start_time": "2022-10-31T21:13:32.859Z"
   },
   {
    "duration": 54,
    "start_time": "2022-10-31T21:14:09.001Z"
   },
   {
    "duration": 428,
    "start_time": "2022-10-31T21:14:27.465Z"
   },
   {
    "duration": 12,
    "start_time": "2022-10-31T21:21:40.488Z"
   },
   {
    "duration": 11,
    "start_time": "2022-10-31T21:22:16.098Z"
   },
   {
    "duration": 12,
    "start_time": "2022-10-31T21:22:54.287Z"
   },
   {
    "duration": 12,
    "start_time": "2022-10-31T21:23:11.157Z"
   },
   {
    "duration": 11,
    "start_time": "2022-10-31T21:25:37.000Z"
   },
   {
    "duration": 1146,
    "start_time": "2022-10-31T21:30:34.390Z"
   },
   {
    "duration": 1163,
    "start_time": "2022-10-31T21:32:00.542Z"
   },
   {
    "duration": 1157,
    "start_time": "2022-10-31T21:34:25.062Z"
   },
   {
    "duration": 1194,
    "start_time": "2022-10-31T21:36:23.382Z"
   },
   {
    "duration": 6,
    "start_time": "2022-10-31T21:38:01.374Z"
   },
   {
    "duration": 5,
    "start_time": "2022-10-31T21:38:24.996Z"
   },
   {
    "duration": 5,
    "start_time": "2022-10-31T21:39:03.248Z"
   },
   {
    "duration": 14,
    "start_time": "2022-10-31T21:42:42.658Z"
   },
   {
    "duration": 10,
    "start_time": "2022-10-31T21:43:23.577Z"
   },
   {
    "duration": 18,
    "start_time": "2022-10-31T21:43:53.780Z"
   },
   {
    "duration": 10,
    "start_time": "2022-10-31T21:44:36.838Z"
   },
   {
    "duration": 4,
    "start_time": "2022-10-31T21:45:10.135Z"
   },
   {
    "duration": 4,
    "start_time": "2022-10-31T21:47:34.482Z"
   },
   {
    "duration": 4,
    "start_time": "2022-10-31T21:47:55.058Z"
   },
   {
    "duration": 1116,
    "start_time": "2022-10-31T21:48:06.807Z"
   },
   {
    "duration": 3,
    "start_time": "2022-10-31T21:49:36.722Z"
   },
   {
    "duration": 72,
    "start_time": "2022-10-31T21:49:50.657Z"
   },
   {
    "duration": 1116,
    "start_time": "2022-10-31T21:49:57.283Z"
   },
   {
    "duration": 3,
    "start_time": "2022-10-31T21:51:35.290Z"
   },
   {
    "duration": 1116,
    "start_time": "2022-10-31T21:51:43.225Z"
   },
   {
    "duration": 1142,
    "start_time": "2022-10-31T21:52:01.522Z"
   },
   {
    "duration": 3,
    "start_time": "2022-10-31T21:52:54.985Z"
   },
   {
    "duration": 72,
    "start_time": "2022-10-31T21:53:20.715Z"
   },
   {
    "duration": 1161,
    "start_time": "2022-10-31T21:53:47.490Z"
   },
   {
    "duration": 10,
    "start_time": "2022-10-31T21:54:03.824Z"
   },
   {
    "duration": 5,
    "start_time": "2022-10-31T21:54:18.701Z"
   },
   {
    "duration": 4,
    "start_time": "2022-10-31T21:54:27.235Z"
   },
   {
    "duration": 3,
    "start_time": "2022-10-31T21:56:29.485Z"
   },
   {
    "duration": 4,
    "start_time": "2022-10-31T21:56:37.358Z"
   },
   {
    "duration": 5,
    "start_time": "2022-10-31T21:59:41.599Z"
   },
   {
    "duration": 5,
    "start_time": "2022-10-31T21:59:47.447Z"
   },
   {
    "duration": 5,
    "start_time": "2022-10-31T21:59:49.991Z"
   },
   {
    "duration": 5,
    "start_time": "2022-10-31T21:59:54.645Z"
   },
   {
    "duration": 5,
    "start_time": "2022-10-31T22:04:05.391Z"
   },
   {
    "duration": 10,
    "start_time": "2022-10-31T22:05:59.547Z"
   },
   {
    "duration": 27,
    "start_time": "2022-10-31T22:07:13.082Z"
   },
   {
    "duration": 1989,
    "start_time": "2022-10-31T22:07:13.111Z"
   },
   {
    "duration": 6341,
    "start_time": "2022-10-31T22:07:15.102Z"
   },
   {
    "duration": 3,
    "start_time": "2022-10-31T22:07:21.445Z"
   },
   {
    "duration": 28,
    "start_time": "2022-10-31T22:07:21.450Z"
   },
   {
    "duration": 9,
    "start_time": "2022-10-31T22:07:21.479Z"
   },
   {
    "duration": 4,
    "start_time": "2022-10-31T22:07:21.489Z"
   },
   {
    "duration": 10,
    "start_time": "2022-10-31T22:07:21.494Z"
   },
   {
    "duration": 93,
    "start_time": "2022-10-31T22:07:21.505Z"
   },
   {
    "duration": 5945,
    "start_time": "2022-10-31T22:07:21.599Z"
   },
   {
    "duration": 48,
    "start_time": "2022-10-31T22:07:27.546Z"
   },
   {
    "duration": 60909,
    "start_time": "2022-10-31T22:07:27.596Z"
   },
   {
    "duration": 79,
    "start_time": "2022-10-31T22:08:28.507Z"
   },
   {
    "duration": 905,
    "start_time": "2022-10-31T22:08:28.588Z"
   },
   {
    "duration": 5,
    "start_time": "2022-10-31T22:08:29.495Z"
   },
   {
    "duration": 8,
    "start_time": "2022-10-31T22:08:29.501Z"
   },
   {
    "duration": 5,
    "start_time": "2022-10-31T22:09:19.272Z"
   },
   {
    "duration": 5,
    "start_time": "2022-10-31T22:09:22.392Z"
   },
   {
    "duration": 6,
    "start_time": "2022-10-31T22:09:24.527Z"
   },
   {
    "duration": 5,
    "start_time": "2022-10-31T22:09:27.451Z"
   },
   {
    "duration": 5,
    "start_time": "2022-10-31T22:09:30.404Z"
   },
   {
    "duration": 6,
    "start_time": "2022-10-31T22:09:35.343Z"
   },
   {
    "duration": 5,
    "start_time": "2022-10-31T22:09:37.927Z"
   },
   {
    "duration": 6,
    "start_time": "2022-10-31T22:09:40.157Z"
   },
   {
    "duration": 5,
    "start_time": "2022-10-31T22:09:42.150Z"
   },
   {
    "duration": 5,
    "start_time": "2022-10-31T22:16:19.207Z"
   },
   {
    "duration": 4,
    "start_time": "2022-10-31T22:16:40.972Z"
   },
   {
    "duration": 5,
    "start_time": "2022-10-31T22:16:45.061Z"
   },
   {
    "duration": 5,
    "start_time": "2022-10-31T22:16:49.657Z"
   },
   {
    "duration": 5,
    "start_time": "2022-10-31T22:19:21.929Z"
   },
   {
    "duration": 5,
    "start_time": "2022-10-31T22:19:25.160Z"
   },
   {
    "duration": 5,
    "start_time": "2022-10-31T22:21:17.170Z"
   },
   {
    "duration": 6,
    "start_time": "2022-10-31T22:21:20.354Z"
   },
   {
    "duration": 6,
    "start_time": "2022-10-31T22:21:23.170Z"
   },
   {
    "duration": 6,
    "start_time": "2022-10-31T22:21:28.016Z"
   },
   {
    "duration": 6,
    "start_time": "2022-10-31T22:21:29.845Z"
   },
   {
    "duration": 5,
    "start_time": "2022-10-31T22:23:07.128Z"
   },
   {
    "duration": 5,
    "start_time": "2022-10-31T22:23:19.339Z"
   },
   {
    "duration": 6,
    "start_time": "2022-10-31T22:24:28.685Z"
   },
   {
    "duration": 5,
    "start_time": "2022-10-31T23:02:08.281Z"
   },
   {
    "duration": 6,
    "start_time": "2022-10-31T23:04:45.647Z"
   },
   {
    "duration": 7,
    "start_time": "2022-10-31T23:06:46.579Z"
   },
   {
    "duration": 515,
    "start_time": "2022-11-01T09:19:08.903Z"
   },
   {
    "duration": 14852,
    "start_time": "2022-11-01T09:19:09.421Z"
   },
   {
    "duration": 10270,
    "start_time": "2022-11-01T09:19:24.275Z"
   },
   {
    "duration": 4,
    "start_time": "2022-11-01T09:19:34.548Z"
   },
   {
    "duration": 265,
    "start_time": "2022-11-01T09:19:34.553Z"
   },
   {
    "duration": 6,
    "start_time": "2022-11-01T09:19:34.819Z"
   },
   {
    "duration": 91,
    "start_time": "2022-11-01T09:19:34.827Z"
   },
   {
    "duration": 4,
    "start_time": "2022-11-01T09:19:34.920Z"
   },
   {
    "duration": 107,
    "start_time": "2022-11-01T09:19:34.926Z"
   },
   {
    "duration": 7423,
    "start_time": "2022-11-01T09:19:35.037Z"
   },
   {
    "duration": 42,
    "start_time": "2022-11-01T09:19:42.462Z"
   },
   {
    "duration": 77721,
    "start_time": "2022-11-01T09:19:42.506Z"
   },
   {
    "duration": 116,
    "start_time": "2022-11-01T09:21:00.229Z"
   },
   {
    "duration": 1228,
    "start_time": "2022-11-01T09:21:00.347Z"
   },
   {
    "duration": 8,
    "start_time": "2022-11-01T09:21:01.577Z"
   },
   {
    "duration": 10,
    "start_time": "2022-11-01T09:21:01.587Z"
   },
   {
    "duration": 3,
    "start_time": "2022-11-01T09:55:58.278Z"
   },
   {
    "duration": 73,
    "start_time": "2022-11-01T10:07:18.521Z"
   },
   {
    "duration": 74,
    "start_time": "2022-11-01T10:07:36.593Z"
   },
   {
    "duration": 258,
    "start_time": "2022-11-01T10:08:00.504Z"
   },
   {
    "duration": 72,
    "start_time": "2022-11-01T10:08:12.476Z"
   },
   {
    "duration": 7504,
    "start_time": "2022-11-01T10:09:23.684Z"
   },
   {
    "duration": 37,
    "start_time": "2022-11-01T10:10:43.905Z"
   },
   {
    "duration": 56,
    "start_time": "2022-11-01T10:11:11.888Z"
   },
   {
    "duration": 36,
    "start_time": "2022-11-01T10:11:20.374Z"
   },
   {
    "duration": 66953,
    "start_time": "2022-11-01T10:12:23.416Z"
   },
   {
    "duration": 114,
    "start_time": "2022-11-01T11:47:11.597Z"
   },
   {
    "duration": 1174,
    "start_time": "2022-11-01T11:47:26.099Z"
   },
   {
    "duration": 5,
    "start_time": "2022-11-01T12:10:57.999Z"
   },
   {
    "duration": 6,
    "start_time": "2022-11-01T12:10:59.904Z"
   },
   {
    "duration": 6,
    "start_time": "2022-11-01T12:13:15.092Z"
   },
   {
    "duration": 6,
    "start_time": "2022-11-01T12:13:17.094Z"
   },
   {
    "duration": 6,
    "start_time": "2022-11-01T12:13:20.141Z"
   },
   {
    "duration": 32,
    "start_time": "2022-11-01T12:47:34.412Z"
   },
   {
    "duration": 2643,
    "start_time": "2022-11-01T12:47:34.446Z"
   },
   {
    "duration": 7956,
    "start_time": "2022-11-01T12:47:37.092Z"
   },
   {
    "duration": 4,
    "start_time": "2022-11-01T12:47:45.050Z"
   },
   {
    "duration": 19,
    "start_time": "2022-11-01T12:47:45.057Z"
   },
   {
    "duration": 53,
    "start_time": "2022-11-01T12:47:45.078Z"
   },
   {
    "duration": 25,
    "start_time": "2022-11-01T12:47:45.134Z"
   },
   {
    "duration": 19,
    "start_time": "2022-11-01T12:47:45.161Z"
   },
   {
    "duration": 78,
    "start_time": "2022-11-01T12:47:45.182Z"
   },
   {
    "duration": 7551,
    "start_time": "2022-11-01T12:47:45.262Z"
   },
   {
    "duration": 44,
    "start_time": "2022-11-01T12:47:52.815Z"
   },
   {
    "duration": 66101,
    "start_time": "2022-11-01T12:47:52.862Z"
   },
   {
    "duration": 95,
    "start_time": "2022-11-01T12:48:58.965Z"
   },
   {
    "duration": 1147,
    "start_time": "2022-11-01T12:48:59.062Z"
   },
   {
    "duration": 7,
    "start_time": "2022-11-01T12:49:00.211Z"
   },
   {
    "duration": 87,
    "start_time": "2022-11-01T12:49:00.220Z"
   },
   {
    "duration": 6,
    "start_time": "2022-11-01T12:49:19.646Z"
   },
   {
    "duration": 7,
    "start_time": "2022-11-01T12:49:23.157Z"
   },
   {
    "duration": 7,
    "start_time": "2022-11-01T12:49:25.423Z"
   },
   {
    "duration": 6,
    "start_time": "2022-11-01T12:49:27.999Z"
   },
   {
    "duration": 6,
    "start_time": "2022-11-01T12:49:35.830Z"
   },
   {
    "duration": 5,
    "start_time": "2022-11-01T12:49:38.814Z"
   },
   {
    "duration": 6,
    "start_time": "2022-11-01T12:49:41.132Z"
   },
   {
    "duration": 7,
    "start_time": "2022-11-01T12:49:44.912Z"
   },
   {
    "duration": 6,
    "start_time": "2022-11-01T12:49:47.086Z"
   },
   {
    "duration": 7,
    "start_time": "2022-11-01T12:49:49.647Z"
   },
   {
    "duration": 6,
    "start_time": "2022-11-01T12:49:53.540Z"
   },
   {
    "duration": 6,
    "start_time": "2022-11-01T12:49:55.897Z"
   },
   {
    "duration": 6,
    "start_time": "2022-11-01T12:49:58.678Z"
   },
   {
    "duration": 6,
    "start_time": "2022-11-01T12:50:02.650Z"
   },
   {
    "duration": 5,
    "start_time": "2022-11-01T12:50:05.499Z"
   },
   {
    "duration": 7,
    "start_time": "2022-11-01T12:50:09.425Z"
   },
   {
    "duration": 5,
    "start_time": "2022-11-01T12:50:11.370Z"
   },
   {
    "duration": 535,
    "start_time": "2022-11-01T13:20:27.236Z"
   },
   {
    "duration": 2434,
    "start_time": "2022-11-01T13:20:27.773Z"
   },
   {
    "duration": 9189,
    "start_time": "2022-11-01T13:20:30.209Z"
   },
   {
    "duration": 3,
    "start_time": "2022-11-01T13:20:39.400Z"
   },
   {
    "duration": 675,
    "start_time": "2022-11-01T13:20:39.405Z"
   },
   {
    "duration": 6,
    "start_time": "2022-11-01T13:20:40.083Z"
   },
   {
    "duration": 74,
    "start_time": "2022-11-01T13:20:40.091Z"
   },
   {
    "duration": 3,
    "start_time": "2022-11-01T13:20:40.167Z"
   },
   {
    "duration": 72,
    "start_time": "2022-11-01T13:20:40.176Z"
   },
   {
    "duration": 7189,
    "start_time": "2022-11-01T13:20:40.251Z"
   },
   {
    "duration": 36,
    "start_time": "2022-11-01T13:20:47.442Z"
   },
   {
    "duration": 61349,
    "start_time": "2022-11-01T13:20:47.480Z"
   },
   {
    "duration": 96,
    "start_time": "2022-11-01T13:21:48.830Z"
   },
   {
    "duration": 880,
    "start_time": "2022-11-01T13:21:48.928Z"
   },
   {
    "duration": 6,
    "start_time": "2022-11-01T13:21:49.809Z"
   },
   {
    "duration": 21,
    "start_time": "2022-11-01T13:21:49.816Z"
   },
   {
    "duration": 75,
    "start_time": "2022-11-01T13:51:51.564Z"
   },
   {
    "duration": 83,
    "start_time": "2022-11-01T13:52:09.479Z"
   },
   {
    "duration": 7645,
    "start_time": "2022-11-01T13:56:22.851Z"
   },
   {
    "duration": 4,
    "start_time": "2022-11-01T13:58:00.894Z"
   },
   {
    "duration": 4,
    "start_time": "2022-11-01T14:00:19.432Z"
   },
   {
    "duration": 2,
    "start_time": "2022-11-01T14:03:49.814Z"
   },
   {
    "duration": 2647,
    "start_time": "2022-11-01T14:03:49.822Z"
   },
   {
    "duration": 4,
    "start_time": "2022-11-01T14:03:52.472Z"
   },
   {
    "duration": 45,
    "start_time": "2022-11-01T14:03:52.478Z"
   },
   {
    "duration": 7845,
    "start_time": "2022-11-01T14:03:52.525Z"
   },
   {
    "duration": 4,
    "start_time": "2022-11-01T14:04:00.372Z"
   },
   {
    "duration": 48,
    "start_time": "2022-11-01T14:04:00.377Z"
   },
   {
    "duration": 9,
    "start_time": "2022-11-01T14:04:00.427Z"
   },
   {
    "duration": 101,
    "start_time": "2022-11-01T14:04:00.438Z"
   },
   {
    "duration": 7556,
    "start_time": "2022-11-01T14:04:00.541Z"
   },
   {
    "duration": 45,
    "start_time": "2022-11-01T14:04:08.100Z"
   },
   {
    "duration": 70064,
    "start_time": "2022-11-01T14:04:08.147Z"
   },
   {
    "duration": 113,
    "start_time": "2022-11-01T14:05:18.213Z"
   },
   {
    "duration": 1111,
    "start_time": "2022-11-01T14:05:18.327Z"
   },
   {
    "duration": 7,
    "start_time": "2022-11-01T14:05:19.440Z"
   },
   {
    "duration": 7,
    "start_time": "2022-11-01T14:05:19.449Z"
   },
   {
    "duration": 15,
    "start_time": "2022-11-01T14:49:25.157Z"
   },
   {
    "duration": 5,
    "start_time": "2022-11-01T14:49:39.084Z"
   },
   {
    "duration": 9,
    "start_time": "2022-11-01T14:49:42.817Z"
   },
   {
    "duration": 6,
    "start_time": "2022-11-01T14:49:44.148Z"
   },
   {
    "duration": 67,
    "start_time": "2022-11-01T14:49:53.736Z"
   },
   {
    "duration": 6378,
    "start_time": "2022-11-01T14:50:03.062Z"
   },
   {
    "duration": 28,
    "start_time": "2022-11-01T14:50:23.454Z"
   },
   {
    "duration": 63832,
    "start_time": "2022-11-01T14:50:44.716Z"
   },
   {
    "duration": 84,
    "start_time": "2022-11-01T14:53:32.111Z"
   },
   {
    "duration": 935,
    "start_time": "2022-11-01T14:53:36.125Z"
   },
   {
    "duration": 4,
    "start_time": "2022-11-01T14:54:03.196Z"
   },
   {
    "duration": 7,
    "start_time": "2022-11-01T14:54:11.471Z"
   },
   {
    "duration": 10,
    "start_time": "2022-11-01T14:54:12.023Z"
   },
   {
    "duration": 78,
    "start_time": "2022-11-01T14:54:16.335Z"
   },
   {
    "duration": 6014,
    "start_time": "2022-11-01T14:54:26.743Z"
   },
   {
    "duration": 21,
    "start_time": "2022-11-01T14:54:51.280Z"
   },
   {
    "duration": 62420,
    "start_time": "2022-11-01T14:54:56.323Z"
   },
   {
    "duration": 73,
    "start_time": "2022-11-01T14:56:13.564Z"
   },
   {
    "duration": 921,
    "start_time": "2022-11-01T14:56:26.554Z"
   },
   {
    "duration": 2,
    "start_time": "2022-11-01T15:02:38.834Z"
   },
   {
    "duration": 2535,
    "start_time": "2022-11-01T15:02:38.838Z"
   },
   {
    "duration": 4,
    "start_time": "2022-11-01T15:02:41.375Z"
   },
   {
    "duration": 37,
    "start_time": "2022-11-01T15:02:41.381Z"
   },
   {
    "duration": 7918,
    "start_time": "2022-11-01T15:02:41.421Z"
   },
   {
    "duration": 4,
    "start_time": "2022-11-01T15:02:49.341Z"
   },
   {
    "duration": 22,
    "start_time": "2022-11-01T15:02:49.347Z"
   },
   {
    "duration": 11,
    "start_time": "2022-11-01T15:02:49.371Z"
   },
   {
    "duration": 112,
    "start_time": "2022-11-01T15:02:49.423Z"
   },
   {
    "duration": 7507,
    "start_time": "2022-11-01T15:02:49.537Z"
   },
   {
    "duration": 33,
    "start_time": "2022-11-01T15:02:57.047Z"
   },
   {
    "duration": 66003,
    "start_time": "2022-11-01T15:02:57.082Z"
   },
   {
    "duration": 106,
    "start_time": "2022-11-01T15:04:03.087Z"
   },
   {
    "duration": 1069,
    "start_time": "2022-11-01T15:04:03.195Z"
   },
   {
    "duration": 6,
    "start_time": "2022-11-01T15:04:04.266Z"
   },
   {
    "duration": 53,
    "start_time": "2022-11-01T15:04:04.274Z"
   },
   {
    "duration": 4,
    "start_time": "2022-11-01T15:13:09.652Z"
   },
   {
    "duration": 7,
    "start_time": "2022-11-01T15:13:11.070Z"
   },
   {
    "duration": 7,
    "start_time": "2022-11-01T15:13:12.514Z"
   },
   {
    "duration": 68,
    "start_time": "2022-11-01T15:13:20.157Z"
   },
   {
    "duration": 6272,
    "start_time": "2022-11-01T15:13:30.037Z"
   },
   {
    "duration": 24,
    "start_time": "2022-11-01T15:13:58.926Z"
   },
   {
    "duration": 69520,
    "start_time": "2022-11-01T15:14:06.818Z"
   },
   {
    "duration": 149,
    "start_time": "2022-11-01T15:16:25.346Z"
   },
   {
    "duration": 847,
    "start_time": "2022-11-01T15:17:22.085Z"
   },
   {
    "duration": 4,
    "start_time": "2022-11-01T15:18:55.880Z"
   },
   {
    "duration": 6,
    "start_time": "2022-11-01T15:18:56.582Z"
   },
   {
    "duration": 6,
    "start_time": "2022-11-01T15:18:57.083Z"
   },
   {
    "duration": 64,
    "start_time": "2022-11-01T15:19:03.749Z"
   },
   {
    "duration": 5916,
    "start_time": "2022-11-01T15:19:11.272Z"
   },
   {
    "duration": 26,
    "start_time": "2022-11-01T15:19:26.159Z"
   },
   {
    "duration": 73824,
    "start_time": "2022-11-01T15:19:30.872Z"
   },
   {
    "duration": 74,
    "start_time": "2022-11-01T15:21:58.836Z"
   },
   {
    "duration": 900,
    "start_time": "2022-11-01T15:22:41.691Z"
   },
   {
    "duration": 4,
    "start_time": "2022-11-01T15:25:46.899Z"
   },
   {
    "duration": 6,
    "start_time": "2022-11-01T15:25:56.395Z"
   },
   {
    "duration": 6,
    "start_time": "2022-11-01T15:25:57.499Z"
   },
   {
    "duration": 73,
    "start_time": "2022-11-01T15:26:03.095Z"
   },
   {
    "duration": 7496,
    "start_time": "2022-11-01T15:26:13.350Z"
   },
   {
    "duration": 36,
    "start_time": "2022-11-01T15:26:29.008Z"
   },
   {
    "duration": 67537,
    "start_time": "2022-11-01T15:26:34.039Z"
   },
   {
    "duration": 105,
    "start_time": "2022-11-01T15:28:00.263Z"
   },
   {
    "duration": 1119,
    "start_time": "2022-11-01T15:28:02.874Z"
   },
   {
    "duration": 14,
    "start_time": "2022-11-01T15:29:14.713Z"
   },
   {
    "duration": 69,
    "start_time": "2022-11-01T15:29:35.728Z"
   },
   {
    "duration": 4,
    "start_time": "2022-11-01T15:29:40.412Z"
   },
   {
    "duration": 5,
    "start_time": "2022-11-01T15:29:55.941Z"
   },
   {
    "duration": 3,
    "start_time": "2022-11-01T15:35:44.927Z"
   },
   {
    "duration": 3,
    "start_time": "2022-11-01T15:37:36.972Z"
   },
   {
    "duration": 3,
    "start_time": "2022-11-01T15:37:56.669Z"
   },
   {
    "duration": 4,
    "start_time": "2022-11-01T15:39:32.649Z"
   },
   {
    "duration": 5,
    "start_time": "2022-11-01T15:41:05.965Z"
   },
   {
    "duration": 5,
    "start_time": "2022-11-01T15:42:25.256Z"
   },
   {
    "duration": 4,
    "start_time": "2022-11-01T15:43:04.521Z"
   },
   {
    "duration": 74,
    "start_time": "2022-11-01T15:50:53.406Z"
   },
   {
    "duration": 76,
    "start_time": "2022-11-01T15:51:37.344Z"
   },
   {
    "duration": 7357,
    "start_time": "2022-11-01T15:53:13.304Z"
   },
   {
    "duration": 68719,
    "start_time": "2022-11-01T15:54:37.936Z"
   },
   {
    "duration": 3,
    "start_time": "2022-11-01T15:57:22.350Z"
   },
   {
    "duration": 2626,
    "start_time": "2022-11-01T15:57:22.361Z"
   },
   {
    "duration": 4,
    "start_time": "2022-11-01T15:57:24.990Z"
   },
   {
    "duration": 41,
    "start_time": "2022-11-01T15:57:24.996Z"
   },
   {
    "duration": 8113,
    "start_time": "2022-11-01T15:57:25.039Z"
   },
   {
    "duration": 5,
    "start_time": "2022-11-01T15:57:33.154Z"
   },
   {
    "duration": 9,
    "start_time": "2022-11-01T15:57:33.160Z"
   },
   {
    "duration": 7,
    "start_time": "2022-11-01T15:57:33.171Z"
   },
   {
    "duration": 49,
    "start_time": "2022-11-01T15:57:33.180Z"
   },
   {
    "duration": 106,
    "start_time": "2022-11-01T15:57:33.231Z"
   },
   {
    "duration": 7542,
    "start_time": "2022-11-01T15:57:33.339Z"
   },
   {
    "duration": 45,
    "start_time": "2022-11-01T15:57:40.883Z"
   },
   {
    "duration": 67776,
    "start_time": "2022-11-01T15:57:40.929Z"
   },
   {
    "duration": 17,
    "start_time": "2022-11-01T15:58:48.708Z"
   },
   {
    "duration": 17,
    "start_time": "2022-11-01T15:58:48.727Z"
   },
   {
    "duration": 29,
    "start_time": "2022-11-01T15:58:48.747Z"
   },
   {
    "duration": 17,
    "start_time": "2022-11-01T15:58:48.778Z"
   },
   {
    "duration": 11,
    "start_time": "2022-11-01T15:59:32.533Z"
   },
   {
    "duration": 5,
    "start_time": "2022-11-01T15:59:35.931Z"
   },
   {
    "duration": 11,
    "start_time": "2022-11-01T16:11:04.059Z"
   },
   {
    "duration": 75,
    "start_time": "2022-11-01T16:12:12.175Z"
   },
   {
    "duration": 11,
    "start_time": "2022-11-01T16:13:47.558Z"
   },
   {
    "duration": 9,
    "start_time": "2022-11-01T16:13:54.164Z"
   },
   {
    "duration": 10,
    "start_time": "2022-11-01T16:13:59.683Z"
   },
   {
    "duration": 11,
    "start_time": "2022-11-01T16:14:05.064Z"
   },
   {
    "duration": 15,
    "start_time": "2022-11-01T16:14:11.616Z"
   },
   {
    "duration": 13,
    "start_time": "2022-11-01T16:14:32.070Z"
   },
   {
    "duration": 14,
    "start_time": "2022-11-01T16:14:37.308Z"
   },
   {
    "duration": 15,
    "start_time": "2022-11-01T16:14:42.807Z"
   },
   {
    "duration": 14,
    "start_time": "2022-11-01T16:14:47.211Z"
   },
   {
    "duration": 15,
    "start_time": "2022-11-01T16:14:56.669Z"
   },
   {
    "duration": 17,
    "start_time": "2022-11-01T16:15:09.164Z"
   },
   {
    "duration": 10,
    "start_time": "2022-11-01T16:15:20.538Z"
   },
   {
    "duration": 13,
    "start_time": "2022-11-01T16:15:26.710Z"
   },
   {
    "duration": 13,
    "start_time": "2022-11-01T16:15:33.021Z"
   },
   {
    "duration": 14,
    "start_time": "2022-11-01T16:15:40.162Z"
   },
   {
    "duration": 14,
    "start_time": "2022-11-01T16:15:45.321Z"
   },
   {
    "duration": 15,
    "start_time": "2022-11-01T16:15:50.202Z"
   },
   {
    "duration": 14,
    "start_time": "2022-11-01T16:15:56.363Z"
   },
   {
    "duration": 17,
    "start_time": "2022-11-01T16:16:01.156Z"
   },
   {
    "duration": 16,
    "start_time": "2022-11-01T16:16:07.444Z"
   },
   {
    "duration": 13,
    "start_time": "2022-11-01T16:16:13.760Z"
   },
   {
    "duration": 3,
    "start_time": "2022-11-01T16:48:29.721Z"
   },
   {
    "duration": 6,
    "start_time": "2022-11-01T16:49:05.372Z"
   },
   {
    "duration": 3,
    "start_time": "2022-11-01T16:50:34.121Z"
   },
   {
    "duration": 126,
    "start_time": "2022-11-01T16:50:53.321Z"
   },
   {
    "duration": 5,
    "start_time": "2022-11-01T16:51:36.744Z"
   },
   {
    "duration": 1219,
    "start_time": "2022-11-01T16:52:16.252Z"
   },
   {
    "duration": 423,
    "start_time": "2022-11-01T19:29:44.084Z"
   },
   {
    "duration": 14604,
    "start_time": "2022-11-01T19:29:44.509Z"
   },
   {
    "duration": 273,
    "start_time": "2022-11-01T19:29:59.115Z"
   },
   {
    "duration": 110,
    "start_time": "2022-11-01T19:29:59.390Z"
   },
   {
    "duration": 7988,
    "start_time": "2022-11-01T19:29:59.502Z"
   },
   {
    "duration": 4,
    "start_time": "2022-11-01T19:30:07.492Z"
   },
   {
    "duration": 18,
    "start_time": "2022-11-01T19:30:07.497Z"
   },
   {
    "duration": 6,
    "start_time": "2022-11-01T19:30:07.534Z"
   },
   {
    "duration": 8,
    "start_time": "2022-11-01T19:30:07.542Z"
   },
   {
    "duration": 101,
    "start_time": "2022-11-01T19:30:07.553Z"
   },
   {
    "duration": 7088,
    "start_time": "2022-11-01T19:30:07.656Z"
   },
   {
    "duration": 35,
    "start_time": "2022-11-01T19:30:14.746Z"
   },
   {
    "duration": 54017,
    "start_time": "2022-11-01T19:30:14.783Z"
   },
   {
    "duration": 11,
    "start_time": "2022-11-01T19:31:08.802Z"
   },
   {
    "duration": 5,
    "start_time": "2022-11-01T19:31:08.814Z"
   },
   {
    "duration": 12,
    "start_time": "2022-11-01T19:31:08.821Z"
   },
   {
    "duration": 6,
    "start_time": "2022-11-01T19:31:08.835Z"
   },
   {
    "duration": 107,
    "start_time": "2022-11-01T19:31:08.843Z"
   },
   {
    "duration": 951,
    "start_time": "2022-11-01T19:31:08.952Z"
   },
   {
    "duration": 6,
    "start_time": "2022-11-01T19:31:09.904Z"
   },
   {
    "duration": 8,
    "start_time": "2022-11-01T19:31:09.911Z"
   },
   {
    "duration": 3,
    "start_time": "2022-11-01T19:41:30.431Z"
   },
   {
    "duration": 2,
    "start_time": "2022-11-01T19:42:25.462Z"
   },
   {
    "duration": 7448,
    "start_time": "2022-11-01T19:43:09.045Z"
   },
   {
    "duration": 6,
    "start_time": "2022-11-01T19:46:18.433Z"
   },
   {
    "duration": 5,
    "start_time": "2022-11-01T19:46:26.942Z"
   },
   {
    "duration": 7410,
    "start_time": "2022-11-01T19:46:52.126Z"
   },
   {
    "duration": 7350,
    "start_time": "2022-11-01T19:48:49.483Z"
   },
   {
    "duration": 7324,
    "start_time": "2022-11-01T19:49:52.152Z"
   },
   {
    "duration": 3,
    "start_time": "2022-11-01T19:51:48.782Z"
   },
   {
    "duration": 2354,
    "start_time": "2022-11-01T19:51:48.790Z"
   },
   {
    "duration": 5,
    "start_time": "2022-11-01T19:51:51.147Z"
   },
   {
    "duration": 5,
    "start_time": "2022-11-01T19:51:51.154Z"
   },
   {
    "duration": 58,
    "start_time": "2022-11-01T19:51:51.162Z"
   },
   {
    "duration": 7235,
    "start_time": "2022-11-01T19:51:51.222Z"
   },
   {
    "duration": 5,
    "start_time": "2022-11-01T19:51:58.458Z"
   },
   {
    "duration": 10,
    "start_time": "2022-11-01T19:51:58.465Z"
   },
   {
    "duration": 7,
    "start_time": "2022-11-01T19:51:58.478Z"
   },
   {
    "duration": 48,
    "start_time": "2022-11-01T19:51:58.486Z"
   },
   {
    "duration": 102,
    "start_time": "2022-11-01T19:51:58.537Z"
   },
   {
    "duration": 7028,
    "start_time": "2022-11-01T19:51:58.640Z"
   },
   {
    "duration": 35,
    "start_time": "2022-11-01T19:52:05.670Z"
   },
   {
    "duration": 52292,
    "start_time": "2022-11-01T19:52:05.708Z"
   },
   {
    "duration": 11,
    "start_time": "2022-11-01T19:52:58.002Z"
   },
   {
    "duration": 5,
    "start_time": "2022-11-01T19:52:58.015Z"
   },
   {
    "duration": 5,
    "start_time": "2022-11-01T19:52:58.021Z"
   },
   {
    "duration": 15,
    "start_time": "2022-11-01T19:52:58.028Z"
   },
   {
    "duration": 116,
    "start_time": "2022-11-01T19:52:58.044Z"
   },
   {
    "duration": 909,
    "start_time": "2022-11-01T19:52:58.161Z"
   },
   {
    "duration": 5,
    "start_time": "2022-11-01T19:52:59.072Z"
   },
   {
    "duration": 7,
    "start_time": "2022-11-01T19:52:59.079Z"
   },
   {
    "duration": 4,
    "start_time": "2022-11-01T19:53:06.326Z"
   },
   {
    "duration": 2487,
    "start_time": "2022-11-01T19:53:06.335Z"
   },
   {
    "duration": 4,
    "start_time": "2022-11-01T19:53:08.825Z"
   },
   {
    "duration": 9,
    "start_time": "2022-11-01T19:53:08.831Z"
   },
   {
    "duration": 35,
    "start_time": "2022-11-01T19:53:08.843Z"
   },
   {
    "duration": 8125,
    "start_time": "2022-11-01T19:53:08.880Z"
   },
   {
    "duration": 5,
    "start_time": "2022-11-01T19:53:17.008Z"
   },
   {
    "duration": 8,
    "start_time": "2022-11-01T19:53:17.034Z"
   },
   {
    "duration": 7,
    "start_time": "2022-11-01T19:53:17.044Z"
   },
   {
    "duration": 5,
    "start_time": "2022-11-01T19:53:17.054Z"
   },
   {
    "duration": 121,
    "start_time": "2022-11-01T19:53:17.063Z"
   },
   {
    "duration": 7149,
    "start_time": "2022-11-01T19:53:17.185Z"
   },
   {
    "duration": 37,
    "start_time": "2022-11-01T19:53:24.336Z"
   },
   {
    "duration": 54828,
    "start_time": "2022-11-01T19:53:24.375Z"
   },
   {
    "duration": 12,
    "start_time": "2022-11-01T19:54:19.205Z"
   },
   {
    "duration": 5,
    "start_time": "2022-11-01T19:54:19.219Z"
   },
   {
    "duration": 5,
    "start_time": "2022-11-01T19:54:19.226Z"
   },
   {
    "duration": 4,
    "start_time": "2022-11-01T19:54:19.233Z"
   },
   {
    "duration": 122,
    "start_time": "2022-11-01T19:54:19.239Z"
   },
   {
    "duration": 876,
    "start_time": "2022-11-01T19:54:19.362Z"
   },
   {
    "duration": 6,
    "start_time": "2022-11-01T19:54:20.240Z"
   },
   {
    "duration": 13,
    "start_time": "2022-11-01T19:54:20.248Z"
   },
   {
    "duration": 2526,
    "start_time": "2022-11-01T19:55:00.689Z"
   },
   {
    "duration": 3,
    "start_time": "2022-11-01T19:55:21.237Z"
   },
   {
    "duration": 2389,
    "start_time": "2022-11-01T19:55:21.242Z"
   },
   {
    "duration": 4,
    "start_time": "2022-11-01T19:55:23.633Z"
   },
   {
    "duration": 9,
    "start_time": "2022-11-01T19:55:23.638Z"
   },
   {
    "duration": 32,
    "start_time": "2022-11-01T19:55:23.649Z"
   },
   {
    "duration": 7370,
    "start_time": "2022-11-01T19:55:23.682Z"
   },
   {
    "duration": 4,
    "start_time": "2022-11-01T19:55:31.054Z"
   },
   {
    "duration": 18,
    "start_time": "2022-11-01T19:55:31.060Z"
   },
   {
    "duration": 54,
    "start_time": "2022-11-01T19:55:31.081Z"
   },
   {
    "duration": 5,
    "start_time": "2022-11-01T19:55:31.138Z"
   },
   {
    "duration": 140,
    "start_time": "2022-11-01T19:55:31.147Z"
   },
   {
    "duration": 7038,
    "start_time": "2022-11-01T19:55:31.289Z"
   },
   {
    "duration": 33,
    "start_time": "2022-11-01T19:55:38.329Z"
   },
   {
    "duration": 15217,
    "start_time": "2022-11-01T19:55:38.363Z"
   },
   {
    "duration": 0,
    "start_time": "2022-11-01T19:55:53.582Z"
   },
   {
    "duration": 0,
    "start_time": "2022-11-01T19:55:53.583Z"
   },
   {
    "duration": 0,
    "start_time": "2022-11-01T19:55:53.585Z"
   },
   {
    "duration": 0,
    "start_time": "2022-11-01T19:55:53.586Z"
   },
   {
    "duration": 0,
    "start_time": "2022-11-01T19:55:53.587Z"
   },
   {
    "duration": 0,
    "start_time": "2022-11-01T19:55:53.588Z"
   },
   {
    "duration": 0,
    "start_time": "2022-11-01T19:55:53.589Z"
   },
   {
    "duration": 0,
    "start_time": "2022-11-01T19:55:53.590Z"
   },
   {
    "duration": 0,
    "start_time": "2022-11-01T19:55:53.593Z"
   },
   {
    "duration": 4,
    "start_time": "2022-11-01T19:55:57.067Z"
   },
   {
    "duration": 2422,
    "start_time": "2022-11-01T19:55:57.075Z"
   },
   {
    "duration": 4,
    "start_time": "2022-11-01T19:55:59.500Z"
   },
   {
    "duration": 8,
    "start_time": "2022-11-01T19:55:59.506Z"
   },
   {
    "duration": 34,
    "start_time": "2022-11-01T19:55:59.517Z"
   },
   {
    "duration": 7372,
    "start_time": "2022-11-01T19:55:59.552Z"
   },
   {
    "duration": 3,
    "start_time": "2022-11-01T19:56:06.933Z"
   },
   {
    "duration": 12,
    "start_time": "2022-11-01T19:56:06.938Z"
   },
   {
    "duration": 6,
    "start_time": "2022-11-01T19:56:06.951Z"
   },
   {
    "duration": 6,
    "start_time": "2022-11-01T19:56:06.958Z"
   },
   {
    "duration": 111,
    "start_time": "2022-11-01T19:56:06.967Z"
   },
   {
    "duration": 7068,
    "start_time": "2022-11-01T19:56:07.080Z"
   },
   {
    "duration": 36,
    "start_time": "2022-11-01T19:56:14.150Z"
   },
   {
    "duration": 50330,
    "start_time": "2022-11-01T19:56:14.188Z"
   },
   {
    "duration": 12,
    "start_time": "2022-11-01T19:57:04.520Z"
   },
   {
    "duration": 5,
    "start_time": "2022-11-01T19:57:04.534Z"
   },
   {
    "duration": 27,
    "start_time": "2022-11-01T19:57:04.541Z"
   },
   {
    "duration": 15,
    "start_time": "2022-11-01T19:57:04.570Z"
   },
   {
    "duration": 117,
    "start_time": "2022-11-01T19:57:04.586Z"
   },
   {
    "duration": 1005,
    "start_time": "2022-11-01T19:57:04.704Z"
   },
   {
    "duration": 6,
    "start_time": "2022-11-01T19:57:05.710Z"
   },
   {
    "duration": 31,
    "start_time": "2022-11-01T19:57:05.718Z"
   },
   {
    "duration": 7038,
    "start_time": "2022-11-01T19:57:45.056Z"
   },
   {
    "duration": 6,
    "start_time": "2022-11-01T19:58:23.162Z"
   },
   {
    "duration": 7,
    "start_time": "2022-11-01T19:58:38.758Z"
   },
   {
    "duration": 6888,
    "start_time": "2022-11-01T19:58:48.874Z"
   },
   {
    "duration": 6951,
    "start_time": "2022-11-01T20:00:50.152Z"
   },
   {
    "duration": 6891,
    "start_time": "2022-11-01T20:01:01.217Z"
   },
   {
    "duration": 6934,
    "start_time": "2022-11-01T20:01:23.147Z"
   },
   {
    "duration": 57046,
    "start_time": "2022-11-01T20:02:03.235Z"
   },
   {
    "duration": 1067,
    "start_time": "2022-11-01T20:04:09.853Z"
   },
   {
    "duration": 1210,
    "start_time": "2022-11-01T20:04:24.787Z"
   },
   {
    "duration": 3,
    "start_time": "2022-11-01T20:09:47.212Z"
   },
   {
    "duration": 6996,
    "start_time": "2022-11-01T20:10:03.996Z"
   },
   {
    "duration": 6803,
    "start_time": "2022-11-01T20:10:27.774Z"
   },
   {
    "duration": 57087,
    "start_time": "2022-11-01T20:16:36.226Z"
   },
   {
    "duration": 41,
    "start_time": "2022-11-01T20:17:33.318Z"
   },
   {
    "duration": 70,
    "start_time": "2022-11-01T20:17:45.232Z"
   },
   {
    "duration": 66,
    "start_time": "2022-11-01T20:17:58.947Z"
   },
   {
    "duration": 7223,
    "start_time": "2022-11-01T20:18:21.508Z"
   },
   {
    "duration": 56522,
    "start_time": "2022-11-01T20:18:50.957Z"
   },
   {
    "duration": 53554,
    "start_time": "2022-11-01T20:20:10.170Z"
   },
   {
    "duration": 52597,
    "start_time": "2022-11-01T20:21:24.618Z"
   },
   {
    "duration": 6965,
    "start_time": "2022-11-01T20:45:48.182Z"
   },
   {
    "duration": 7183,
    "start_time": "2022-11-01T20:46:27.150Z"
   },
   {
    "duration": 390,
    "start_time": "2022-11-02T09:47:22.299Z"
   },
   {
    "duration": 16128,
    "start_time": "2022-11-02T09:47:22.691Z"
   },
   {
    "duration": 282,
    "start_time": "2022-11-02T09:47:38.821Z"
   },
   {
    "duration": 3,
    "start_time": "2022-11-02T09:47:39.106Z"
   },
   {
    "duration": 121,
    "start_time": "2022-11-02T09:47:39.110Z"
   },
   {
    "duration": 7996,
    "start_time": "2022-11-02T09:47:39.233Z"
   },
   {
    "duration": 3,
    "start_time": "2022-11-02T09:47:47.232Z"
   },
   {
    "duration": 18,
    "start_time": "2022-11-02T09:47:47.237Z"
   },
   {
    "duration": 20,
    "start_time": "2022-11-02T09:47:47.257Z"
   },
   {
    "duration": 11,
    "start_time": "2022-11-02T09:47:47.279Z"
   },
   {
    "duration": 68,
    "start_time": "2022-11-02T09:47:47.292Z"
   },
   {
    "duration": 6964,
    "start_time": "2022-11-02T09:47:47.377Z"
   },
   {
    "duration": 49,
    "start_time": "2022-11-02T09:47:54.342Z"
   },
   {
    "duration": 59781,
    "start_time": "2022-11-02T09:47:54.393Z"
   },
   {
    "duration": 12,
    "start_time": "2022-11-02T09:48:54.176Z"
   },
   {
    "duration": 11,
    "start_time": "2022-11-02T09:48:54.189Z"
   },
   {
    "duration": 14,
    "start_time": "2022-11-02T09:48:54.202Z"
   },
   {
    "duration": 7,
    "start_time": "2022-11-02T09:48:54.218Z"
   },
   {
    "duration": 110,
    "start_time": "2022-11-02T09:48:54.227Z"
   },
   {
    "duration": 932,
    "start_time": "2022-11-02T09:48:54.339Z"
   },
   {
    "duration": 7,
    "start_time": "2022-11-02T09:48:55.273Z"
   },
   {
    "duration": 14,
    "start_time": "2022-11-02T09:48:55.282Z"
   },
   {
    "duration": 3,
    "start_time": "2022-11-02T09:49:33.935Z"
   },
   {
    "duration": 6,
    "start_time": "2022-11-02T09:50:06.518Z"
   },
   {
    "duration": 81,
    "start_time": "2022-11-02T10:29:53.977Z"
   },
   {
    "duration": 6,
    "start_time": "2022-11-02T10:30:06.148Z"
   },
   {
    "duration": 78,
    "start_time": "2022-11-02T10:30:24.014Z"
   },
   {
    "duration": 9,
    "start_time": "2022-11-02T10:30:25.993Z"
   },
   {
    "duration": 93,
    "start_time": "2022-11-02T10:46:14.973Z"
   },
   {
    "duration": 47,
    "start_time": "2022-11-02T10:46:29.649Z"
   },
   {
    "duration": 9,
    "start_time": "2022-11-02T10:46:34.584Z"
   },
   {
    "duration": 90,
    "start_time": "2022-11-02T10:48:04.752Z"
   },
   {
    "duration": 8,
    "start_time": "2022-11-02T10:48:06.260Z"
   },
   {
    "duration": 84,
    "start_time": "2022-11-02T10:49:27.401Z"
   },
   {
    "duration": 8,
    "start_time": "2022-11-02T10:49:28.721Z"
   },
   {
    "duration": 3,
    "start_time": "2022-11-02T10:59:39.472Z"
   },
   {
    "duration": 8,
    "start_time": "2022-11-02T11:02:24.093Z"
   },
   {
    "duration": 147,
    "start_time": "2022-11-02T11:03:25.647Z"
   },
   {
    "duration": 156,
    "start_time": "2022-11-02T11:04:56.436Z"
   },
   {
    "duration": 163,
    "start_time": "2022-11-02T11:07:12.428Z"
   },
   {
    "duration": 156,
    "start_time": "2022-11-02T11:07:43.491Z"
   },
   {
    "duration": 167,
    "start_time": "2022-11-02T11:08:32.283Z"
   },
   {
    "duration": 7115,
    "start_time": "2022-11-02T11:15:08.898Z"
   },
   {
    "duration": 12,
    "start_time": "2022-11-02T11:15:27.045Z"
   },
   {
    "duration": 68662,
    "start_time": "2022-11-02T11:17:28.565Z"
   },
   {
    "duration": 57367,
    "start_time": "2022-11-02T11:22:07.155Z"
   },
   {
    "duration": 17,
    "start_time": "2022-11-02T11:23:55.691Z"
   },
   {
    "duration": 216,
    "start_time": "2022-11-02T11:34:46.748Z"
   },
   {
    "duration": 322,
    "start_time": "2022-11-02T11:35:54.173Z"
   },
   {
    "duration": 198,
    "start_time": "2022-11-02T11:36:05.936Z"
   },
   {
    "duration": 184,
    "start_time": "2022-11-02T11:40:05.917Z"
   },
   {
    "duration": 168,
    "start_time": "2022-11-02T11:41:50.989Z"
   },
   {
    "duration": 16,
    "start_time": "2022-11-02T11:43:27.445Z"
   },
   {
    "duration": 15,
    "start_time": "2022-11-02T11:44:21.059Z"
   },
   {
    "duration": 159,
    "start_time": "2022-11-02T11:44:57.958Z"
   },
   {
    "duration": 165,
    "start_time": "2022-11-02T11:46:01.829Z"
   },
   {
    "duration": 162,
    "start_time": "2022-11-02T11:48:39.037Z"
   },
   {
    "duration": 142,
    "start_time": "2022-11-02T11:48:57.289Z"
   },
   {
    "duration": 170,
    "start_time": "2022-11-02T11:49:05.610Z"
   },
   {
    "duration": 149,
    "start_time": "2022-11-02T11:49:34.366Z"
   },
   {
    "duration": 154,
    "start_time": "2022-11-02T11:49:49.455Z"
   },
   {
    "duration": 7511,
    "start_time": "2022-11-02T11:50:43.311Z"
   },
   {
    "duration": 165,
    "start_time": "2022-11-02T11:51:00.266Z"
   },
   {
    "duration": 13,
    "start_time": "2022-11-02T11:51:25.665Z"
   },
   {
    "duration": 161,
    "start_time": "2022-11-02T11:53:26.585Z"
   },
   {
    "duration": 176,
    "start_time": "2022-11-02T11:55:46.388Z"
   },
   {
    "duration": 149,
    "start_time": "2022-11-02T11:56:26.624Z"
   },
   {
    "duration": 169,
    "start_time": "2022-11-02T11:56:32.014Z"
   },
   {
    "duration": 7087,
    "start_time": "2022-11-02T11:59:05.845Z"
   },
   {
    "duration": 63219,
    "start_time": "2022-11-02T11:59:47.001Z"
   },
   {
    "duration": 11,
    "start_time": "2022-11-02T12:01:39.458Z"
   },
   {
    "duration": 5,
    "start_time": "2022-11-02T12:01:41.071Z"
   },
   {
    "duration": 163,
    "start_time": "2022-11-02T12:02:04.654Z"
   },
   {
    "duration": 160,
    "start_time": "2022-11-02T12:02:36.125Z"
   },
   {
    "duration": 3,
    "start_time": "2022-11-02T12:16:39.001Z"
   },
   {
    "duration": 55,
    "start_time": "2022-11-02T12:30:44.666Z"
   },
   {
    "duration": 54,
    "start_time": "2022-11-02T12:37:27.302Z"
   },
   {
    "duration": 54,
    "start_time": "2022-11-02T12:38:47.693Z"
   },
   {
    "duration": 52,
    "start_time": "2022-11-02T12:38:55.241Z"
   },
   {
    "duration": 458,
    "start_time": "2022-11-02T12:39:15.856Z"
   },
   {
    "duration": 519,
    "start_time": "2022-11-02T12:40:08.870Z"
   },
   {
    "duration": 488,
    "start_time": "2022-11-02T12:40:35.964Z"
   },
   {
    "duration": 470,
    "start_time": "2022-11-02T12:42:15.488Z"
   },
   {
    "duration": 480,
    "start_time": "2022-11-02T12:44:57.049Z"
   },
   {
    "duration": 17,
    "start_time": "2022-11-02T12:46:33.241Z"
   },
   {
    "duration": 19,
    "start_time": "2022-11-02T12:48:07.522Z"
   },
   {
    "duration": 487,
    "start_time": "2022-11-02T12:49:24.094Z"
   },
   {
    "duration": 518,
    "start_time": "2022-11-02T12:50:25.190Z"
   },
   {
    "duration": 16,
    "start_time": "2022-11-02T12:51:24.097Z"
   },
   {
    "duration": 496,
    "start_time": "2022-11-02T12:51:32.290Z"
   },
   {
    "duration": 597,
    "start_time": "2022-11-02T12:51:53.694Z"
   },
   {
    "duration": 575,
    "start_time": "2022-11-02T12:52:18.816Z"
   },
   {
    "duration": 561,
    "start_time": "2022-11-02T12:53:30.001Z"
   },
   {
    "duration": 571,
    "start_time": "2022-11-02T12:53:41.259Z"
   },
   {
    "duration": 563,
    "start_time": "2022-11-02T12:54:16.139Z"
   },
   {
    "duration": 596,
    "start_time": "2022-11-02T12:55:07.926Z"
   },
   {
    "duration": 610,
    "start_time": "2022-11-02T12:56:25.056Z"
   },
   {
    "duration": 599,
    "start_time": "2022-11-02T12:58:04.706Z"
   },
   {
    "duration": 617,
    "start_time": "2022-11-02T12:58:34.973Z"
   },
   {
    "duration": 595,
    "start_time": "2022-11-02T12:59:06.273Z"
   },
   {
    "duration": 555,
    "start_time": "2022-11-02T12:59:32.023Z"
   },
   {
    "duration": 547,
    "start_time": "2022-11-02T13:00:02.539Z"
   },
   {
    "duration": 559,
    "start_time": "2022-11-02T13:00:35.856Z"
   },
   {
    "duration": 560,
    "start_time": "2022-11-02T13:01:32.905Z"
   },
   {
    "duration": 602,
    "start_time": "2022-11-02T13:01:52.721Z"
   },
   {
    "duration": 616,
    "start_time": "2022-11-02T13:03:00.504Z"
   },
   {
    "duration": 115,
    "start_time": "2022-11-02T13:03:14.633Z"
   },
   {
    "duration": 634,
    "start_time": "2022-11-02T13:03:28.340Z"
   },
   {
    "duration": 611,
    "start_time": "2022-11-02T13:04:29.012Z"
   },
   {
    "duration": 634,
    "start_time": "2022-11-02T13:05:00.468Z"
   },
   {
    "duration": 688,
    "start_time": "2022-11-02T13:06:06.487Z"
   },
   {
    "duration": 624,
    "start_time": "2022-11-02T13:07:36.093Z"
   },
   {
    "duration": 341,
    "start_time": "2022-11-02T13:08:52.741Z"
   },
   {
    "duration": 602,
    "start_time": "2022-11-02T13:09:29.018Z"
   },
   {
    "duration": 588,
    "start_time": "2022-11-02T13:10:19.895Z"
   },
   {
    "duration": 604,
    "start_time": "2022-11-02T13:10:57.534Z"
   },
   {
    "duration": 635,
    "start_time": "2022-11-02T13:13:11.495Z"
   },
   {
    "duration": 616,
    "start_time": "2022-11-02T13:16:27.362Z"
   },
   {
    "duration": 2,
    "start_time": "2022-11-02T13:18:04.894Z"
   },
   {
    "duration": 2325,
    "start_time": "2022-11-02T13:18:04.901Z"
   },
   {
    "duration": 4,
    "start_time": "2022-11-02T13:18:07.229Z"
   },
   {
    "duration": 22,
    "start_time": "2022-11-02T13:18:07.235Z"
   },
   {
    "duration": 32,
    "start_time": "2022-11-02T13:18:07.259Z"
   },
   {
    "duration": 7337,
    "start_time": "2022-11-02T13:18:07.293Z"
   },
   {
    "duration": 4,
    "start_time": "2022-11-02T13:18:14.632Z"
   },
   {
    "duration": 39,
    "start_time": "2022-11-02T13:18:14.638Z"
   },
   {
    "duration": 7,
    "start_time": "2022-11-02T13:18:14.679Z"
   },
   {
    "duration": 13,
    "start_time": "2022-11-02T13:18:14.688Z"
   },
   {
    "duration": 115,
    "start_time": "2022-11-02T13:18:14.704Z"
   },
   {
    "duration": 9,
    "start_time": "2022-11-02T13:18:14.820Z"
   },
   {
    "duration": 172,
    "start_time": "2022-11-02T13:18:14.830Z"
   },
   {
    "duration": 665,
    "start_time": "2022-11-02T13:18:15.005Z"
   },
   {
    "duration": 6983,
    "start_time": "2022-11-02T13:18:15.671Z"
   },
   {
    "duration": 43,
    "start_time": "2022-11-02T13:18:22.656Z"
   },
   {
    "duration": 51785,
    "start_time": "2022-11-02T13:18:22.700Z"
   },
   {
    "duration": 11,
    "start_time": "2022-11-02T13:19:14.486Z"
   },
   {
    "duration": 5,
    "start_time": "2022-11-02T13:19:14.498Z"
   },
   {
    "duration": 8,
    "start_time": "2022-11-02T13:19:14.504Z"
   },
   {
    "duration": 6,
    "start_time": "2022-11-02T13:19:14.513Z"
   },
   {
    "duration": 122,
    "start_time": "2022-11-02T13:19:14.520Z"
   },
   {
    "duration": 969,
    "start_time": "2022-11-02T13:19:14.643Z"
   },
   {
    "duration": 5,
    "start_time": "2022-11-02T13:19:15.613Z"
   },
   {
    "duration": 8,
    "start_time": "2022-11-02T13:19:15.620Z"
   },
   {
    "duration": 5,
    "start_time": "2022-11-02T13:20:01.351Z"
   },
   {
    "duration": 6,
    "start_time": "2022-11-02T13:20:07.974Z"
   },
   {
    "duration": 49,
    "start_time": "2022-11-16T11:14:44.321Z"
   },
   {
    "duration": 428,
    "start_time": "2022-11-16T11:14:47.681Z"
   },
   {
    "duration": 3635,
    "start_time": "2022-11-16T11:14:48.111Z"
   },
   {
    "duration": 301,
    "start_time": "2022-11-16T11:14:51.747Z"
   },
   {
    "duration": 3,
    "start_time": "2022-11-16T11:14:52.050Z"
   },
   {
    "duration": 133,
    "start_time": "2022-11-16T11:14:52.054Z"
   },
   {
    "duration": 7655,
    "start_time": "2022-11-16T11:14:52.189Z"
   },
   {
    "duration": 4,
    "start_time": "2022-11-16T11:14:59.846Z"
   },
   {
    "duration": 14,
    "start_time": "2022-11-16T11:14:59.851Z"
   },
   {
    "duration": 6,
    "start_time": "2022-11-16T11:14:59.867Z"
   },
   {
    "duration": 8,
    "start_time": "2022-11-16T11:14:59.897Z"
   },
   {
    "duration": 145,
    "start_time": "2022-11-16T11:14:59.907Z"
   },
   {
    "duration": 14,
    "start_time": "2022-11-16T11:15:00.054Z"
   },
   {
    "duration": 1208,
    "start_time": "2022-11-16T11:15:00.069Z"
   },
   {
    "duration": 0,
    "start_time": "2022-11-16T11:15:01.278Z"
   },
   {
    "duration": 0,
    "start_time": "2022-11-16T11:15:01.280Z"
   },
   {
    "duration": 0,
    "start_time": "2022-11-16T11:15:01.281Z"
   },
   {
    "duration": 0,
    "start_time": "2022-11-16T11:15:01.282Z"
   },
   {
    "duration": 0,
    "start_time": "2022-11-16T11:15:01.284Z"
   },
   {
    "duration": 0,
    "start_time": "2022-11-16T11:15:01.285Z"
   },
   {
    "duration": 0,
    "start_time": "2022-11-16T11:15:01.287Z"
   },
   {
    "duration": 0,
    "start_time": "2022-11-16T11:15:01.288Z"
   },
   {
    "duration": 0,
    "start_time": "2022-11-16T11:15:01.290Z"
   },
   {
    "duration": 0,
    "start_time": "2022-11-16T11:15:01.292Z"
   },
   {
    "duration": 0,
    "start_time": "2022-11-16T11:15:01.294Z"
   },
   {
    "duration": 0,
    "start_time": "2022-11-16T11:15:01.295Z"
   },
   {
    "duration": 177,
    "start_time": "2022-11-16T11:15:56.355Z"
   },
   {
    "duration": 308,
    "start_time": "2022-11-16T11:17:07.200Z"
   },
   {
    "duration": 305,
    "start_time": "2022-11-16T11:17:32.202Z"
   },
   {
    "duration": 228,
    "start_time": "2022-11-16T11:18:31.160Z"
   },
   {
    "duration": 277,
    "start_time": "2022-11-16T11:19:14.080Z"
   },
   {
    "duration": 3,
    "start_time": "2022-11-16T11:19:39.638Z"
   },
   {
    "duration": 2592,
    "start_time": "2022-11-16T11:19:39.643Z"
   },
   {
    "duration": 6,
    "start_time": "2022-11-16T11:19:42.239Z"
   },
   {
    "duration": 12,
    "start_time": "2022-11-16T11:19:42.247Z"
   },
   {
    "duration": 42,
    "start_time": "2022-11-16T11:19:42.261Z"
   },
   {
    "duration": 7972,
    "start_time": "2022-11-16T11:19:42.305Z"
   },
   {
    "duration": 18,
    "start_time": "2022-11-16T11:19:50.280Z"
   },
   {
    "duration": 12,
    "start_time": "2022-11-16T11:19:50.300Z"
   },
   {
    "duration": 9,
    "start_time": "2022-11-16T11:19:50.314Z"
   },
   {
    "duration": 7,
    "start_time": "2022-11-16T11:19:50.325Z"
   },
   {
    "duration": 195,
    "start_time": "2022-11-16T11:19:50.335Z"
   },
   {
    "duration": 10,
    "start_time": "2022-11-16T11:19:50.531Z"
   },
   {
    "duration": 187,
    "start_time": "2022-11-16T11:19:50.544Z"
   },
   {
    "duration": 607,
    "start_time": "2022-11-16T11:19:50.733Z"
   },
   {
    "duration": 6966,
    "start_time": "2022-11-16T11:19:51.341Z"
   },
   {
    "duration": 37,
    "start_time": "2022-11-16T11:19:58.309Z"
   },
   {
    "duration": 63841,
    "start_time": "2022-11-16T11:19:58.349Z"
   },
   {
    "duration": 11,
    "start_time": "2022-11-16T11:21:02.192Z"
   },
   {
    "duration": 33,
    "start_time": "2022-11-16T11:21:02.204Z"
   },
   {
    "duration": 49,
    "start_time": "2022-11-16T11:21:02.239Z"
   },
   {
    "duration": 38,
    "start_time": "2022-11-16T11:21:02.290Z"
   },
   {
    "duration": 44,
    "start_time": "2022-11-16T11:21:02.329Z"
   },
   {
    "duration": 0,
    "start_time": "2022-11-16T11:21:02.376Z"
   },
   {
    "duration": 0,
    "start_time": "2022-11-16T11:21:02.378Z"
   },
   {
    "duration": 0,
    "start_time": "2022-11-16T11:21:02.380Z"
   },
   {
    "duration": 102,
    "start_time": "2022-11-16T11:25:26.357Z"
   },
   {
    "duration": 1421,
    "start_time": "2022-11-16T11:25:28.774Z"
   },
   {
    "duration": 7,
    "start_time": "2022-11-16T11:25:40.952Z"
   },
   {
    "duration": 6,
    "start_time": "2022-11-16T11:25:42.966Z"
   },
   {
    "duration": 49,
    "start_time": "2022-11-30T20:20:05.526Z"
   },
   {
    "duration": 4185,
    "start_time": "2022-11-30T20:20:10.871Z"
   },
   {
    "duration": 130,
    "start_time": "2022-11-30T20:20:15.058Z"
   },
   {
    "duration": 8072,
    "start_time": "2022-11-30T20:20:15.190Z"
   },
   {
    "duration": 4,
    "start_time": "2022-11-30T20:20:23.264Z"
   },
   {
    "duration": 13,
    "start_time": "2022-11-30T20:20:23.270Z"
   },
   {
    "duration": 20,
    "start_time": "2022-11-30T20:20:23.285Z"
   },
   {
    "duration": 9,
    "start_time": "2022-11-30T20:20:23.308Z"
   },
   {
    "duration": 140,
    "start_time": "2022-11-30T20:20:23.319Z"
   },
   {
    "duration": 10,
    "start_time": "2022-11-30T20:20:23.460Z"
   },
   {
    "duration": 194,
    "start_time": "2022-11-30T20:20:23.473Z"
   },
   {
    "duration": 670,
    "start_time": "2022-11-30T20:20:23.669Z"
   },
   {
    "duration": 7301,
    "start_time": "2022-11-30T20:20:24.341Z"
   },
   {
    "duration": 26,
    "start_time": "2022-11-30T20:20:31.644Z"
   },
   {
    "duration": 52102,
    "start_time": "2022-11-30T20:20:31.672Z"
   },
   {
    "duration": 13,
    "start_time": "2022-11-30T20:21:23.776Z"
   },
   {
    "duration": 5,
    "start_time": "2022-11-30T20:21:23.790Z"
   },
   {
    "duration": 32,
    "start_time": "2022-11-30T20:21:23.797Z"
   },
   {
    "duration": 4,
    "start_time": "2022-11-30T20:21:23.832Z"
   },
   {
    "duration": 117,
    "start_time": "2022-11-30T20:21:23.838Z"
   },
   {
    "duration": 999,
    "start_time": "2022-11-30T20:21:23.957Z"
   },
   {
    "duration": 6,
    "start_time": "2022-11-30T20:21:24.958Z"
   },
   {
    "duration": 9,
    "start_time": "2022-11-30T20:21:24.969Z"
   },
   {
    "duration": 179,
    "start_time": "2022-11-30T20:24:26.748Z"
   },
   {
    "duration": 186,
    "start_time": "2022-11-30T20:24:35.261Z"
   },
   {
    "duration": 179,
    "start_time": "2022-11-30T20:24:48.341Z"
   },
   {
    "duration": 182,
    "start_time": "2022-11-30T20:25:31.147Z"
   },
   {
    "duration": 201,
    "start_time": "2022-11-30T20:25:44.298Z"
   },
   {
    "duration": 261,
    "start_time": "2022-11-30T20:26:26.120Z"
   },
   {
    "duration": 2260,
    "start_time": "2022-11-30T20:27:40.199Z"
   },
   {
    "duration": 116,
    "start_time": "2022-11-30T20:29:09.476Z"
   },
   {
    "duration": 11,
    "start_time": "2022-11-30T20:29:12.152Z"
   },
   {
    "duration": 258,
    "start_time": "2022-11-30T20:29:16.119Z"
   },
   {
    "duration": 180,
    "start_time": "2022-11-30T20:29:47.896Z"
   },
   {
    "duration": 11,
    "start_time": "2022-11-30T20:29:53.990Z"
   },
   {
    "duration": 240,
    "start_time": "2022-11-30T20:29:55.837Z"
   },
   {
    "duration": 252,
    "start_time": "2022-11-30T20:30:17.231Z"
   },
   {
    "duration": 545,
    "start_time": "2022-11-30T20:30:51.974Z"
   },
   {
    "duration": 223,
    "start_time": "2022-11-30T20:31:23.491Z"
   },
   {
    "duration": 284,
    "start_time": "2022-11-30T20:31:37.573Z"
   },
   {
    "duration": 220,
    "start_time": "2022-11-30T20:31:57.125Z"
   },
   {
    "duration": 216,
    "start_time": "2022-11-30T20:32:09.829Z"
   },
   {
    "duration": 230,
    "start_time": "2022-11-30T20:32:27.601Z"
   },
   {
    "duration": 222,
    "start_time": "2022-11-30T20:32:43.654Z"
   },
   {
    "duration": 228,
    "start_time": "2022-11-30T20:33:05.160Z"
   },
   {
    "duration": 224,
    "start_time": "2022-11-30T20:33:43.235Z"
   },
   {
    "duration": 215,
    "start_time": "2022-11-30T20:33:54.536Z"
   },
   {
    "duration": 234,
    "start_time": "2022-11-30T20:34:45.485Z"
   },
   {
    "duration": 239,
    "start_time": "2022-11-30T20:36:28.803Z"
   },
   {
    "duration": 245,
    "start_time": "2022-11-30T20:36:42.619Z"
   },
   {
    "duration": 247,
    "start_time": "2022-11-30T20:36:51.290Z"
   },
   {
    "duration": 224,
    "start_time": "2022-11-30T20:39:19.939Z"
   },
   {
    "duration": 255,
    "start_time": "2022-11-30T20:39:34.335Z"
   },
   {
    "duration": 243,
    "start_time": "2022-11-30T20:42:07.842Z"
   },
   {
    "duration": 230,
    "start_time": "2022-11-30T20:42:24.447Z"
   },
   {
    "duration": 240,
    "start_time": "2022-11-30T20:42:47.524Z"
   },
   {
    "duration": 225,
    "start_time": "2022-11-30T20:42:56.608Z"
   },
   {
    "duration": 633,
    "start_time": "2022-11-30T20:44:23.546Z"
   },
   {
    "duration": 634,
    "start_time": "2022-11-30T20:44:33.888Z"
   },
   {
    "duration": 846,
    "start_time": "2022-11-30T20:44:54.505Z"
   },
   {
    "duration": 46232,
    "start_time": "2022-11-30T20:46:40.075Z"
   },
   {
    "duration": 187,
    "start_time": "2022-11-30T20:49:23.201Z"
   },
   {
    "duration": 17,
    "start_time": "2022-11-30T20:50:09.387Z"
   },
   {
    "duration": 15,
    "start_time": "2022-11-30T20:50:21.150Z"
   },
   {
    "duration": 14,
    "start_time": "2022-11-30T20:50:26.655Z"
   },
   {
    "duration": 11,
    "start_time": "2022-11-30T20:50:38.676Z"
   },
   {
    "duration": 35,
    "start_time": "2022-11-30T20:50:51.429Z"
   },
   {
    "duration": 240,
    "start_time": "2022-11-30T20:51:05.883Z"
   },
   {
    "duration": 68705,
    "start_time": "2022-11-30T20:52:06.698Z"
   },
   {
    "duration": 2279,
    "start_time": "2022-11-30T20:54:59.104Z"
   },
   {
    "duration": 131153,
    "start_time": "2022-11-30T20:56:31.301Z"
   },
   {
    "duration": 97263,
    "start_time": "2022-11-30T21:04:54.839Z"
   },
   {
    "duration": 4,
    "start_time": "2022-11-30T21:09:37.508Z"
   },
   {
    "duration": 3,
    "start_time": "2022-11-30T21:09:39.744Z"
   },
   {
    "duration": 239,
    "start_time": "2022-11-30T21:09:43.793Z"
   },
   {
    "duration": 19,
    "start_time": "2022-11-30T21:09:53.923Z"
   },
   {
    "duration": 14904,
    "start_time": "2022-11-30T23:17:25.868Z"
   },
   {
    "duration": 120,
    "start_time": "2022-11-30T23:17:40.774Z"
   },
   {
    "duration": 7165,
    "start_time": "2022-11-30T23:17:40.896Z"
   },
   {
    "duration": 3,
    "start_time": "2022-11-30T23:17:48.063Z"
   },
   {
    "duration": 11,
    "start_time": "2022-11-30T23:17:48.068Z"
   },
   {
    "duration": 22,
    "start_time": "2022-11-30T23:17:48.081Z"
   },
   {
    "duration": 18,
    "start_time": "2022-11-30T23:17:48.105Z"
   },
   {
    "duration": 178,
    "start_time": "2022-11-30T23:17:48.125Z"
   },
   {
    "duration": 19,
    "start_time": "2022-11-30T23:17:48.305Z"
   },
   {
    "duration": 230,
    "start_time": "2022-11-30T23:17:48.326Z"
   },
   {
    "duration": 593,
    "start_time": "2022-11-30T23:17:48.557Z"
   },
   {
    "duration": 41076,
    "start_time": "2022-11-30T23:17:49.151Z"
   },
   {
    "duration": 31,
    "start_time": "2022-11-30T23:18:30.228Z"
   },
   {
    "duration": 88473,
    "start_time": "2022-11-30T23:18:30.261Z"
   },
   {
    "duration": 118990,
    "start_time": "2022-11-30T23:19:58.735Z"
   },
   {
    "duration": 15,
    "start_time": "2022-11-30T23:21:57.727Z"
   },
   {
    "duration": 3,
    "start_time": "2022-11-30T23:21:57.743Z"
   },
   {
    "duration": 6,
    "start_time": "2022-11-30T23:21:57.747Z"
   },
   {
    "duration": 225,
    "start_time": "2022-11-30T23:21:57.755Z"
   },
   {
    "duration": 4,
    "start_time": "2022-11-30T23:21:57.981Z"
   },
   {
    "duration": 13,
    "start_time": "2022-11-30T23:21:57.987Z"
   },
   {
    "duration": 5,
    "start_time": "2022-11-30T23:22:59.230Z"
   },
   {
    "duration": 216,
    "start_time": "2022-11-30T23:24:45.123Z"
   },
   {
    "duration": 9,
    "start_time": "2022-11-30T23:24:54.541Z"
   },
   {
    "duration": 205,
    "start_time": "2022-11-30T23:24:56.174Z"
   },
   {
    "duration": 5832,
    "start_time": "2022-11-30T23:24:59.126Z"
   },
   {
    "duration": 41645,
    "start_time": "2022-11-30T23:25:57.918Z"
   },
   {
    "duration": 170,
    "start_time": "2022-11-30T23:26:55.782Z"
   },
   {
    "duration": 99430,
    "start_time": "2022-11-30T23:27:17.287Z"
   },
   {
    "duration": 17,
    "start_time": "2022-11-30T23:28:56.722Z"
   },
   {
    "duration": 181,
    "start_time": "2022-11-30T23:29:12.985Z"
   },
   {
    "duration": 10,
    "start_time": "2022-11-30T23:29:14.819Z"
   },
   {
    "duration": 213,
    "start_time": "2022-11-30T23:29:16.001Z"
   },
   {
    "duration": 608,
    "start_time": "2022-11-30T23:29:18.550Z"
   },
   {
    "duration": 42132,
    "start_time": "2022-11-30T23:29:32.123Z"
   },
   {
    "duration": 97766,
    "start_time": "2022-11-30T23:30:14.256Z"
   },
   {
    "duration": 33,
    "start_time": "2022-11-30T23:31:52.024Z"
   },
   {
    "duration": 18960,
    "start_time": "2022-12-01T14:55:31.746Z"
   },
   {
    "duration": 88,
    "start_time": "2022-12-01T14:55:50.709Z"
   },
   {
    "duration": 9001,
    "start_time": "2022-12-01T14:55:50.799Z"
   },
   {
    "duration": 6,
    "start_time": "2022-12-01T14:55:59.803Z"
   },
   {
    "duration": 30,
    "start_time": "2022-12-01T14:55:59.810Z"
   },
   {
    "duration": 33,
    "start_time": "2022-12-01T14:55:59.856Z"
   },
   {
    "duration": 20,
    "start_time": "2022-12-01T14:55:59.891Z"
   },
   {
    "duration": 244,
    "start_time": "2022-12-01T14:55:59.913Z"
   },
   {
    "duration": 19,
    "start_time": "2022-12-01T14:56:00.159Z"
   },
   {
    "duration": 300,
    "start_time": "2022-12-01T14:56:00.183Z"
   },
   {
    "duration": 807,
    "start_time": "2022-12-01T14:56:00.485Z"
   },
   {
    "duration": 51869,
    "start_time": "2022-12-01T14:56:01.294Z"
   },
   {
    "duration": 51,
    "start_time": "2022-12-01T14:56:53.166Z"
   },
   {
    "duration": 120702,
    "start_time": "2022-12-01T14:56:53.219Z"
   },
   {
    "duration": 146152,
    "start_time": "2022-12-01T14:58:53.922Z"
   },
   {
    "duration": 7,
    "start_time": "2022-12-01T15:01:20.077Z"
   },
   {
    "duration": 27,
    "start_time": "2022-12-01T15:01:20.086Z"
   },
   {
    "duration": 89,
    "start_time": "2022-12-01T15:01:20.115Z"
   },
   {
    "duration": 0,
    "start_time": "2022-12-01T15:01:20.206Z"
   },
   {
    "duration": 4,
    "start_time": "2022-12-01T15:02:39.405Z"
   },
   {
    "duration": 265,
    "start_time": "2022-12-01T15:02:47.913Z"
   },
   {
    "duration": 16053,
    "start_time": "2022-12-01T15:36:48.141Z"
   },
   {
    "duration": 135,
    "start_time": "2022-12-01T15:37:04.196Z"
   },
   {
    "duration": 7963,
    "start_time": "2022-12-01T15:37:04.333Z"
   },
   {
    "duration": 3,
    "start_time": "2022-12-01T15:37:12.298Z"
   },
   {
    "duration": 16,
    "start_time": "2022-12-01T15:37:12.303Z"
   },
   {
    "duration": 29,
    "start_time": "2022-12-01T15:37:12.320Z"
   },
   {
    "duration": 7,
    "start_time": "2022-12-01T15:37:12.351Z"
   },
   {
    "duration": 192,
    "start_time": "2022-12-01T15:37:12.360Z"
   },
   {
    "duration": 10,
    "start_time": "2022-12-01T15:37:12.555Z"
   },
   {
    "duration": 253,
    "start_time": "2022-12-01T15:37:12.568Z"
   },
   {
    "duration": 594,
    "start_time": "2022-12-01T15:37:12.823Z"
   },
   {
    "duration": 43420,
    "start_time": "2022-12-01T15:37:13.418Z"
   },
   {
    "duration": 46,
    "start_time": "2022-12-01T15:37:56.840Z"
   },
   {
    "duration": 105900,
    "start_time": "2022-12-01T15:37:56.888Z"
   },
   {
    "duration": 129659,
    "start_time": "2022-12-01T15:39:42.790Z"
   },
   {
    "duration": 5,
    "start_time": "2022-12-01T15:41:52.450Z"
   },
   {
    "duration": 13,
    "start_time": "2022-12-01T15:41:52.456Z"
   },
   {
    "duration": 6,
    "start_time": "2022-12-01T15:41:52.471Z"
   },
   {
    "duration": 250,
    "start_time": "2022-12-01T15:41:52.479Z"
   }
  ],
  "kernelspec": {
   "display_name": "Python 3 (ipykernel)",
   "language": "python",
   "name": "python3"
  },
  "language_info": {
   "codemirror_mode": {
    "name": "ipython",
    "version": 3
   },
   "file_extension": ".py",
   "mimetype": "text/x-python",
   "name": "python",
   "nbconvert_exporter": "python",
   "pygments_lexer": "ipython3",
   "version": "3.10.6"
  },
  "toc": {
   "base_numbering": 1,
   "nav_menu": {},
   "number_sections": true,
   "sideBar": true,
   "skip_h1_title": true,
   "title_cell": "Содержание",
   "title_sidebar": "Contents",
   "toc_cell": true,
   "toc_position": {
    "height": "calc(100% - 180px)",
    "left": "10px",
    "top": "150px",
    "width": "303.817px"
   },
   "toc_section_display": true,
   "toc_window_display": true
  }
 },
 "nbformat": 4,
 "nbformat_minor": 2
}
